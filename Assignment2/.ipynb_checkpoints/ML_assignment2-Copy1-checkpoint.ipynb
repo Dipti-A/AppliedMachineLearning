{
 "cells": [
  {
   "cell_type": "code",
   "execution_count": 146,
   "metadata": {},
   "outputs": [],
   "source": [
    "import pandas as pd\n",
    "from sklearn.feature_extraction import DictVectorizer\n",
    "from sklearn.model_selection import cross_val_score\n",
    "from sklearn import tree\n",
    "from sklearn.pipeline import make_pipeline\n",
    "from sklearn.metrics import accuracy_score\n",
    "from sklearn.ensemble import RandomForestClassifier\n",
    "import matplotlib.pyplot as plt"
   ]
  },
  {
   "cell_type": "markdown",
   "metadata": {},
   "source": [
    "## Step 1. Reading the data"
   ]
  },
  {
   "cell_type": "code",
   "execution_count": 16,
   "metadata": {},
   "outputs": [
    {
     "data": {
      "text/html": [
       "<div>\n",
       "<style scoped>\n",
       "    .dataframe tbody tr th:only-of-type {\n",
       "        vertical-align: middle;\n",
       "    }\n",
       "\n",
       "    .dataframe tbody tr th {\n",
       "        vertical-align: top;\n",
       "    }\n",
       "\n",
       "    .dataframe thead th {\n",
       "        text-align: right;\n",
       "    }\n",
       "</style>\n",
       "<table border=\"1\" class=\"dataframe\">\n",
       "  <thead>\n",
       "    <tr style=\"text-align: right;\">\n",
       "      <th></th>\n",
       "      <th>age</th>\n",
       "      <th>workclass</th>\n",
       "      <th>fnlwgt</th>\n",
       "      <th>education</th>\n",
       "      <th>education-num</th>\n",
       "      <th>marital-status</th>\n",
       "      <th>occupation</th>\n",
       "      <th>relationship</th>\n",
       "      <th>race</th>\n",
       "      <th>sex</th>\n",
       "      <th>capital-gain</th>\n",
       "      <th>capital-loss</th>\n",
       "      <th>hours-per-week</th>\n",
       "      <th>native-country</th>\n",
       "      <th>target</th>\n",
       "    </tr>\n",
       "  </thead>\n",
       "  <tbody>\n",
       "    <tr>\n",
       "      <th>0</th>\n",
       "      <td>27</td>\n",
       "      <td>Private</td>\n",
       "      <td>177119</td>\n",
       "      <td>Some-college</td>\n",
       "      <td>10</td>\n",
       "      <td>Divorced</td>\n",
       "      <td>Adm-clerical</td>\n",
       "      <td>Unmarried</td>\n",
       "      <td>White</td>\n",
       "      <td>Female</td>\n",
       "      <td>0</td>\n",
       "      <td>0</td>\n",
       "      <td>44</td>\n",
       "      <td>United-States</td>\n",
       "      <td>&lt;=50K</td>\n",
       "    </tr>\n",
       "    <tr>\n",
       "      <th>1</th>\n",
       "      <td>27</td>\n",
       "      <td>Private</td>\n",
       "      <td>216481</td>\n",
       "      <td>Bachelors</td>\n",
       "      <td>13</td>\n",
       "      <td>Never-married</td>\n",
       "      <td>Prof-specialty</td>\n",
       "      <td>Not-in-family</td>\n",
       "      <td>White</td>\n",
       "      <td>Female</td>\n",
       "      <td>0</td>\n",
       "      <td>0</td>\n",
       "      <td>40</td>\n",
       "      <td>United-States</td>\n",
       "      <td>&lt;=50K</td>\n",
       "    </tr>\n",
       "    <tr>\n",
       "      <th>2</th>\n",
       "      <td>25</td>\n",
       "      <td>Private</td>\n",
       "      <td>256263</td>\n",
       "      <td>Assoc-acdm</td>\n",
       "      <td>12</td>\n",
       "      <td>Married-civ-spouse</td>\n",
       "      <td>Sales</td>\n",
       "      <td>Husband</td>\n",
       "      <td>White</td>\n",
       "      <td>Male</td>\n",
       "      <td>0</td>\n",
       "      <td>0</td>\n",
       "      <td>40</td>\n",
       "      <td>United-States</td>\n",
       "      <td>&lt;=50K</td>\n",
       "    </tr>\n",
       "    <tr>\n",
       "      <th>3</th>\n",
       "      <td>46</td>\n",
       "      <td>Private</td>\n",
       "      <td>147640</td>\n",
       "      <td>5th-6th</td>\n",
       "      <td>3</td>\n",
       "      <td>Married-civ-spouse</td>\n",
       "      <td>Transport-moving</td>\n",
       "      <td>Husband</td>\n",
       "      <td>Amer-Indian-Eskimo</td>\n",
       "      <td>Male</td>\n",
       "      <td>0</td>\n",
       "      <td>1902</td>\n",
       "      <td>40</td>\n",
       "      <td>United-States</td>\n",
       "      <td>&lt;=50K</td>\n",
       "    </tr>\n",
       "    <tr>\n",
       "      <th>4</th>\n",
       "      <td>45</td>\n",
       "      <td>Private</td>\n",
       "      <td>172822</td>\n",
       "      <td>11th</td>\n",
       "      <td>7</td>\n",
       "      <td>Divorced</td>\n",
       "      <td>Transport-moving</td>\n",
       "      <td>Not-in-family</td>\n",
       "      <td>White</td>\n",
       "      <td>Male</td>\n",
       "      <td>0</td>\n",
       "      <td>2824</td>\n",
       "      <td>76</td>\n",
       "      <td>United-States</td>\n",
       "      <td>&gt;50K</td>\n",
       "    </tr>\n",
       "  </tbody>\n",
       "</table>\n",
       "</div>"
      ],
      "text/plain": [
       "   age workclass  fnlwgt     education  education-num      marital-status  \\\n",
       "0   27   Private  177119  Some-college             10            Divorced   \n",
       "1   27   Private  216481     Bachelors             13       Never-married   \n",
       "2   25   Private  256263    Assoc-acdm             12  Married-civ-spouse   \n",
       "3   46   Private  147640       5th-6th              3  Married-civ-spouse   \n",
       "4   45   Private  172822          11th              7            Divorced   \n",
       "\n",
       "         occupation   relationship                race     sex  capital-gain  \\\n",
       "0      Adm-clerical      Unmarried               White  Female             0   \n",
       "1    Prof-specialty  Not-in-family               White  Female             0   \n",
       "2             Sales        Husband               White    Male             0   \n",
       "3  Transport-moving        Husband  Amer-Indian-Eskimo    Male             0   \n",
       "4  Transport-moving  Not-in-family               White    Male             0   \n",
       "\n",
       "   capital-loss  hours-per-week native-country target  \n",
       "0             0              44  United-States  <=50K  \n",
       "1             0              40  United-States  <=50K  \n",
       "2             0              40  United-States  <=50K  \n",
       "3          1902              40  United-States  <=50K  \n",
       "4          2824              76  United-States   >50K  "
      ]
     },
     "execution_count": 16,
     "metadata": {},
     "output_type": "execute_result"
    }
   ],
   "source": [
    "# Read the CSV file.\n",
    "data_train = pd.read_csv(\"adult_train.csv\")\n",
    "data_test = pd.read_csv(\"adult_test.csv\")\n",
    "\n",
    "data_train.head()\n"
   ]
  },
  {
   "cell_type": "markdown",
   "metadata": {},
   "source": [
    "# We need to handle missing data as well..."
   ]
  },
  {
   "cell_type": "code",
   "execution_count": 135,
   "metadata": {},
   "outputs": [
    {
     "data": {
      "text/plain": [
       "0    <=50K\n",
       "1    <=50K\n",
       "2     >50K\n",
       "3     >50K\n",
       "4    <=50K\n",
       "Name: target, dtype: object"
      ]
     },
     "execution_count": 135,
     "metadata": {},
     "output_type": "execute_result"
    }
   ],
   "source": [
    "# Split into input part X and output part Y.\n",
    "X_train = data_train.drop('target', axis=1)\n",
    "Y_train = data_train['target']\n",
    "\n",
    "X_test = data_test.drop('target', axis=1)\n",
    "\n",
    "Y_test = data_test['target']\n",
    "#Y_test.value_counts()\n",
    "Y_test.head()\n"
   ]
  },
  {
   "cell_type": "code",
   "execution_count": null,
   "metadata": {},
   "outputs": [],
   "source": []
  },
  {
   "cell_type": "markdown",
   "metadata": {},
   "source": [
    "## Step 2: Encoding the features as numbers."
   ]
  },
  {
   "cell_type": "code",
   "execution_count": 128,
   "metadata": {},
   "outputs": [],
   "source": [
    "# The result - X_train_dict is a list of dictionaries, among which each dictionary represent one sample.\n",
    "X_train_dict = X_train.to_dict('records')\n",
    "\n",
    "dv = DictVectorizer()\n",
    "\n",
    "# Each row represents a sample and each column represents a feature.\n",
    "X_train_encoded = dv.fit_transform(X_train_dict)\n"
   ]
  },
  {
   "cell_type": "code",
   "execution_count": 70,
   "metadata": {},
   "outputs": [
    {
     "data": {
      "text/plain": [
       "array([0.81498541, 0.8252457 , 0.81772113, 0.81219287, 0.81388206])"
      ]
     },
     "execution_count": 70,
     "metadata": {},
     "output_type": "execute_result"
    }
   ],
   "source": [
    "# Since our vectorizer is already trained we will only use transform function\n",
    "X_test_dict = X_test.to_dict('records')\n",
    "\n",
    "X_test_encoded = dv.transform(X_test_dict)\n",
    "\n",
    "# Calculating cross validation score using Decision Tree classifier\n",
    "model= tree.DecisionTreeClassifier()\n",
    "\n",
    "# Calculating the score for training data\n",
    "cross_val_score(model, X_train_encoded, Y_train)"
   ]
  },
  {
   "cell_type": "code",
   "execution_count": 91,
   "metadata": {},
   "outputs": [
    {
     "name": "stdout",
     "output_type": "stream",
     "text": [
      "0.8111295374976967\n"
     ]
    }
   ],
   "source": [
    "# Create a pipeline with preprocessor and classifier\n",
    "pipeline = make_pipeline(\n",
    "  DictVectorizer(),\n",
    "  tree.DecisionTreeClassifier()\n",
    ")\n",
    "pipeline.fit(X_train_dict, Y_train)\n",
    "\n",
    "# Predict the target for test data\n",
    "Y_test_pred = pipeline.predict(X_test_dict)\n",
    "\n",
    "# calculate the accuracy score of true vs predicted values\n",
    "print(accuracy_score(Y_test, Y_test_pred))"
   ]
  },
  {
   "cell_type": "markdown",
   "metadata": {},
   "source": [
    "## Task 2: Decision trees and random forests"
   ]
  },
  {
   "cell_type": "markdown",
   "metadata": {},
   "source": [
    "## 2.1 Underfitting and overfitting in Decision tree classifiers. "
   ]
  },
  {
   "cell_type": "markdown",
   "metadata": {},
   "source": [
    "### a. Evaluating Training data set for different max_depths"
   ]
  },
  {
   "cell_type": "code",
   "execution_count": 109,
   "metadata": {},
   "outputs": [
    {
     "name": "stdout",
     "output_type": "stream",
     "text": [
      "[0.7591904425539756, 0.8282300912134148, 0.8438930008292128, 0.8439544240041768, 0.8520929946868954, 0.8569454255090445, 0.8586345628205522, 0.8606308160068794, 0.8639783790424127, 0.8704278124136237, 0.8748502810110255, 0.8799176929455483]\n"
     ]
    }
   ],
   "source": [
    "maxdepth=13\n",
    "list_train_scores=[]\n",
    "\n",
    "for i in range(1, maxdepth):\n",
    "    # Create a pipeline with preprocessor and classifier with max_depth as i\n",
    "    pipeline = make_pipeline(\n",
    "      DictVectorizer(),\n",
    "      tree.DecisionTreeClassifier(max_depth=i)\n",
    "    )\n",
    "    pipeline.fit(X_train_dict, Y_train)\n",
    "\n",
    "    # Predict the target for training data\n",
    "    Y_train_pred = pipeline.predict(X_train_dict)\n",
    "\n",
    "    # calculate the evaluation score on the training set \n",
    "    list_train_scores.append(accuracy_score(Y_train, Y_train_pred))\n",
    "\n",
    "print(list_train_scores)"
   ]
  },
  {
   "cell_type": "markdown",
   "metadata": {},
   "source": [
    "### b. Evaluating Test data set for different max_depths"
   ]
  },
  {
   "cell_type": "code",
   "execution_count": 127,
   "metadata": {},
   "outputs": [
    {
     "name": "stdout",
     "output_type": "stream",
     "text": [
      "[0.7637737239727289, 0.8306615072784227, 0.8447884036607088, 0.8446655610834716, 0.8520361157177078, 0.8573183465389104, 0.8563356059210122, 0.8565812910754868, 0.8579325594250967, 0.8603894109698421, 0.8576868742706222, 0.85553712916897]\n"
     ]
    }
   ],
   "source": [
    "maxdepth=13\n",
    "list_test_scores=[]\n",
    "\n",
    "for i in range(1, maxdepth):\n",
    "    # Create a pipeline with preprocessor and classifier with max_depth as i\n",
    "    pipeline = make_pipeline(\n",
    "      DictVectorizer(),\n",
    "      tree.DecisionTreeClassifier(max_depth=i)\n",
    "    )\n",
    "    pipeline.fit(X_train_dict, Y_train)\n",
    "\n",
    "    # Predict the target for test data\n",
    "    Y_test_pred = pipeline.predict(X_test_dict)\n",
    "\n",
    "    # calculate the evaluation score on the test set \n",
    "    list_test_scores.append(accuracy_score(Y_test, Y_test_pred))\n",
    "\n",
    "print(list_test_scores)"
   ]
  },
  {
   "cell_type": "markdown",
   "metadata": {},
   "source": [
    "### c. Plotting accuracy score Vs max_depth for training data"
   ]
  },
  {
   "cell_type": "code",
   "execution_count": 125,
   "metadata": {},
   "outputs": [
    {
     "data": {
      "image/png": "[encoded data removed]",
      "text/plain": [
       "<Figure size 432x288 with 1 Axes>"
      ]
     },
     "metadata": {
      "needs_background": "light"
     },
     "output_type": "display_data"
    }
   ],
   "source": [
    "y_axis = list(range(1,maxdepth))\n",
    "plt.scatter(x=list_train_scores, y=y_axis, c =\"blue\") \n",
    "  \n",
    "# To show the plot \n",
    "plt.xlabel(\"Accuracy score of training data\", size=12) \n",
    "plt.ylabel(\"Parameter max_depth\", size=12)\n",
    "plt.show() "
   ]
  },
  {
   "cell_type": "markdown",
   "metadata": {},
   "source": [
    "### d. Plotting accuracy score Vs max_depth for Test data"
   ]
  },
  {
   "cell_type": "code",
   "execution_count": 126,
   "metadata": {},
   "outputs": [
    {
     "data": {
      "image/png": "[encoded data removed]",
      "text/plain": [
       "<Figure size 432x288 with 1 Axes>"
      ]
     },
     "metadata": {
      "needs_background": "light"
     },
     "output_type": "display_data"
    }
   ],
   "source": [
    "plt.scatter(x=list_test_scores, y=y_axis, c =\"orange\") \n",
    "  \n",
    "# To show the plot\n",
    "plt.xlabel(\"Accuracy score of test data\", size=12) \n",
    "plt.ylabel(\"Parameter max_depth\", size=12)\n",
    "plt.show() "
   ]
  },
  {
   "cell_type": "markdown",
   "metadata": {},
   "source": [
    "### e. Plotting accuracy Vs max_depth for both Training and Test data together"
   ]
  },
  {
   "cell_type": "code",
   "execution_count": 143,
   "metadata": {},
   "outputs": [
    {
     "data": {
      "image/png": "[encoded data removed]",
      "text/plain": [
       "<Figure size 432x288 with 1 Axes>"
      ]
     },
     "metadata": {
      "needs_background": "light"
     },
     "output_type": "display_data"
    }
   ],
   "source": [
    "ax = plt.gca()\n",
    "ax.scatter(x=list_train_scores, y=y_axis, c =\"blue\") \n",
    "ax.scatter(x=list_test_scores, y=y_axis, c =\"orange\")\n",
    "ax.set_xlabel(\"Accuracy score\", size=12) \n",
    "ax.set_ylabel(\"Parameter max_depth\", size=12)\n",
    "ax.legend({'Training Set','Test Set'})\n",
    "plt.show() \n"
   ]
  },
  {
   "cell_type": "markdown",
   "metadata": {},
   "source": [
    "## 2.1 Underfitting and overfitting in random forest classifiers. \n",
    "### a. Replace the DecisionTreeClassifier with a RandomForestClassifier"
   ]
  },
  {
   "cell_type": "code",
   "execution_count": 161,
   "metadata": {},
   "outputs": [
    {
     "name": "stdout",
     "output_type": "stream",
     "text": [
      "0.8506234260794792\n"
     ]
    }
   ],
   "source": [
    "\n",
    "\n",
    "# Create a pipeline with preprocessor and classifier with RandomForest\n",
    "pipeline_r = make_pipeline(\n",
    "  DictVectorizer(),\n",
    "  RandomForestClassifier()\n",
    ")\n",
    "pipeline_r.fit(X_train_dict, Y_train)\n",
    "\n",
    "# Predict the target for test data\n",
    "Y_test_pred = pipeline_r.predict(X_test_dict)\n",
    "\n",
    "# calculate the accuracy score of true vs predicted values\n",
    "print(accuracy_score(Y_test, Y_test_pred))"
   ]
  },
  {
   "cell_type": "code",
   "execution_count": 160,
   "metadata": {},
   "outputs": [
    {
     "name": "stdout",
     "output_type": "stream",
     "text": [
      "0.8520361157177078\n"
     ]
    }
   ],
   "source": [
    "m =  RandomForestClassifier()\n",
    "m.fit(X_train_encoded,Y_train)\n",
    "Y_test_pred = m.predict(X_test_encoded)\n",
    "#m.score(X_test_encoded,Y_test)\n",
    "\n",
    "print(accuracy_score(Y_test, Y_test_pred))"
   ]
  },
  {
   "cell_type": "code",
   "execution_count": null,
   "metadata": {},
   "outputs": [],
   "source": []
  },
  {
   "cell_type": "code",
   "execution_count": null,
   "metadata": {},
   "outputs": [],
   "source": []
  }
 ],
 "metadata": {
  "kernelspec": {
   "display_name": "Python 3",
   "language": "python",
   "name": "python3"
  },
  "language_info": {
   "codemirror_mode": {
    "name": "ipython",
    "version": 3
   },
   "file_extension": ".py",
   "mimetype": "text/x-python",
   "name": "python",
   "nbconvert_exporter": "python",
   "pygments_lexer": "ipython3",
   "version": "3.8.3"
  }
 },
 "nbformat": 4,
 "nbformat_minor": 4
}
