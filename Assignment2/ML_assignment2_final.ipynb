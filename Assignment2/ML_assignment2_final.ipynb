{
 "cells": [
  {
   "cell_type": "markdown",
   "metadata": {
    "id": "7b6nBta82Vsz"
   },
   "source": [
    "# **Applied Machine Learning**\n",
    "# **Programming assignment 2: Random forests**\n",
    "**Group AD**\n",
    "\n",
    "Dipti Aswal(gusaswdi@student.gu.se)\n",
    "\n",
    "Atefeh Aminmoghaddam(gusamiat@student.gu.se)"
   ]
  },
  {
   "cell_type": "code",
   "execution_count": null,
   "metadata": {
    "id": "prFGnDCq2HU8"
   },
   "outputs": [],
   "source": [
    "import pandas as pd\n",
    "from sklearn.feature_extraction import DictVectorizer\n",
    "from sklearn.model_selection import cross_val_score\n",
    "from sklearn import tree\n",
    "from sklearn.pipeline import make_pipeline\n",
    "from sklearn.metrics import accuracy_score\n",
    "from sklearn.ensemble import RandomForestClassifier\n",
    "import matplotlib.pyplot as plt\n",
    "from sklearn.neural_network import MLPClassifier\n",
    "from sklearn.linear_model import LogisticRegression\n"
   ]
  },
  {
   "cell_type": "markdown",
   "metadata": {
    "id": "KhKZ8Bp53DQw"
   },
   "source": [
    "# Task 1: Working with a dataset with categorical features"
   ]
  },
  {
   "cell_type": "markdown",
   "metadata": {
    "id": "mxg6f0jkaJj9"
   },
   "source": [
    "## Step 1. Reading the data"
   ]
  },
  {
   "cell_type": "code",
   "execution_count": null,
   "metadata": {
    "colab": {
     "base_uri": "https://localhost:8080/",
     "height": 252,
     "resources": {
      "http://localhost:8080/nbextensions/google.colab/files.js": {
       "data": "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",
       "headers": [
        [
         "content-type",
         "application/javascript"
        ]
       ],
       "ok": true,
       "status": 200,
       "status_text": ""
      }
     }
    },
    "id": "isJOzDNn3eGm",
    "outputId": "8c333033-2846-49b5-e759-182dc09f2fcf"
   },
   "outputs": [
    {
     "data": {
      "text/html": [
       "\n",
       "     <input type=\"file\" id=\"files-73db71db-1fed-4c5d-aa0f-f83fbd14dbbc\" name=\"files[]\" multiple disabled\n",
       "        style=\"border:none\" />\n",
       "     <output id=\"result-73db71db-1fed-4c5d-aa0f-f83fbd14dbbc\">\n",
       "      Upload widget is only available when the cell has been executed in the\n",
       "      current browser session. Please rerun this cell to enable.\n",
       "      </output>\n",
       "      <script src=\"/nbextensions/google.colab/files.js\"></script> "
      ],
      "text/plain": [
       "<IPython.core.display.HTML object>"
      ]
     },
     "metadata": {
      "tags": []
     },
     "output_type": "display_data"
    },
    {
     "name": "stdout",
     "output_type": "stream",
     "text": [
      "Saving adult_train.csv to adult_train.csv\n"
     ]
    },
    {
     "data": {
      "text/html": [
       "<div>\n",
       "<style scoped>\n",
       "    .dataframe tbody tr th:only-of-type {\n",
       "        vertical-align: middle;\n",
       "    }\n",
       "\n",
       "    .dataframe tbody tr th {\n",
       "        vertical-align: top;\n",
       "    }\n",
       "\n",
       "    .dataframe thead th {\n",
       "        text-align: right;\n",
       "    }\n",
       "</style>\n",
       "<table border=\"1\" class=\"dataframe\">\n",
       "  <thead>\n",
       "    <tr style=\"text-align: right;\">\n",
       "      <th></th>\n",
       "      <th>age</th>\n",
       "      <th>workclass</th>\n",
       "      <th>fnlwgt</th>\n",
       "      <th>education</th>\n",
       "      <th>education-num</th>\n",
       "      <th>marital-status</th>\n",
       "      <th>occupation</th>\n",
       "      <th>relationship</th>\n",
       "      <th>race</th>\n",
       "      <th>sex</th>\n",
       "      <th>capital-gain</th>\n",
       "      <th>capital-loss</th>\n",
       "      <th>hours-per-week</th>\n",
       "      <th>native-country</th>\n",
       "      <th>target</th>\n",
       "    </tr>\n",
       "  </thead>\n",
       "  <tbody>\n",
       "    <tr>\n",
       "      <th>0</th>\n",
       "      <td>27</td>\n",
       "      <td>Private</td>\n",
       "      <td>177119</td>\n",
       "      <td>Some-college</td>\n",
       "      <td>10</td>\n",
       "      <td>Divorced</td>\n",
       "      <td>Adm-clerical</td>\n",
       "      <td>Unmarried</td>\n",
       "      <td>White</td>\n",
       "      <td>Female</td>\n",
       "      <td>0</td>\n",
       "      <td>0</td>\n",
       "      <td>44</td>\n",
       "      <td>United-States</td>\n",
       "      <td>&lt;=50K</td>\n",
       "    </tr>\n",
       "    <tr>\n",
       "      <th>1</th>\n",
       "      <td>27</td>\n",
       "      <td>Private</td>\n",
       "      <td>216481</td>\n",
       "      <td>Bachelors</td>\n",
       "      <td>13</td>\n",
       "      <td>Never-married</td>\n",
       "      <td>Prof-specialty</td>\n",
       "      <td>Not-in-family</td>\n",
       "      <td>White</td>\n",
       "      <td>Female</td>\n",
       "      <td>0</td>\n",
       "      <td>0</td>\n",
       "      <td>40</td>\n",
       "      <td>United-States</td>\n",
       "      <td>&lt;=50K</td>\n",
       "    </tr>\n",
       "    <tr>\n",
       "      <th>2</th>\n",
       "      <td>25</td>\n",
       "      <td>Private</td>\n",
       "      <td>256263</td>\n",
       "      <td>Assoc-acdm</td>\n",
       "      <td>12</td>\n",
       "      <td>Married-civ-spouse</td>\n",
       "      <td>Sales</td>\n",
       "      <td>Husband</td>\n",
       "      <td>White</td>\n",
       "      <td>Male</td>\n",
       "      <td>0</td>\n",
       "      <td>0</td>\n",
       "      <td>40</td>\n",
       "      <td>United-States</td>\n",
       "      <td>&lt;=50K</td>\n",
       "    </tr>\n",
       "    <tr>\n",
       "      <th>3</th>\n",
       "      <td>46</td>\n",
       "      <td>Private</td>\n",
       "      <td>147640</td>\n",
       "      <td>5th-6th</td>\n",
       "      <td>3</td>\n",
       "      <td>Married-civ-spouse</td>\n",
       "      <td>Transport-moving</td>\n",
       "      <td>Husband</td>\n",
       "      <td>Amer-Indian-Eskimo</td>\n",
       "      <td>Male</td>\n",
       "      <td>0</td>\n",
       "      <td>1902</td>\n",
       "      <td>40</td>\n",
       "      <td>United-States</td>\n",
       "      <td>&lt;=50K</td>\n",
       "    </tr>\n",
       "    <tr>\n",
       "      <th>4</th>\n",
       "      <td>45</td>\n",
       "      <td>Private</td>\n",
       "      <td>172822</td>\n",
       "      <td>11th</td>\n",
       "      <td>7</td>\n",
       "      <td>Divorced</td>\n",
       "      <td>Transport-moving</td>\n",
       "      <td>Not-in-family</td>\n",
       "      <td>White</td>\n",
       "      <td>Male</td>\n",
       "      <td>0</td>\n",
       "      <td>2824</td>\n",
       "      <td>76</td>\n",
       "      <td>United-States</td>\n",
       "      <td>&gt;50K</td>\n",
       "    </tr>\n",
       "  </tbody>\n",
       "</table>\n",
       "</div>"
      ],
      "text/plain": [
       "   age workclass  fnlwgt  ... hours-per-week  native-country target\n",
       "0   27   Private  177119  ...             44   United-States  <=50K\n",
       "1   27   Private  216481  ...             40   United-States  <=50K\n",
       "2   25   Private  256263  ...             40   United-States  <=50K\n",
       "3   46   Private  147640  ...             40   United-States  <=50K\n",
       "4   45   Private  172822  ...             76   United-States   >50K\n",
       "\n",
       "[5 rows x 15 columns]"
      ]
     },
     "execution_count": 2,
     "metadata": {
      "tags": []
     },
     "output_type": "execute_result"
    }
   ],
   "source": [
    "from google.colab import files\n",
    "uploaded = files.upload()\n",
    "\n",
    "\n",
    "adult_train = pd.read_csv('adult_train.csv')\n",
    "\n",
    "adult_train.head()"
   ]
  },
  {
   "cell_type": "code",
   "execution_count": null,
   "metadata": {
    "colab": {
     "base_uri": "https://localhost:8080/",
     "height": 72,
     "resources": {
      "http://localhost:8080/nbextensions/google.colab/files.js": {
       "data": "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",
       "headers": [
        [
         "content-type",
         "application/javascript"
        ]
       ],
       "ok": true,
       "status": 200,
       "status_text": ""
      }
     }
    },
    "id": "NUPa6b2I5R6f",
    "outputId": "1d447338-d7b9-4777-a52d-88ea2747ad8b"
   },
   "outputs": [
    {
     "data": {
      "text/html": [
       "\n",
       "     <input type=\"file\" id=\"files-0654bf46-6068-46f9-9f52-58ccfc45fa96\" name=\"files[]\" multiple disabled\n",
       "        style=\"border:none\" />\n",
       "     <output id=\"result-0654bf46-6068-46f9-9f52-58ccfc45fa96\">\n",
       "      Upload widget is only available when the cell has been executed in the\n",
       "      current browser session. Please rerun this cell to enable.\n",
       "      </output>\n",
       "      <script src=\"/nbextensions/google.colab/files.js\"></script> "
      ],
      "text/plain": [
       "<IPython.core.display.HTML object>"
      ]
     },
     "metadata": {
      "tags": []
     },
     "output_type": "display_data"
    },
    {
     "name": "stdout",
     "output_type": "stream",
     "text": [
      "Saving adult_test.csv to adult_test.csv\n"
     ]
    }
   ],
   "source": [
    "from google.colab import files\n",
    "uploaded = files.upload()\n",
    "adult_test = pd.read_csv('adult_test.csv')\n",
    "\n",
    "#adult_test.info()"
   ]
  },
  {
   "cell_type": "markdown",
   "metadata": {
    "id": "seL8Eg_iXmsx"
   },
   "source": [
    "### Split into input part X and output part Y for both training and test set"
   ]
  },
  {
   "cell_type": "code",
   "execution_count": null,
   "metadata": {
    "id": "cDl_SZP2Xi-r"
   },
   "outputs": [],
   "source": [
    "X_train = adult_train.drop('target', axis=1)\n",
    "Y_train = adult_train['target']\n",
    "\n",
    "X_test = adult_test.drop('target', axis=1)\n",
    "Y_test = adult_test['target']\n",
    "\n",
    "#Y_test.head()"
   ]
  },
  {
   "cell_type": "markdown",
   "metadata": {
    "id": "i3hy9QA9aV4i"
   },
   "source": [
    "## Step 2: Encoding the features as numbers.\n",
    "### The result is a list of dictionaries each for training and test set, among which each dictionary represent one sample."
   ]
  },
  {
   "cell_type": "code",
   "execution_count": null,
   "metadata": {
    "id": "UzBLb622HE47"
   },
   "outputs": [],
   "source": [
    "\n",
    "X_train_dict = X_train.to_dict('records')\n",
    "\n",
    "X_test_dict = X_test.to_dict('records')\n"
   ]
  },
  {
   "cell_type": "code",
   "execution_count": null,
   "metadata": {
    "id": "GPNCJw6HJDNj"
   },
   "outputs": [],
   "source": [
    "# Each row represents a sample and each column represents a feature.\n",
    "dv = DictVectorizer()\n",
    "X_train_encoded = dv.fit_transform(X_train_dict)"
   ]
  },
  {
   "cell_type": "markdown",
   "metadata": {
    "id": "uuVSxbgia-1W"
   },
   "source": [
    "### Since our vectorizer is already trained we will only use transform function now for test set and calculate cross validation score using Logistic Regression on training set."
   ]
  },
  {
   "cell_type": "code",
   "execution_count": null,
   "metadata": {
    "colab": {
     "base_uri": "https://localhost:8080/"
    },
    "id": "gybxNPZTJm0_",
    "outputId": "36cc6c37-b445-41b1-c38a-6d222983ac8e"
   },
   "outputs": [
    {
     "data": {
      "text/plain": [
       "array([0.79548595, 0.80236486, 0.79837224, 0.79714373, 0.79514742])"
      ]
     },
     "execution_count": 7,
     "metadata": {
      "tags": []
     },
     "output_type": "execute_result"
    }
   ],
   "source": [
    "# Since our vectorizer is already trained we will only use transform function now for test set\n",
    "X_test_encoded = dv.transform(X_test_dict)\n",
    "\n",
    "# Logistic Regression\n",
    "model= LogisticRegression()\n",
    "\n",
    "# Calculating the score for training data\n",
    "cross_val_score(model, X_train_encoded, Y_train)"
   ]
  },
  {
   "cell_type": "markdown",
   "metadata": {
    "id": "-sBbzdDBbj3T"
   },
   "source": [
    "## Step 3. Combining the steps."
   ]
  },
  {
   "cell_type": "code",
   "execution_count": null,
   "metadata": {
    "colab": {
     "base_uri": "https://localhost:8080/"
    },
    "id": "vpplb-qAf660",
    "outputId": "5d111c79-6f8c-4711-bcaf-95df66bdbb8b"
   },
   "outputs": [
    {
     "name": "stdout",
     "output_type": "stream",
     "text": [
      "0.7978011178674529\n"
     ]
    }
   ],
   "source": [
    "# Create a pipeline with preprocessor and classifier\n",
    "pipeline = make_pipeline(\n",
    "  DictVectorizer(),\n",
    "  LogisticRegression() \n",
    ")\n",
    "pipeline.fit(X_train_dict, Y_train)\n",
    "\n",
    "# Predict the target for test data\n",
    "Y_test_pred = pipeline.predict(X_test_dict)\n",
    "\n",
    "# calculate the accuracy score of true vs predicted values\n",
    "print(accuracy_score(Y_test, Y_test_pred))"
   ]
  },
  {
   "cell_type": "markdown",
   "metadata": {
    "id": "5kDp2RP8gC2X"
   },
   "source": [
    "# Task 2: Decision trees and random forests"
   ]
  },
  {
   "cell_type": "markdown",
   "metadata": {
    "id": "ZeblnwCjgO_g"
   },
   "source": [
    "## 2.1 Underfitting and overfitting in Decision tree classifiers."
   ]
  },
  {
   "cell_type": "markdown",
   "metadata": {
    "id": "FlkUcxpogSg_"
   },
   "source": [
    "### a. Evaluating TRAINING DATA set for different maxdepths"
   ]
  },
  {
   "cell_type": "code",
   "execution_count": null,
   "metadata": {
    "colab": {
     "base_uri": "https://localhost:8080/"
    },
    "id": "nOC8pP3WgHml",
    "outputId": "31e6a68c-fc98-4507-a366-ba4e746fbc55"
   },
   "outputs": [
    {
     "name": "stdout",
     "output_type": "stream",
     "text": [
      "[0.7591904425539756, 0.8282300912134148, 0.8438930008292128, 0.8439544240041768, 0.8520929946868954, 0.8569454255090445, 0.8586038512330703, 0.8606308160068794, 0.8639783790424127, 0.8704278124136237, 0.8748195694235436, 0.8799176929455483]\n"
     ]
    }
   ],
   "source": [
    "maxdepth=13\n",
    "list_train_scores=[]\n",
    "\n",
    "for i in range(1, maxdepth):\n",
    "    # Create a pipeline with preprocessor and classifier with max_depth as i\n",
    "    pipeline = make_pipeline(\n",
    "      DictVectorizer(),\n",
    "      tree.DecisionTreeClassifier(max_depth=i)\n",
    "    )\n",
    "    pipeline.fit(X_train_dict, Y_train)\n",
    "\n",
    "    # Predict the target for training data\n",
    "    Y_train_pred = pipeline.predict(X_train_dict)\n",
    "\n",
    "    # calculate the evaluation score on the training set \n",
    "    list_train_scores.append(accuracy_score(Y_train, Y_train_pred))\n",
    "\n",
    "print(list_train_scores)"
   ]
  },
  {
   "cell_type": "markdown",
   "metadata": {
    "id": "eWpH5gIhgY4n"
   },
   "source": [
    "### b. Evaluating TEST DATA set for different maxdepths"
   ]
  },
  {
   "cell_type": "code",
   "execution_count": null,
   "metadata": {
    "colab": {
     "base_uri": "https://localhost:8080/"
    },
    "id": "z76DSjLWgZdX",
    "outputId": "9d06aac6-a190-4c0c-b1eb-f9909a0a5d53"
   },
   "outputs": [
    {
     "name": "stdout",
     "output_type": "stream",
     "text": [
      "[0.7637737239727289, 0.8306615072784227, 0.8447884036607088, 0.8446655610834716, 0.8519746944290891, 0.8573183465389104, 0.8562741846323936, 0.8568269762299613, 0.8578097168478594, 0.8603279896812235, 0.8581782445795713, 0.8559670781893004]\n"
     ]
    }
   ],
   "source": [
    "maxdepth=13\n",
    "list_test_scores=[]\n",
    "\n",
    "for i in range(1, maxdepth):\n",
    "    # Create a pipeline with preprocessor and classifier with max_depth as i\n",
    "    pipeline = make_pipeline(\n",
    "      DictVectorizer(),\n",
    "      tree.DecisionTreeClassifier(max_depth=i)\n",
    "    )\n",
    "    pipeline.fit(X_train_dict, Y_train)\n",
    "\n",
    "    # Predict the target for test data\n",
    "    Y_test_pred = pipeline.predict(X_test_dict)\n",
    "\n",
    "    # calculate the evaluation score on the test set \n",
    "    list_test_scores.append(accuracy_score(Y_test, Y_test_pred))\n",
    "\n",
    "print(list_test_scores)"
   ]
  },
  {
   "cell_type": "markdown",
   "metadata": {
    "id": "wVeBwJTXgdMc"
   },
   "source": [
    "### c. Plotting accuracy score Vs maxdepth for training data"
   ]
  },
  {
   "cell_type": "code",
   "execution_count": null,
   "metadata": {
    "colab": {
     "base_uri": "https://localhost:8080/",
     "height": 281
    },
    "id": "n0rVbzttgdyL",
    "outputId": "da29d444-a4a2-4bd7-f3e1-231ccd4314c0"
   },
   "outputs": [
    {
     "data": {
      "image/png": "[encoded data removed]",
      "text/plain": [
       "<Figure size 432x288 with 1 Axes>"
      ]
     },
     "metadata": {
      "needs_background": "light",
      "tags": []
     },
     "output_type": "display_data"
    }
   ],
   "source": [
    "x_axis = list(range(1,maxdepth))\n",
    "plt.scatter(x=x_axis, y=list_train_scores, c =\"blue\") \n",
    "  \n",
    "# To show the plot \n",
    "plt.ylabel(\"Accuracy score of training data\", size=12) \n",
    "plt.xlabel(\"Parameter max_depth\", size=12)\n",
    "plt.show() "
   ]
  },
  {
   "cell_type": "markdown",
   "metadata": {
    "id": "3JC8S4_Jgf-t"
   },
   "source": [
    "### d. Plotting accuracy score Vs maxdepth for Test data"
   ]
  },
  {
   "cell_type": "code",
   "execution_count": null,
   "metadata": {
    "colab": {
     "base_uri": "https://localhost:8080/",
     "height": 281
    },
    "id": "Hqf9oDxggjlm",
    "outputId": "191b205e-7d03-45f3-c3f4-366883869e07"
   },
   "outputs": [
    {
     "data": {
      "image/png": "[encoded data removed]",
      "text/plain": [
       "<Figure size 432x288 with 1 Axes>"
      ]
     },
     "metadata": {
      "needs_background": "light",
      "tags": []
     },
     "output_type": "display_data"
    }
   ],
   "source": [
    "plt.scatter(x=x_axis, y=list_test_scores, c =\"orange\") \n",
    "  \n",
    "# To show the plot\n",
    "plt.ylabel(\"Accuracy score of test data\", size=12) \n",
    "plt.xlabel(\"Parameter max_depth\", size=12)\n",
    "plt.show() \n"
   ]
  },
  {
   "cell_type": "markdown",
   "metadata": {
    "id": "gjoV7MNDgxXe"
   },
   "source": [
    "### e. Plotting accuracy Vs maxdepth for both Training and Test data together"
   ]
  },
  {
   "cell_type": "code",
   "execution_count": null,
   "metadata": {
    "colab": {
     "base_uri": "https://localhost:8080/",
     "height": 281
    },
    "id": "eMAxQnu8hMIv",
    "outputId": "0f22a8eb-6494-48b8-d435-201eb2fcbf3c"
   },
   "outputs": [
    {
     "data": {
      "image/png": "[encoded data removed]",
      "text/plain": [
       "<Figure size 432x288 with 1 Axes>"
      ]
     },
     "metadata": {
      "needs_background": "light",
      "tags": []
     },
     "output_type": "display_data"
    }
   ],
   "source": [
    "ax = plt.gca()\n",
    "ax.scatter(x=x_axis, y=list_train_scores, c =\"blue\") \n",
    "ax.scatter(x=x_axis, y=list_test_scores, c =\"orange\")\n",
    "ax.set_xlabel(\"Parameter max_depth\", size=12)\n",
    "ax.set_ylabel(\"Accuracy score\", size=12) \n",
    "ax.legend({'Training Set','Test Set'})\n",
    "plt.show() \n"
   ]
  },
  {
   "cell_type": "markdown",
   "metadata": {
    "id": "rsmTGbDehVt_"
   },
   "source": [
    "## 2.1 Underfitting and overfitting in random forest classifiers. \n",
    "### a. Replace the DecisionTreeClassifier with a RandomForestClassifier"
   ]
  },
  {
   "cell_type": "markdown",
   "metadata": {
    "id": "OT8gjbNAXrC9"
   },
   "source": [
    "#### Evaluating TRAINING DATA set for different estimators and max_depths\n"
   ]
  },
  {
   "cell_type": "code",
   "execution_count": null,
   "metadata": {
    "colab": {
     "base_uri": "https://localhost:8080/"
    },
    "id": "0_l8C4vJXj1b",
    "outputId": "83fe7599-89cc-488c-d2d0-8a3c791c1839"
   },
   "outputs": [
    {
     "name": "stdout",
     "output_type": "stream",
     "text": [
      "{1: [0.8026166272534627, 0.7591904425539756, 0.7697859402352507, 0.8061177482264058, 0.7974877921439759, 0.7968121372193728, 0.8180338441694052, 0.838764165719726, 0.829489266300175, 0.8352016215718191, 0.8391019931820276, 0.847394121802156], 10: [0.7768496053561008, 0.7797672061668868, 0.8011424710543288, 0.832406867110961, 0.8377199717453395, 0.8413746506556924, 0.8453057338533829, 0.850925954362581, 0.8569761370965265, 0.8591873713952274, 0.8629648966555081, 0.8654525352415466], 50: [0.7591904425539756, 0.7723657135837352, 0.7843432327016984, 0.8199379625932864, 0.8329596756856362, 0.8464113510027333, 0.8513252049998464, 0.8555634040723565, 0.8585731396455882, 0.8621971069684592, 0.8685851171647062, 0.8714720063880101], 100: [0.7591904425539756, 0.7702159024599982, 0.7965050213445533, 0.8186787875065262, 0.8408525536684991, 0.8435551733669113, 0.8531986118362458, 0.8581738890083228, 0.8624427996683148, 0.8661281901661497, 0.8686158287521882, 0.8711034673382267], 150: [0.7591904425539756, 0.7622616013021714, 0.8012653174042567, 0.8276772826387396, 0.8396240901692208, 0.8465034857651792, 0.8519394367494856, 0.856638309634225, 0.8593716409201192, 0.8648997266668714, 0.8678787506526212, 0.871656275912902], 200: [0.7591904425539756, 0.7674211479991401, 0.7950308651454193, 0.8283222259758607, 0.8390098584195818, 0.8443843862289242, 0.8524001105617149, 0.855901231534658, 0.8601087190196861, 0.8633948588802555, 0.8678480390651393, 0.8708577746383711], 300: [0.7591904425539756, 0.7643499892509443, 0.7926353613218268, 0.8269094929516907, 0.8398390712815945, 0.8459199656030221, 0.8513252049998464, 0.8570375602714905, 0.8605386812444336, 0.864500476029606, 0.8682472897024047, 0.8712570252756365], 350: [0.7591904425539756, 0.7702773256349621, 0.7946316145081539, 0.8302263443997421, 0.8393476858818832, 0.8450600411535272, 0.8505574153127975, 0.8562390589969595, 0.8609993550566629, 0.8645311876170879, 0.8679401738275851, 0.8725162003623967], 400: [0.7591904425539756, 0.7731335032707841, 0.7942323638708885, 0.8289364577254998, 0.8403611682687878, 0.8448450600411536, 0.8512944934123645, 0.8563619053468874, 0.8596173336199748, 0.8639169558674488, 0.8675102116028377, 0.8714720063880101], 500: [0.7591904425539756, 0.7657627222751144, 0.7901170111483062, 0.8289671693129818, 0.8385491846073524, 0.8455514265532386, 0.8510180891250269, 0.8577746383710574, 0.8618592795061577, 0.8645926107920519, 0.8679401738275851, 0.8715027179754922]}\n"
     ]
    }
   ],
   "source": [
    "# Setting number of trees\n",
    "estimators = [1,10,50,100,150,200,300,350,400,500]\n",
    "\n",
    "# For jobs=1 only one CPU core will be used whereas for jobs=-1 all cores will be used to speed up the computation\n",
    "jobs = [1,1,1,-1,-1,-1,-1,-1,-1,-1]\n",
    "        \n",
    "# The dictionary will store n_estimator value as \"key\" and list of accuracy scores for TRAINING SET as \"value\"\n",
    "dict_train_scores = {}\n",
    "\n",
    "for i,j in zip(estimators, jobs):\n",
    "    \n",
    "    # This list will store accuracy scores for different max_depth of the tree \n",
    "    list_acc_scores = []\n",
    "\n",
    "    for d in range(1, maxdepth): ## maxdepth=13\n",
    "    \n",
    "        # Create a pipeline with preprocessor and classifier with number of trees as i and number of jobs as j(1 or -1)\n",
    "        # Run the pipeline for various depths\n",
    "        pipeline_r = make_pipeline(\n",
    "          DictVectorizer(),\n",
    "          RandomForestClassifier(n_estimators=i, n_jobs=j, max_depth=d)\n",
    "        )\n",
    "        pipeline_r.fit(X_train_dict, Y_train)\n",
    "\n",
    "        # Predict the target for training data\n",
    "        Y_train_pred = pipeline_r.predict(X_train_dict)\n",
    "\n",
    "        # Calculate the accuracy score on the training set for true vs predicted values\n",
    "        list_acc_scores.append(accuracy_score(Y_train, Y_train_pred))\n",
    "    \n",
    "    # This dictionary stores n_estimator value(number of trees) as \"key\" and list of accuracy scores as \"value\"\n",
    "    dict_train_scores.update({i: list_acc_scores})\n",
    "\n",
    "# print the ensemble size and and corresponding accuracy scores of training set\n",
    "print(dict_train_scores)"
   ]
  },
  {
   "cell_type": "markdown",
   "metadata": {
    "id": "f3rHf_9YXyv0"
   },
   "source": [
    "#### Evaluating TEST DATA set for different estimators and max_depths\n"
   ]
  },
  {
   "cell_type": "code",
   "execution_count": null,
   "metadata": {
    "colab": {
     "base_uri": "https://localhost:8080/"
    },
    "id": "2eEZ9D7dXj5x",
    "outputId": "ef608a30-5eb0-4a64-8be7-a5b06b249eeb"
   },
   "outputs": [
    {
     "name": "stdout",
     "output_type": "stream",
     "text": [
      "{1: [0.7678275290215588, 0.7707143295866348, 0.7777163564891592, 0.8011178674528592, 0.802653399668325, 0.8293716602174314, 0.8317056691849395, 0.8286960260426264, 0.8431914501566243, 0.8384620109329893, 0.8166574534733738, 0.8261777532092623], 10: [0.7637737239727289, 0.7761808242736933, 0.7721270192248634, 0.8175787728026535, 0.8290031324857196, 0.8418401818070144, 0.8503777409250046, 0.8483508384005897, 0.8508076899453351, 0.8529574350469873, 0.8578711381364781, 0.8590381426202321], 50: [0.7637737239727289, 0.7673361587126097, 0.7995209139487747, 0.8293716602174314, 0.8330569375345495, 0.8420858669614889, 0.8490878938640133, 0.8522818008721823, 0.8536330692217923, 0.8570726613844358, 0.8600208832381303, 0.8606350961243167], 100: [0.7637737239727289, 0.7690559547939316, 0.7946072108592839, 0.8204655733677293, 0.835329525213439, 0.8428229224249125, 0.8509305325225723, 0.8519132731404705, 0.8544315459738345, 0.8574411891161476, 0.8588538787543762, 0.8604508322584608], 150: [0.7637737239727289, 0.7658620477857625, 0.7974325901357411, 0.8260549106320251, 0.8393219089736502, 0.8463239358761747, 0.847122412628217, 0.8545543885510718, 0.8562127633437749, 0.8589767213316135, 0.8597137767950371, 0.8613721515877403], 200: [0.7637737239727289, 0.777409250046066, 0.795098581168233, 0.8278975492905841, 0.8354523677906762, 0.8486579448436828, 0.850991953811191, 0.8524660647380382, 0.8559056569006818, 0.8597137767950371, 0.8596523555064185, 0.8610036238560285], 300: [0.7637737239727289, 0.7652478348995762, 0.797616854001597, 0.8278975492905841, 0.8400589644370738, 0.8434371353110989, 0.850316319636386, 0.8533873840673177, 0.8558442356120631, 0.8582396658681899, 0.8599594619495117, 0.8610036238560285], 350: [0.7637737239727289, 0.7783919906639641, 0.7984153307536392, 0.8277132854247282, 0.8372335851606166, 0.844419875928997, 0.8469995700509797, 0.8532645414900805, 0.8554757078803513, 0.8589767213316135, 0.8601437258153676, 0.8607579387015539], 400: [0.7637737239727289, 0.779251888704625, 0.7954671088999448, 0.826239174497881, 0.8387076960874639, 0.8458325655672256, 0.8505005835022419, 0.8540015969535041, 0.8554757078803513, 0.858055402002334, 0.8594680916405626, 0.8606965174129353], 500: [0.7637737239727289, 0.7794975738590996, 0.7955285301885634, 0.8280203918678214, 0.8381549044898962, 0.8449726675265647, 0.8494564215957251, 0.8538787543762668, 0.8571340826730545, 0.8590995639088508, 0.859898040660893, 0.8611264664332657]}\n"
     ]
    }
   ],
   "source": [
    "# The dictionary will store n_estimator value as \"key\" and list of accuracy scores of TEST SET as \"value\"\n",
    "dict_test_scores = {}\n",
    "\n",
    "for i,j in zip(estimators, jobs):\n",
    "    \n",
    "    # This list will store accuracy scores for different max_depth of the tree \n",
    "    list_acc_scores = []\n",
    "\n",
    "    for d in range(1, maxdepth):   ## maxdepth=13\n",
    "    \n",
    "        # Create a pipeline with preprocessor and classifier with number of trees as i and number of jobs as j(1 or -1)\n",
    "        # Run the pipeline for various depths\n",
    "        pipeline_r = make_pipeline(\n",
    "          DictVectorizer(),\n",
    "          RandomForestClassifier(n_estimators=i, n_jobs=j, max_depth=d)\n",
    "        )\n",
    "        pipeline_r.fit(X_train_dict, Y_train)\n",
    "\n",
    "        # Predict the target for test data\n",
    "        Y_test_pred = pipeline_r.predict(X_test_dict)\n",
    "\n",
    "        # Calculate the accuracy score on the test set for true vs predicted values\n",
    "        list_acc_scores.append(accuracy_score(Y_test, Y_test_pred))\n",
    "    \n",
    "    # Dictionary contains n_estimator value(number of trees) as \"key\" and list of accuracy scores as \"value\"\n",
    "    dict_test_scores.update({i: list_acc_scores})\n",
    "\n",
    "# print the ensemble size and corresponding accuracy scores of test set\n",
    "print(dict_test_scores)"
   ]
  },
  {
   "cell_type": "markdown",
   "metadata": {
    "id": "lLokkHAJX8T5"
   },
   "source": [
    "#### Plot the accuracies for different ensemble sizes"
   ]
  },
  {
   "cell_type": "code",
   "execution_count": null,
   "metadata": {
    "id": "6tiuOaPjXj9K"
   },
   "outputs": [],
   "source": [
    "# Plotting the accuracy score Vs maxdepths for various ensemble sizes\n",
    "def plot(dict_train_scores, dict_test_scores, maxdepth):\n",
    "  \n",
    "    # Iterate through the ensemble size of training and test data \n",
    "    for k,t in zip(dict_train_scores.keys(),dict_test_scores.keys()):\n",
    "        print(\"\\n       FOR ENSEMBLE SIZE =\",k)\n",
    "        x_axis = list(range(1,maxdepth))\n",
    "        \n",
    "        # Retreive the accuracies for each ensemble size for both sets\n",
    "        list_train_acc= dict_train_scores.get(k)\n",
    "        list_test_acc = dict_test_scores.get(t)\n",
    "        \n",
    "        # Plot the graph\n",
    "        ax = plt.gca()\n",
    "        ax.scatter(x=x_axis, y=list_train_acc, c =\"blue\") \n",
    "        ax.scatter(x=x_axis, y=list_test_acc, c =\"orange\")\n",
    "        ax.set_xlabel(\"Parameter max_depth\", size=12)\n",
    "        ax.set_ylabel(\"Accuracy score\", size=12) \n",
    "        ax.legend({'Training Set','Test Set'})\n",
    "        plt.show()"
   ]
  },
  {
   "cell_type": "code",
   "execution_count": null,
   "metadata": {
    "colab": {
     "base_uri": "https://localhost:8080/",
     "height": 1000
    },
    "id": "-V83ttliYCiR",
    "outputId": "0c5726ac-5183-4f72-d8e5-2d359764d74d"
   },
   "outputs": [
    {
     "name": "stdout",
     "output_type": "stream",
     "text": [
      "\n",
      "       FOR ENSEMBLE SIZE = 1\n"
     ]
    },
    {
     "data": {
      "image/png": "[encoded data removed]",
      "text/plain": [
       "<Figure size 432x288 with 1 Axes>"
      ]
     },
     "metadata": {
      "needs_background": "light",
      "tags": []
     },
     "output_type": "display_data"
    },
    {
     "name": "stdout",
     "output_type": "stream",
     "text": [
      "\n",
      "       FOR ENSEMBLE SIZE = 10\n"
     ]
    },
    {
     "data": {
      "image/png": "[encoded data removed]",
      "text/plain": [
       "<Figure size 432x288 with 1 Axes>"
      ]
     },
     "metadata": {
      "needs_background": "light",
      "tags": []
     },
     "output_type": "display_data"
    },
    {
     "name": "stdout",
     "output_type": "stream",
     "text": [
      "\n",
      "       FOR ENSEMBLE SIZE = 50\n"
     ]
    },
    {
     "data": {
      "image/png": "[encoded data removed]",
      "text/plain": [
       "<Figure size 432x288 with 1 Axes>"
      ]
     },
     "metadata": {
      "needs_background": "light",
      "tags": []
     },
     "output_type": "display_data"
    },
    {
     "name": "stdout",
     "output_type": "stream",
     "text": [
      "\n",
      "       FOR ENSEMBLE SIZE = 100\n"
     ]
    },
    {
     "data": {
      "image/png": "[encoded data removed]",
      "text/plain": [
       "<Figure size 432x288 with 1 Axes>"
      ]
     },
     "metadata": {
      "needs_background": "light",
      "tags": []
     },
     "output_type": "display_data"
    },
    {
     "name": "stdout",
     "output_type": "stream",
     "text": [
      "\n",
      "       FOR ENSEMBLE SIZE = 150\n"
     ]
    },
    {
     "data": {
      "image/png": "[encoded data removed]",
      "text/plain": [
       "<Figure size 432x288 with 1 Axes>"
      ]
     },
     "metadata": {
      "needs_background": "light",
      "tags": []
     },
     "output_type": "display_data"
    },
    {
     "name": "stdout",
     "output_type": "stream",
     "text": [
      "\n",
      "       FOR ENSEMBLE SIZE = 200\n"
     ]
    },
    {
     "data": {
      "image/png": "[encoded data removed]",
      "text/plain": [
       "<Figure size 432x288 with 1 Axes>"
      ]
     },
     "metadata": {
      "needs_background": "light",
      "tags": []
     },
     "output_type": "display_data"
    },
    {
     "name": "stdout",
     "output_type": "stream",
     "text": [
      "\n",
      "       FOR ENSEMBLE SIZE = 300\n"
     ]
    },
    {
     "data": {
      "image/png": "[encoded data removed]",
      "text/plain": [
       "<Figure size 432x288 with 1 Axes>"
      ]
     },
     "metadata": {
      "needs_background": "light",
      "tags": []
     },
     "output_type": "display_data"
    },
    {
     "name": "stdout",
     "output_type": "stream",
     "text": [
      "\n",
      "       FOR ENSEMBLE SIZE = 350\n"
     ]
    },
    {
     "data": {
      "image/png": "[encoded data removed]",
      "text/plain": [
       "<Figure size 432x288 with 1 Axes>"
      ]
     },
     "metadata": {
      "needs_background": "light",
      "tags": []
     },
     "output_type": "display_data"
    },
    {
     "name": "stdout",
     "output_type": "stream",
     "text": [
      "\n",
      "       FOR ENSEMBLE SIZE = 400\n"
     ]
    },
    {
     "data": {
      "image/png": "[encoded data removed]",
      "text/plain": [
       "<Figure size 432x288 with 1 Axes>"
      ]
     },
     "metadata": {
      "needs_background": "light",
      "tags": []
     },
     "output_type": "display_data"
    },
    {
     "name": "stdout",
     "output_type": "stream",
     "text": [
      "\n",
      "       FOR ENSEMBLE SIZE = 500\n"
     ]
    },
    {
     "data": {
      "image/png": "[encoded data removed]",
      "text/plain": [
       "<Figure size 432x288 with 1 Axes>"
      ]
     },
     "metadata": {
      "needs_background": "light",
      "tags": []
     },
     "output_type": "display_data"
    }
   ],
   "source": [
    "# Plotting the graph\n",
    "plot(dict_train_scores, dict_test_scores, maxdepth)"
   ]
  },
  {
   "cell_type": "markdown",
   "metadata": {
    "id": "EhvAN5dh3UZ3"
   },
   "source": [
    "### What's the difference between the curve for a decision tree and for a random forest with an ensemble size of 1, and why do we see this difference?\n",
    "\n",
    "**Observation:**\n",
    "Using Decision Tree classifier the accuracy score for training set increases as the max depth of the tree increases but after certain point it stablises whereas the accuracy of test data keeps on increasing marginally with the max_depth of the tree.\n",
    "\n",
    "In case of RandomForestClassifier however, accuracies are quite random when the max_depth increases. Infact there is no pattern observed between them. This is possibly due to below reasons.\n",
    "\n",
    "**Reason for difference:**\n",
    "In DecisionTree classifier entire data set is used for building the decision tree hence bootstrapping is not needed.\n",
    "Also, here max_features = n_features, which means all features are used for best split unlike random forest.\n",
    "\n",
    "However, In Random forest classifier -\n",
    "\n",
    "a. By default, **bootstrap value is \"True\"** which means that if even we have ensemble size of N we will not provide the entire set as is to the classifier. Instead N samples are chosen from the entire data set RANDOMLY with replacement.\n",
    "\n",
    "b. Secondly, by default **max_features is \"auto\"**. Whenever there is a time to split a particular node we use \n",
    "max_features which is sqrt(n_features) in this case hence less features are used everytime for best split. \n"
   ]
  },
  {
   "cell_type": "markdown",
   "metadata": {
    "id": "clBhTdBv3W0U"
   },
   "source": [
    "### What happens with the curve for random forests as the ensemble size grows?\n",
    "\n",
    "Initially when the ensemble size increases, the **variance and bias decreases** as a result of which the accuracy score improves for sometime but after sometime it becomes constant. The **computation time** for sure **increases** as the tree size increases hence its not worth increasing the number of tree at the cost of increasing computation time.\n"
   ]
  },
  {
   "cell_type": "markdown",
   "metadata": {
    "id": "ShqsI9uk3ZP6"
   },
   "source": [
    "### What happens with the best observed test set accuracy as the ensemble size grows?\n",
    "\n",
    "The test set accuracy of the best observed data increases initially when the tree size grows but after certain time it stays constant. There is not much improvement in the accuracy after certain point. There is marginal improvement in the accuracy of test data set from **82.3% to 85.6%** when **ensemble size** increases from **1 to 10**. But upon further increasing the number of trees the accuracy remains constant at **86%** even for **ensemble size 500**.\n"
   ]
  },
  {
   "cell_type": "markdown",
   "metadata": {
    "id": "C_VtUiSE3cd5"
   },
   "source": [
    "### What happens with the training time as the ensemble size grows?\n",
    "\n",
    "As the ensemble size grows the training time **increases** significantly. This is because more time is required to prepare more number of trees. Creating 10 decision trees would take considerably less time than 50 or 100 or more. Usually after a threshold the accuracies of such models do not improve hence we need to carefully decide on the trade off between computation cost and accuracy."
   ]
  },
  {
   "cell_type": "markdown",
   "metadata": {
    "id": "KcLvVowk9P4W"
   },
   "source": [
    "# Task 3: Feature importances in random forest classifiers"
   ]
  },
  {
   "cell_type": "code",
   "execution_count": null,
   "metadata": {
    "id": "k9FzQ_SQ9NDI"
   },
   "outputs": [],
   "source": [
    "# Create a pipeline with preprocessor and classifier with RandomForest\n",
    "pipeline_r = make_pipeline(\n",
    "  DictVectorizer(),\n",
    "  RandomForestClassifier(n_estimators=100)\n",
    ")\n",
    "pipeline_r.fit(X_train_dict, Y_train)\n",
    "\n",
    "pipeline_r.fit(X_train_dict, Y_train)\n",
    "scores=pipeline_r.steps[1][1].feature_importances_\n",
    "features=pipeline_r.steps[0][1].feature_names_"
   ]
  },
  {
   "cell_type": "code",
   "execution_count": null,
   "metadata": {
    "colab": {
     "base_uri": "https://localhost:8080/"
    },
    "id": "xCRZwN8rAbpZ",
    "outputId": "8194ab40-6500-43a1-fe26-37738a053f59"
   },
   "outputs": [
    {
     "name": "stdout",
     "output_type": "stream",
     "text": [
      "Sorted features by importance scores in reverse order\n",
      "                                      features    scores\n",
      "20                                      fnlwgt  0.162921\n",
      "0                                          age  0.148932\n",
      "1                                 capital-gain  0.091528\n",
      "21                              hours-per-week  0.082351\n",
      "3                                education-num  0.066592\n",
      "..                                         ...       ...\n",
      "57   native-country=Outlying-US(Guam-USVI-etc)  0.000024\n",
      "73                     occupation=Armed-Forces  0.000020\n",
      "45                     native-country=Honduras  0.000006\n",
      "102                     workclass=Never-worked  0.000002\n",
      "44           native-country=Holand-Netherlands  0.000000\n",
      "\n",
      "[108 rows x 2 columns]\n"
     ]
    }
   ],
   "source": [
    "features_score = pd.DataFrame({'features': features, 'scores': scores}, columns=['features', 'scores'])\n",
    "#print(features_score)\n",
    "print('Sorted features by importance scores in reverse order')\n",
    "features_sorted=features_score.sort_values(by=['scores'], ascending=False)\n",
    "print(features_sorted)"
   ]
  },
  {
   "cell_type": "code",
   "execution_count": null,
   "metadata": {
    "id": "w7ait7Ie3ciE"
   },
   "outputs": [],
   "source": []
  },
  {
   "cell_type": "markdown",
   "metadata": {
    "id": "iizBDKseh8Q6"
   },
   "source": [
    "**Feature importance** is a class of techniques for calculating scores for input features in a predictive model. These scores indicate the relative importance of each feature when making a prediction. The higher the numbers returned from forest.feature_importances_ mean they are more important in the classification task.\n",
    "It is observed that the top 5 most important features are\n",
    "  \n",
    "1. fnlwgt\n",
    "2. age\n",
    "3. capital-gain  \n",
    "4. hours-per-week  \n",
    "5. education-num\n",
    "\n",
    "Because the target of this model is predicting if a person's income is higher than 50K or less, it seems reasonable that some of the important features like age, capital-gain, hours-per-week and education-num have an important role in the prediction.\n"
   ]
  },
  {
   "cell_type": "markdown",
   "metadata": {
    "id": "LTp94by_tjYu"
   },
   "source": [
    "# Alternative way to compute some sort of importance score of individual features\n",
    "There are three different methods to calculate the feature importance:\n",
    "1. Feature Importance built-in the Random Forest algorithm,\n",
    "2. Feature Importance computed with Permutation method,\n",
    "3. Feature Importance computed with Drop-column method.\n",
    "\n",
    "In the following we discussed the first two methods.\n",
    "\n",
    "The first method that is default in python simply tells us which ones of the features are more useful when building the model. They are not to be interpreted as a direct dependence between predictor and target.\n",
    "\n",
    "The Permutation method measures how much the prediction error of the model increases after we permuted the feature's values, which breaks the relationship between the feature and the true outcome.\n",
    "\n",
    "In this method a feature has a higher score if shuffling its values increases the model error, because in this case the model relied on the feature for the prediction. \n",
    "\n",
    "Comparing these two methods, the permutation method is much more computationally expensive than the first method, but the results are more reliable. The permutation method does not require retraining the model after permuting each column and perturbed test samples through the already-trained model need to be rerunned.\n"
   ]
  }
 ],
 "metadata": {
  "colab": {
   "collapsed_sections": [],
   "name": "ML_assignment2.ipynb",
   "provenance": []
  },
  "kernelspec": {
   "display_name": "Python 3",
   "language": "python",
   "name": "python3"
  },
  "language_info": {
   "codemirror_mode": {
    "name": "ipython",
    "version": 3
   },
   "file_extension": ".py",
   "mimetype": "text/x-python",
   "name": "python",
   "nbconvert_exporter": "python",
   "pygments_lexer": "ipython3",
   "version": "3.8.3"
  }
 },
 "nbformat": 4,
 "nbformat_minor": 1
}
