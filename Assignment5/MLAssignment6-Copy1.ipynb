{
 "cells": [
  {
   "cell_type": "code",
   "execution_count": 1,
   "metadata": {},
   "outputs": [],
   "source": [
    "from tensorflow.keras.preprocessing.image import ImageDataGenerator\n",
    "from matplotlib import pyplot as plt\n",
    "import keras\n",
    "from keras.datasets import mnist\n",
    "from keras.layers import Dense, Flatten\n",
    "from keras.layers import Conv2D, MaxPooling2D\n",
    "from keras.models import Sequential\n"
   ]
  },
  {
   "cell_type": "code",
   "execution_count": 2,
   "metadata": {},
   "outputs": [
    {
     "name": "stdout",
     "output_type": "stream",
     "text": [
      "Found 1600 images belonging to 2 classes.\n"
     ]
    }
   ],
   "source": [
    "data_gen = ImageDataGenerator(rescale=1.0/255)\n",
    "\n",
    "imgdir = 'a5_images' # or wherever you put them...\n",
    "img_size = 64\n",
    "batch_size = 32\n",
    "\n",
    "train_generator = data_gen.flow_from_directory(\n",
    "        imgdir + '/train',\n",
    "        target_size=(img_size, img_size),\n",
    "        batch_size=batch_size,\n",
    "        class_mode='binary',\n",
    "        classes=['other', 'car'],\n",
    "        seed=12345,\n",
    "        shuffle=True)"
   ]
  },
  {
   "cell_type": "markdown",
   "metadata": {},
   "source": [
    "### Retreive training set"
   ]
  },
  {
   "cell_type": "code",
   "execution_count": 3,
   "metadata": {},
   "outputs": [
    {
     "data": {
      "text/plain": [
       "(32, 64, 64, 3)"
      ]
     },
     "execution_count": 3,
     "metadata": {},
     "output_type": "execute_result"
    }
   ],
   "source": [
    "Xbatch, Ybatch = train_generator.next()\n",
    "Xbatch.shape\n"
   ]
  },
  {
   "cell_type": "code",
   "execution_count": 4,
   "metadata": {},
   "outputs": [
    {
     "data": {
      "text/plain": [
       "1.0"
      ]
     },
     "execution_count": 4,
     "metadata": {},
     "output_type": "execute_result"
    }
   ],
   "source": [
    "Ybatch[4]"
   ]
  },
  {
   "cell_type": "code",
   "execution_count": 5,
   "metadata": {},
   "outputs": [
    {
     "data": {
      "image/png": "[encoded data removed]",
      "text/plain": [
       "<Figure size 432x288 with 1 Axes>"
      ]
     },
     "metadata": {
      "needs_background": "light"
     },
     "output_type": "display_data"
    }
   ],
   "source": [
    "plt.imshow(Xbatch[4]);"
   ]
  },
  {
   "cell_type": "markdown",
   "metadata": {},
   "source": [
    "### Retreive Test set"
   ]
  },
  {
   "cell_type": "code",
   "execution_count": 6,
   "metadata": {},
   "outputs": [
    {
     "data": {
      "text/plain": [
       "array([1., 0., 1., 1., 0., 0., 0., 0., 0., 1., 0., 1., 0., 1., 0., 0., 1.,\n",
       "       1., 0., 1., 0., 0., 1., 0., 1., 1., 0., 0., 0., 0., 0., 0.],\n",
       "      dtype=float32)"
      ]
     },
     "execution_count": 6,
     "metadata": {},
     "output_type": "execute_result"
    }
   ],
   "source": [
    "Xtest, Ytest = train_generator.next()\n",
    "Xtest.shape\n",
    "Ytest"
   ]
  },
  {
   "cell_type": "markdown",
   "metadata": {},
   "source": [
    "## Part 1: Training a convolutional neural network"
   ]
  },
  {
   "cell_type": "code",
   "execution_count": 139,
   "metadata": {},
   "outputs": [],
   "source": [
    "def make_convnet():\n",
    "    num_classes = 2 # Binary classification\n",
    "\n",
    "    model = Sequential()\n",
    "    \n",
    "    model.add(Conv2D(32, kernel_size=(5, 5), strides=(1, 1),\n",
    "                     activation='relu', input_shape=(img_size, img_size, 3)))\n",
    "    model.add(MaxPooling2D(pool_size=(2, 2), strides=(2, 2)))\n",
    "    \n",
    "    model.add(Conv2D(64, (5, 5), activation='relu'))\n",
    "    model.add(MaxPooling2D(pool_size=(2, 2)))\n",
    "    \n",
    "    model.add(Flatten())\n",
    "    model.add(Dense(128, activation='relu'))\n",
    "    model.add(Dense(num_classes, activation='softmax'))\n",
    "\n",
    "    # As this is binary data using binary_cross_entropy\n",
    "    model.compile(loss='binary_crossentropy',\n",
    "                  optimizer='sgd',\n",
    "                  metrics=['accuracy'])\n",
    "\n",
    "    h = model.fit(Xbatch, Ybatch,\n",
    "              batch_size=256,\n",
    "              epochs=25,\n",
    "              verbose=1,\n",
    "              validation_data=(Xtest, Ytest));\n",
    "    return model, h"
   ]
  },
  {
   "cell_type": "code",
   "execution_count": 140,
   "metadata": {},
   "outputs": [
    {
     "name": "stdout",
     "output_type": "stream",
     "text": [
      "Epoch 1/25\n",
      "1/1 [==============================] - 0s 369ms/step - loss: 0.6934 - accuracy: 0.4062 - val_loss: 0.6934 - val_accuracy: 0.5938\n",
      "Epoch 2/25\n",
      "1/1 [==============================] - ETA: 0s - loss: 0.6934 - accuracy: 0.37 - 0s 180ms/step - loss: 0.6934 - accuracy: 0.3750 - val_loss: 0.6934 - val_accuracy: 0.5938\n",
      "Epoch 3/25\n",
      "1/1 [==============================] - 0s 159ms/step - loss: 0.6934 - accuracy: 0.4062 - val_loss: 0.6934 - val_accuracy: 0.5625\n",
      "Epoch 4/25\n",
      "1/1 [==============================] - 0s 140ms/step - loss: 0.6934 - accuracy: 0.4062 - val_loss: 0.6934 - val_accuracy: 0.5938\n",
      "Epoch 5/25\n",
      "1/1 [==============================] - 0s 137ms/step - loss: 0.6934 - accuracy: 0.4062 - val_loss: 0.6934 - val_accuracy: 0.5938\n",
      "Epoch 6/25\n",
      "1/1 [==============================] - 0s 216ms/step - loss: 0.6934 - accuracy: 0.4062 - val_loss: 0.6934 - val_accuracy: 0.5938\n",
      "Epoch 7/25\n",
      "1/1 [==============================] - 0s 246ms/step - loss: 0.6934 - accuracy: 0.4062 - val_loss: 0.6934 - val_accuracy: 0.5938\n",
      "Epoch 8/25\n",
      "1/1 [==============================] - 0s 121ms/step - loss: 0.6933 - accuracy: 0.4062 - val_loss: 0.6934 - val_accuracy: 0.5938\n",
      "Epoch 9/25\n",
      "1/1 [==============================] - 0s 317ms/step - loss: 0.6933 - accuracy: 0.4062 - val_loss: 0.6934 - val_accuracy: 0.5938\n",
      "Epoch 10/25\n",
      "1/1 [==============================] - 0s 172ms/step - loss: 0.6933 - accuracy: 0.4062 - val_loss: 0.6934 - val_accuracy: 0.5938\n",
      "Epoch 11/25\n",
      "1/1 [==============================] - 0s 191ms/step - loss: 0.6933 - accuracy: 0.4062 - val_loss: 0.6934 - val_accuracy: 0.5938\n",
      "Epoch 12/25\n",
      "1/1 [==============================] - 0s 431ms/step - loss: 0.6933 - accuracy: 0.4062 - val_loss: 0.6934 - val_accuracy: 0.5938\n",
      "Epoch 13/25\n",
      "1/1 [==============================] - 0s 145ms/step - loss: 0.6933 - accuracy: 0.4062 - val_loss: 0.6934 - val_accuracy: 0.5938\n",
      "Epoch 14/25\n",
      "1/1 [==============================] - 0s 232ms/step - loss: 0.6933 - accuracy: 0.4062 - val_loss: 0.6934 - val_accuracy: 0.6250\n",
      "Epoch 15/25\n",
      "1/1 [==============================] - 0s 313ms/step - loss: 0.6933 - accuracy: 0.4062 - val_loss: 0.6934 - val_accuracy: 0.6250\n",
      "Epoch 16/25\n",
      "1/1 [==============================] - 0s 342ms/step - loss: 0.6933 - accuracy: 0.4062 - val_loss: 0.6934 - val_accuracy: 0.6250\n",
      "Epoch 17/25\n",
      "1/1 [==============================] - 0s 240ms/step - loss: 0.6933 - accuracy: 0.4062 - val_loss: 0.6934 - val_accuracy: 0.6250\n",
      "Epoch 18/25\n",
      "1/1 [==============================] - 0s 269ms/step - loss: 0.6933 - accuracy: 0.4062 - val_loss: 0.6934 - val_accuracy: 0.6250\n",
      "Epoch 19/25\n",
      "1/1 [==============================] - 0s 165ms/step - loss: 0.6933 - accuracy: 0.4062 - val_loss: 0.6934 - val_accuracy: 0.6250\n",
      "Epoch 20/25\n",
      "1/1 [==============================] - 0s 204ms/step - loss: 0.6933 - accuracy: 0.4062 - val_loss: 0.6934 - val_accuracy: 0.6250\n",
      "Epoch 21/25\n",
      "1/1 [==============================] - 0s 124ms/step - loss: 0.6933 - accuracy: 0.4062 - val_loss: 0.6934 - val_accuracy: 0.6250\n",
      "Epoch 22/25\n",
      "1/1 [==============================] - 0s 182ms/step - loss: 0.6933 - accuracy: 0.4062 - val_loss: 0.6934 - val_accuracy: 0.6250\n",
      "Epoch 23/25\n",
      "1/1 [==============================] - 0s 227ms/step - loss: 0.6933 - accuracy: 0.4062 - val_loss: 0.6934 - val_accuracy: 0.6250\n",
      "Epoch 24/25\n",
      "1/1 [==============================] - 0s 186ms/step - loss: 0.6933 - accuracy: 0.4062 - val_loss: 0.6934 - val_accuracy: 0.6250\n",
      "Epoch 25/25\n",
      "1/1 [==============================] - 0s 152ms/step - loss: 0.6933 - accuracy: 0.4062 - val_loss: 0.6934 - val_accuracy: 0.6250\n"
     ]
    }
   ],
   "source": [
    "model,h = make_convnet()"
   ]
  },
  {
   "cell_type": "markdown",
   "metadata": {},
   "source": [
    "## Plot the training and validation loss for each epoch.\n",
    "\n",
    "### Explain what it means...\n",
    "Training losses are low but validation losses are increasing indicating overfitting.\n"
   ]
  },
  {
   "cell_type": "code",
   "execution_count": 66,
   "metadata": {},
   "outputs": [],
   "source": [
    "def plot_losses(max_epoch,h):\n",
    "    loss_train = h.history['loss']\n",
    "    loss_val = h.history['val_loss']\n",
    "    epochs = range(1,max_epoch+1)\n",
    "    plt.plot(epochs, loss_train, 'g', label='Training loss')\n",
    "    plt.plot(epochs, loss_val, 'b', label='validation loss')\n",
    "    plt.title('Training and Validation loss')\n",
    "    plt.xlabel('Epochs')\n",
    "    plt.ylabel('Loss')\n",
    "    plt.legend()\n",
    "    plt.show()"
   ]
  },
  {
   "cell_type": "code",
   "execution_count": 67,
   "metadata": {},
   "outputs": [
    {
     "data": {
      "image/png": "[encoded data removed]",
      "text/plain": [
       "<Figure size 432x288 with 1 Axes>"
      ]
     },
     "metadata": {
      "needs_background": "light"
     },
     "output_type": "display_data"
    }
   ],
   "source": [
    "plot_losses(25, h)"
   ]
  },
  {
   "cell_type": "markdown",
   "metadata": {},
   "source": [
    "## Plot the training and validation accuracies for each epoch\n",
    "\n",
    "### Explain what it means...\n",
    "\n",
    "Training accuracy is around 60-70% but validation accuracy is below 45%. This clearly indicates overfitting."
   ]
  },
  {
   "cell_type": "code",
   "execution_count": 68,
   "metadata": {},
   "outputs": [],
   "source": [
    "def plot_accuracy(max_epoch, h):\n",
    "    acc_train = h.history['accuracy']\n",
    "    acc_val = h.history['val_accuracy']\n",
    "    epochs = range(1,max_epoch+1)\n",
    "    plt.plot(epochs, acc_train, 'g', label='Training accuracy')\n",
    "    plt.plot(epochs, acc_val, 'b', label='Validation accuracy')\n",
    "    plt.title('Training and Validation accuracy')\n",
    "    plt.xlabel('Epochs')\n",
    "    plt.ylabel('Accuracy')\n",
    "    plt.legend()\n",
    "    plt.show()"
   ]
  },
  {
   "cell_type": "code",
   "execution_count": 69,
   "metadata": {},
   "outputs": [
    {
     "data": {
      "image/png": "[encoded data removed]",
      "text/plain": [
       "<Figure size 432x288 with 1 Axes>"
      ]
     },
     "metadata": {
      "needs_background": "light"
     },
     "output_type": "display_data"
    }
   ],
   "source": [
    "plot_accuracy(25, h)"
   ]
  },
  {
   "cell_type": "markdown",
   "metadata": {},
   "source": [
    "### Using Evaluate function"
   ]
  },
  {
   "cell_type": "code",
   "execution_count": 70,
   "metadata": {},
   "outputs": [
    {
     "name": "stdout",
     "output_type": "stream",
     "text": [
      "1/1 [==============================] - 0s 3ms/step - loss: 0.6939 - accuracy: 0.6562\n"
     ]
    },
    {
     "data": {
      "text/plain": [
       "[0.6939451694488525, 0.65625]"
      ]
     },
     "execution_count": 70,
     "metadata": {},
     "output_type": "execute_result"
    }
   ],
   "source": [
    "model.evaluate(Xtest, Ytest)"
   ]
  },
  {
   "cell_type": "markdown",
   "metadata": {},
   "source": [
    "## Part 2: Data augmentation"
   ]
  },
  {
   "cell_type": "code",
   "execution_count": 71,
   "metadata": {},
   "outputs": [],
   "source": [
    "# Augmentation\n",
    "train_datagen = ImageDataGenerator(rotation_range=20,  # rotation\n",
    "                               width_shift_range=0.2,  # horizontal shift\n",
    "                               zoom_range=0.2,  # zoom\n",
    "                               horizontal_flip=True,  # horizontal flip\n",
    "                               brightness_range=[0.2,0.8])  # brightness"
   ]
  },
  {
   "cell_type": "code",
   "execution_count": 77,
   "metadata": {},
   "outputs": [
    {
     "name": "stdout",
     "output_type": "stream",
     "text": [
      "Epoch 1/25\n",
      "1/1 [==============================] - 0s 150ms/step - loss: 7.6576 - accuracy: 0.6250 - val_loss: 7.5859 - val_accuracy: 0.6250\n",
      "Epoch 2/25\n",
      "1/1 [==============================] - 0s 103ms/step - loss: 7.6576 - accuracy: 0.6250 - val_loss: 7.5859 - val_accuracy: 0.6250\n",
      "Epoch 3/25\n",
      "1/1 [==============================] - 0s 121ms/step - loss: 7.6576 - accuracy: 0.6250 - val_loss: 7.5859 - val_accuracy: 0.6250\n",
      "Epoch 4/25\n",
      "1/1 [==============================] - 0s 121ms/step - loss: 7.6576 - accuracy: 0.6250 - val_loss: 7.5859 - val_accuracy: 0.6250\n",
      "Epoch 5/25\n",
      "1/1 [==============================] - 0s 111ms/step - loss: 7.6576 - accuracy: 0.6250 - val_loss: 7.5859 - val_accuracy: 0.6250\n",
      "Epoch 6/25\n",
      "1/1 [==============================] - 0s 111ms/step - loss: 7.6576 - accuracy: 0.6250 - val_loss: 7.5859 - val_accuracy: 0.6250\n",
      "Epoch 7/25\n",
      "1/1 [==============================] - 0s 125ms/step - loss: 7.6576 - accuracy: 0.6250 - val_loss: 7.5859 - val_accuracy: 0.6250\n",
      "Epoch 8/25\n",
      "1/1 [==============================] - 0s 112ms/step - loss: 7.6576 - accuracy: 0.6250 - val_loss: 7.5859 - val_accuracy: 0.6250\n",
      "Epoch 9/25\n",
      "1/1 [==============================] - 0s 114ms/step - loss: 7.6576 - accuracy: 0.6250 - val_loss: 7.5859 - val_accuracy: 0.6250\n",
      "Epoch 10/25\n",
      "1/1 [==============================] - 0s 188ms/step - loss: 7.6576 - accuracy: 0.6250 - val_loss: 7.5859 - val_accuracy: 0.6250\n",
      "Epoch 11/25\n",
      "1/1 [==============================] - 0s 129ms/step - loss: 7.6576 - accuracy: 0.6250 - val_loss: 7.5859 - val_accuracy: 0.6250\n",
      "Epoch 12/25\n",
      "1/1 [==============================] - 0s 158ms/step - loss: 7.6576 - accuracy: 0.6250 - val_loss: 7.5859 - val_accuracy: 0.6250\n",
      "Epoch 13/25\n",
      "1/1 [==============================] - 0s 138ms/step - loss: 7.6576 - accuracy: 0.6250 - val_loss: 7.5859 - val_accuracy: 0.6250\n",
      "Epoch 14/25\n",
      "1/1 [==============================] - 0s 117ms/step - loss: 7.6576 - accuracy: 0.6250 - val_loss: 7.5859 - val_accuracy: 0.6250\n",
      "Epoch 15/25\n",
      "1/1 [==============================] - 0s 108ms/step - loss: 7.6576 - accuracy: 0.6250 - val_loss: 7.5859 - val_accuracy: 0.6250\n",
      "Epoch 16/25\n",
      "1/1 [==============================] - 0s 123ms/step - loss: 7.6576 - accuracy: 0.6250 - val_loss: 7.5859 - val_accuracy: 0.6250\n",
      "Epoch 17/25\n",
      "1/1 [==============================] - 0s 116ms/step - loss: 7.6576 - accuracy: 0.6250 - val_loss: 7.5859 - val_accuracy: 0.6250\n",
      "Epoch 18/25\n",
      "1/1 [==============================] - 0s 105ms/step - loss: 7.6576 - accuracy: 0.6250 - val_loss: 7.5859 - val_accuracy: 0.6250\n",
      "Epoch 19/25\n",
      "1/1 [==============================] - 0s 103ms/step - loss: 7.6576 - accuracy: 0.6250 - val_loss: 7.5859 - val_accuracy: 0.6250\n",
      "Epoch 20/25\n",
      "1/1 [==============================] - 0s 126ms/step - loss: 7.6576 - accuracy: 0.6250 - val_loss: 7.5859 - val_accuracy: 0.6250\n",
      "Epoch 21/25\n",
      "1/1 [==============================] - 0s 114ms/step - loss: 7.6576 - accuracy: 0.6250 - val_loss: 7.5859 - val_accuracy: 0.6250\n",
      "Epoch 22/25\n",
      "1/1 [==============================] - 0s 97ms/step - loss: 7.6576 - accuracy: 0.6250 - val_loss: 7.5859 - val_accuracy: 0.6250\n",
      "Epoch 23/25\n",
      "1/1 [==============================] - 0s 127ms/step - loss: 7.6576 - accuracy: 0.6250 - val_loss: 7.5859 - val_accuracy: 0.6250\n",
      "Epoch 24/25\n",
      "1/1 [==============================] - 0s 113ms/step - loss: 7.6576 - accuracy: 0.6250 - val_loss: 7.5859 - val_accuracy: 0.6250\n",
      "Epoch 25/25\n",
      "1/1 [==============================] - 0s 170ms/step - loss: 7.6576 - accuracy: 0.6250 - val_loss: 7.5859 - val_accuracy: 0.6250\n"
     ]
    }
   ],
   "source": [
    "# Epochs\n",
    "epochs = 25\n",
    "# Batch size\n",
    "batch_size = 32\n",
    "\n",
    "history = model.fit(train_datagen.flow(Xbatch,Ybatch,\n",
    "                                       batch_size=batch_size, \n",
    "                                       seed=27,\n",
    "                                       shuffle=False),\n",
    "                    epochs=epochs,\n",
    "                    steps_per_epoch= len(Xbatch)//batch_size,\n",
    "                    validation_data=(Xtest,Ytest),\n",
    "                    verbose=1)"
   ]
  },
  {
   "cell_type": "markdown",
   "metadata": {},
   "source": [
    "## Plot the losses and accuracies after Augmentation"
   ]
  },
  {
   "cell_type": "code",
   "execution_count": 78,
   "metadata": {},
   "outputs": [
    {
     "data": {
      "image/png": "[encoded data removed]",
      "text/plain": [
       "<Figure size 432x288 with 1 Axes>"
      ]
     },
     "metadata": {
      "needs_background": "light"
     },
     "output_type": "display_data"
    }
   ],
   "source": [
    "plot_accuracy(25, history)"
   ]
  },
  {
   "cell_type": "code",
   "execution_count": 79,
   "metadata": {},
   "outputs": [
    {
     "data": {
      "image/png": "[encoded data removed]",
      "text/plain": [
       "<Figure size 432x288 with 1 Axes>"
      ]
     },
     "metadata": {
      "needs_background": "light"
     },
     "output_type": "display_data"
    }
   ],
   "source": [
    "plot_losses(25,history)"
   ]
  },
  {
   "cell_type": "markdown",
   "metadata": {},
   "source": [
    "## PART 2: Interlude: Applying a pre-trained convolutional neural network"
   ]
  },
  {
   "cell_type": "code",
   "execution_count": 23,
   "metadata": {},
   "outputs": [],
   "source": [
    "from tensorflow.keras import applications\n",
    "from tensorflow.keras.preprocessing.image import load_img, img_to_array\n",
    "from tensorflow.keras.applications.vgg16 import decode_predictions, preprocess_input\n",
    "\n",
    "vggmodel = applications.VGG16(weights='imagenet', include_top=True)"
   ]
  },
  {
   "cell_type": "code",
   "execution_count": 24,
   "metadata": {},
   "outputs": [
    {
     "name": "stdout",
     "output_type": "stream",
     "text": [
      "Model: \"vgg16\"\n",
      "_________________________________________________________________\n",
      "Layer (type)                 Output Shape              Param #   \n",
      "=================================================================\n",
      "input_1 (InputLayer)         [(None, 224, 224, 3)]     0         \n",
      "_________________________________________________________________\n",
      "block1_conv1 (Conv2D)        (None, 224, 224, 64)      1792      \n",
      "_________________________________________________________________\n",
      "block1_conv2 (Conv2D)        (None, 224, 224, 64)      36928     \n",
      "_________________________________________________________________\n",
      "block1_pool (MaxPooling2D)   (None, 112, 112, 64)      0         \n",
      "_________________________________________________________________\n",
      "block2_conv1 (Conv2D)        (None, 112, 112, 128)     73856     \n",
      "_________________________________________________________________\n",
      "block2_conv2 (Conv2D)        (None, 112, 112, 128)     147584    \n",
      "_________________________________________________________________\n",
      "block2_pool (MaxPooling2D)   (None, 56, 56, 128)       0         \n",
      "_________________________________________________________________\n",
      "block3_conv1 (Conv2D)        (None, 56, 56, 256)       295168    \n",
      "_________________________________________________________________\n",
      "block3_conv2 (Conv2D)        (None, 56, 56, 256)       590080    \n",
      "_________________________________________________________________\n",
      "block3_conv3 (Conv2D)        (None, 56, 56, 256)       590080    \n",
      "_________________________________________________________________\n",
      "block3_pool (MaxPooling2D)   (None, 28, 28, 256)       0         \n",
      "_________________________________________________________________\n",
      "block4_conv1 (Conv2D)        (None, 28, 28, 512)       1180160   \n",
      "_________________________________________________________________\n",
      "block4_conv2 (Conv2D)        (None, 28, 28, 512)       2359808   \n",
      "_________________________________________________________________\n",
      "block4_conv3 (Conv2D)        (None, 28, 28, 512)       2359808   \n",
      "_________________________________________________________________\n",
      "block4_pool (MaxPooling2D)   (None, 14, 14, 512)       0         \n",
      "_________________________________________________________________\n",
      "block5_conv1 (Conv2D)        (None, 14, 14, 512)       2359808   \n",
      "_________________________________________________________________\n",
      "block5_conv2 (Conv2D)        (None, 14, 14, 512)       2359808   \n",
      "_________________________________________________________________\n",
      "block5_conv3 (Conv2D)        (None, 14, 14, 512)       2359808   \n",
      "_________________________________________________________________\n",
      "block5_pool (MaxPooling2D)   (None, 7, 7, 512)         0         \n",
      "_________________________________________________________________\n",
      "flatten (Flatten)            (None, 25088)             0         \n",
      "_________________________________________________________________\n",
      "fc1 (Dense)                  (None, 4096)              102764544 \n",
      "_________________________________________________________________\n",
      "fc2 (Dense)                  (None, 4096)              16781312  \n",
      "_________________________________________________________________\n",
      "predictions (Dense)          (None, 1000)              4097000   \n",
      "=================================================================\n",
      "Total params: 138,357,544\n",
      "Trainable params: 138,357,544\n",
      "Non-trainable params: 0\n",
      "_________________________________________________________________\n",
      "None\n"
     ]
    }
   ],
   "source": [
    "print(vggmodel.summary())"
   ]
  },
  {
   "cell_type": "code",
   "execution_count": 84,
   "metadata": {},
   "outputs": [],
   "source": [
    "# load an image from file\n",
    "image = load_img('0355.jpg', target_size=(224, 224))\n",
    "\n",
    "# convert the image pixels to a numpy array\n",
    "image = img_to_array(image)"
   ]
  },
  {
   "cell_type": "code",
   "execution_count": 85,
   "metadata": {},
   "outputs": [],
   "source": [
    "# reshape data for the model\n",
    "image = image.reshape((1, image.shape[0], image.shape[1], image.shape[2]))"
   ]
  },
  {
   "cell_type": "code",
   "execution_count": 86,
   "metadata": {},
   "outputs": [],
   "source": [
    "# prepare the image for the VGG model\n",
    "image = preprocess_input(image)"
   ]
  },
  {
   "cell_type": "code",
   "execution_count": 87,
   "metadata": {},
   "outputs": [],
   "source": [
    "# predict the probability across all output classes\n",
    "y_pred = vggmodel.predict(image)"
   ]
  },
  {
   "cell_type": "code",
   "execution_count": 91,
   "metadata": {},
   "outputs": [
    {
     "data": {
      "text/plain": [
       "[[('n03770679', 'minivan', 0.9122441),\n",
       "  ('n03769881', 'minibus', 0.054375548),\n",
       "  ('n03796401', 'moving_van', 0.017230708),\n",
       "  ('n03930630', 'pickup', 0.0043421458),\n",
       "  ('n04065272', 'recreational_vehicle', 0.0037186202)]]"
      ]
     },
     "execution_count": 91,
     "metadata": {},
     "output_type": "execute_result"
    }
   ],
   "source": [
    "# convert the probabilities to class labels\n",
    "label = decode_predictions(y_pred)\n",
    "label\n"
   ]
  },
  {
   "cell_type": "code",
   "execution_count": 92,
   "metadata": {},
   "outputs": [
    {
     "name": "stdout",
     "output_type": "stream",
     "text": [
      "minivan 91.22440814971924\n"
     ]
    }
   ],
   "source": [
    "# retrieve the most likely result, e.g. highest probability\n",
    "label = label[0][0]\n",
    "\n",
    "# print the classification\n",
    "print(label[1], label[2]*100)"
   ]
  },
  {
   "cell_type": "markdown",
   "metadata": {},
   "source": [
    "### The prediction says minivan but the image we provided looks closer to a car."
   ]
  },
  {
   "cell_type": "markdown",
   "metadata": {},
   "source": [
    "## PART 3: Using VGG-16 as a feature extractor"
   ]
  },
  {
   "cell_type": "code",
   "execution_count": 29,
   "metadata": {},
   "outputs": [],
   "source": [
    "# Load model without classifier layer\n",
    "feature_extractor = applications.VGG16(include_top=False, weights='imagenet',\n",
    "                                       input_shape=(img_size, img_size, 3))"
   ]
  },
  {
   "cell_type": "code",
   "execution_count": 30,
   "metadata": {},
   "outputs": [],
   "source": [
    "vgg_data_gen = ImageDataGenerator(preprocessing_function=preprocess_input)"
   ]
  },
  {
   "cell_type": "code",
   "execution_count": 31,
   "metadata": {},
   "outputs": [
    {
     "name": "stdout",
     "output_type": "stream",
     "text": [
      "Model: \"vgg16\"\n",
      "_________________________________________________________________\n",
      "Layer (type)                 Output Shape              Param #   \n",
      "=================================================================\n",
      "input_2 (InputLayer)         [(None, 64, 64, 3)]       0         \n",
      "_________________________________________________________________\n",
      "block1_conv1 (Conv2D)        (None, 64, 64, 64)        1792      \n",
      "_________________________________________________________________\n",
      "block1_conv2 (Conv2D)        (None, 64, 64, 64)        36928     \n",
      "_________________________________________________________________\n",
      "block1_pool (MaxPooling2D)   (None, 32, 32, 64)        0         \n",
      "_________________________________________________________________\n",
      "block2_conv1 (Conv2D)        (None, 32, 32, 128)       73856     \n",
      "_________________________________________________________________\n",
      "block2_conv2 (Conv2D)        (None, 32, 32, 128)       147584    \n",
      "_________________________________________________________________\n",
      "block2_pool (MaxPooling2D)   (None, 16, 16, 128)       0         \n",
      "_________________________________________________________________\n",
      "block3_conv1 (Conv2D)        (None, 16, 16, 256)       295168    \n",
      "_________________________________________________________________\n",
      "block3_conv2 (Conv2D)        (None, 16, 16, 256)       590080    \n",
      "_________________________________________________________________\n",
      "block3_conv3 (Conv2D)        (None, 16, 16, 256)       590080    \n",
      "_________________________________________________________________\n",
      "block3_pool (MaxPooling2D)   (None, 8, 8, 256)         0         \n",
      "_________________________________________________________________\n",
      "block4_conv1 (Conv2D)        (None, 8, 8, 512)         1180160   \n",
      "_________________________________________________________________\n",
      "block4_conv2 (Conv2D)        (None, 8, 8, 512)         2359808   \n",
      "_________________________________________________________________\n",
      "block4_conv3 (Conv2D)        (None, 8, 8, 512)         2359808   \n",
      "_________________________________________________________________\n",
      "block4_pool (MaxPooling2D)   (None, 4, 4, 512)         0         \n",
      "_________________________________________________________________\n",
      "block5_conv1 (Conv2D)        (None, 4, 4, 512)         2359808   \n",
      "_________________________________________________________________\n",
      "block5_conv2 (Conv2D)        (None, 4, 4, 512)         2359808   \n",
      "_________________________________________________________________\n",
      "block5_conv3 (Conv2D)        (None, 4, 4, 512)         2359808   \n",
      "_________________________________________________________________\n",
      "block5_pool (MaxPooling2D)   (None, 2, 2, 512)         0         \n",
      "=================================================================\n",
      "Total params: 14,714,688\n",
      "Trainable params: 14,714,688\n",
      "Non-trainable params: 0\n",
      "_________________________________________________________________\n"
     ]
    }
   ],
   "source": [
    "feature_extractor.summary()"
   ]
  },
  {
   "cell_type": "code",
   "execution_count": 32,
   "metadata": {},
   "outputs": [],
   "source": [
    "# Do not train existing weights\n",
    "for layer in feature_extractor.layers:\n",
    "    layer.trainable = False"
   ]
  },
  {
   "cell_type": "code",
   "execution_count": 33,
   "metadata": {},
   "outputs": [
    {
     "name": "stdout",
     "output_type": "stream",
     "text": [
      "Found 1600 images belonging to 2 classes.\n"
     ]
    }
   ],
   "source": [
    "train_generator = vgg_data_gen.flow_from_directory(\n",
    "        imgdir + '/train',\n",
    "        target_size=(img_size, img_size),\n",
    "        batch_size=batch_size,\n",
    "        class_mode='binary',\n",
    "        classes=['other', 'car'],\n",
    "        seed=12345,\n",
    "        shuffle=False)"
   ]
  },
  {
   "cell_type": "code",
   "execution_count": 34,
   "metadata": {},
   "outputs": [
    {
     "name": "stdout",
     "output_type": "stream",
     "text": [
      "Found 576 images belonging to 2 classes.\n"
     ]
    }
   ],
   "source": [
    "val_generator = vgg_data_gen.flow_from_directory(\n",
    "        imgdir + '/validation',\n",
    "        target_size=(img_size, img_size),\n",
    "        batch_size=batch_size,\n",
    "        class_mode='binary',\n",
    "        classes=['other', 'car'],\n",
    "        seed=12345,\n",
    "        shuffle=False)"
   ]
  },
  {
   "cell_type": "code",
   "execution_count": null,
   "metadata": {},
   "outputs": [],
   "source": []
  },
  {
   "cell_type": "code",
   "execution_count": null,
   "metadata": {},
   "outputs": [],
   "source": []
  },
  {
   "cell_type": "code",
   "execution_count": 46,
   "metadata": {},
   "outputs": [],
   "source": [
    "import numpy as np\n",
    "y_pred = feature_extractor.predict(val_generator)\n",
    "y_pred = np.argmax(y_pred, axis=1)"
   ]
  },
  {
   "cell_type": "code",
   "execution_count": 43,
   "metadata": {},
   "outputs": [],
   "source": [
    "def get_labels(n):\n",
    "    return np.array([0]*(n//2) + [1]*(n//2))"
   ]
  },
  {
   "cell_type": "code",
   "execution_count": 80,
   "metadata": {},
   "outputs": [],
   "source": [
    "def create_vgg16_features(folder_name):\n",
    "    vgg_train_generator = vgg_data_gen.flow_from_directory(\n",
    "        imgdir + '/'+ folder_name,\n",
    "        target_size=(img_size, img_size),\n",
    "        batch_size=batch_size,\n",
    "        class_mode='binary',\n",
    "        classes=['other', 'car'],\n",
    "        seed=12345,\n",
    "        shuffle=False)\n",
    "\n",
    "    cnn_features = feature_extractor.predict(vgg_train_generator)\n",
    "    print(cnn_features.shape)\n",
    "    \n",
    "    # This will create two files - train_file and validation_file\n",
    "    file_name = folder_name+\"_file\"\n",
    "    with open(file_name, 'wb') as f:\n",
    "        np.save(f, cnn_features)"
   ]
  },
  {
   "cell_type": "code",
   "execution_count": 81,
   "metadata": {},
   "outputs": [
    {
     "name": "stdout",
     "output_type": "stream",
     "text": [
      "Found 1600 images belonging to 2 classes.\n",
      "(1600, 2, 2, 512)\n",
      "Found 576 images belonging to 2 classes.\n",
      "(576, 2, 2, 512)\n"
     ]
    }
   ],
   "source": [
    "# Call twice for training and validation set\n",
    "create_vgg16_features(\"train\")\n",
    "create_vgg16_features(\"validation\")"
   ]
  },
  {
   "cell_type": "code",
   "execution_count": 155,
   "metadata": {},
   "outputs": [],
   "source": [
    "def train_on_cnnfeatures():\n",
    "    with open('train_file', 'rb') as f:\n",
    "        train_data = np.load(f)\n",
    "    \n",
    "    with open('validation_file', 'rb') as f:\n",
    "        validation_data = np.load(f)\n",
    "    \n",
    "    num_classes=2\n",
    "    model = keras.Sequential()\n",
    "\n",
    "    model.add(feature_extractor)\n",
    "\n",
    "    # Flattening the image pixels\n",
    "    model.add(Flatten())\n",
    "    model.add(Dense(128, activation='relu'))\n",
    "    model.add(Dense(num_classes, activation='softmax'))\n",
    "    model.summary()\n",
    "    model.compile(loss='binary_crossentropy',\n",
    "              optimizer='sgd',\n",
    "              metrics=['accuracy'])\n",
    "    \n",
    "    model.fit(get_labels(10),steps_per_epoch=1, epochs=10, verbose=1, \n",
    "              validation_data=get_labels(10))"
   ]
  },
  {
   "cell_type": "code",
   "execution_count": 156,
   "metadata": {},
   "outputs": [
    {
     "name": "stdout",
     "output_type": "stream",
     "text": [
      "Model: \"sequential_15\"\n",
      "_________________________________________________________________\n",
      "Layer (type)                 Output Shape              Param #   \n",
      "=================================================================\n",
      "vgg16 (Functional)           (None, 2, 2, 512)         14714688  \n",
      "_________________________________________________________________\n",
      "flatten_15 (Flatten)         (None, 2048)              0         \n",
      "_________________________________________________________________\n",
      "dense_29 (Dense)             (None, 128)               262272    \n",
      "_________________________________________________________________\n",
      "dense_30 (Dense)             (None, 2)                 258       \n",
      "=================================================================\n",
      "Total params: 14,977,218\n",
      "Trainable params: 262,530\n",
      "Non-trainable params: 14,714,688\n",
      "_________________________________________________________________\n"
     ]
    },
    {
     "ename": "ValueError",
     "evalue": "The truth value of an array with more than one element is ambiguous. Use a.any() or a.all()",
     "output_type": "error",
     "traceback": [
      "\u001b[1;31m---------------------------------------------------------------------------\u001b[0m",
      "\u001b[1;31mValueError\u001b[0m                                Traceback (most recent call last)",
      "\u001b[1;32m<ipython-input-156-e7b1c0befa80>\u001b[0m in \u001b[0;36m<module>\u001b[1;34m\u001b[0m\n\u001b[1;32m----> 1\u001b[1;33m \u001b[0mtrain_on_cnnfeatures\u001b[0m\u001b[1;33m(\u001b[0m\u001b[1;33m)\u001b[0m\u001b[1;33m\u001b[0m\u001b[1;33m\u001b[0m\u001b[0m\n\u001b[0m",
      "\u001b[1;32m<ipython-input-155-4f3322ae14d5>\u001b[0m in \u001b[0;36mtrain_on_cnnfeatures\u001b[1;34m()\u001b[0m\n\u001b[0;32m     20\u001b[0m               metrics=['accuracy'])\n\u001b[0;32m     21\u001b[0m \u001b[1;33m\u001b[0m\u001b[0m\n\u001b[1;32m---> 22\u001b[1;33m     model.fit(get_labels(10),steps_per_epoch=1, epochs=10, verbose=1, \n\u001b[0m\u001b[0;32m     23\u001b[0m               validation_data=get_labels(10))\n",
      "\u001b[1;32m~\\anaconda\\lib\\site-packages\\tensorflow\\python\\keras\\engine\\training.py\u001b[0m in \u001b[0;36m_method_wrapper\u001b[1;34m(self, *args, **kwargs)\u001b[0m\n\u001b[0;32m    106\u001b[0m   \u001b[1;32mdef\u001b[0m \u001b[0m_method_wrapper\u001b[0m\u001b[1;33m(\u001b[0m\u001b[0mself\u001b[0m\u001b[1;33m,\u001b[0m \u001b[1;33m*\u001b[0m\u001b[0margs\u001b[0m\u001b[1;33m,\u001b[0m \u001b[1;33m**\u001b[0m\u001b[0mkwargs\u001b[0m\u001b[1;33m)\u001b[0m\u001b[1;33m:\u001b[0m\u001b[1;33m\u001b[0m\u001b[1;33m\u001b[0m\u001b[0m\n\u001b[0;32m    107\u001b[0m     \u001b[1;32mif\u001b[0m \u001b[1;32mnot\u001b[0m \u001b[0mself\u001b[0m\u001b[1;33m.\u001b[0m\u001b[0m_in_multi_worker_mode\u001b[0m\u001b[1;33m(\u001b[0m\u001b[1;33m)\u001b[0m\u001b[1;33m:\u001b[0m  \u001b[1;31m# pylint: disable=protected-access\u001b[0m\u001b[1;33m\u001b[0m\u001b[1;33m\u001b[0m\u001b[0m\n\u001b[1;32m--> 108\u001b[1;33m       \u001b[1;32mreturn\u001b[0m \u001b[0mmethod\u001b[0m\u001b[1;33m(\u001b[0m\u001b[0mself\u001b[0m\u001b[1;33m,\u001b[0m \u001b[1;33m*\u001b[0m\u001b[0margs\u001b[0m\u001b[1;33m,\u001b[0m \u001b[1;33m**\u001b[0m\u001b[0mkwargs\u001b[0m\u001b[1;33m)\u001b[0m\u001b[1;33m\u001b[0m\u001b[1;33m\u001b[0m\u001b[0m\n\u001b[0m\u001b[0;32m    109\u001b[0m \u001b[1;33m\u001b[0m\u001b[0m\n\u001b[0;32m    110\u001b[0m     \u001b[1;31m# Running inside `run_distribute_coordinator` already.\u001b[0m\u001b[1;33m\u001b[0m\u001b[1;33m\u001b[0m\u001b[1;33m\u001b[0m\u001b[0m\n",
      "\u001b[1;32m~\\anaconda\\lib\\site-packages\\tensorflow\\python\\keras\\engine\\training.py\u001b[0m in \u001b[0;36mfit\u001b[1;34m(self, x, y, batch_size, epochs, verbose, callbacks, validation_split, validation_data, shuffle, class_weight, sample_weight, initial_epoch, steps_per_epoch, validation_steps, validation_batch_size, validation_freq, max_queue_size, workers, use_multiprocessing)\u001b[0m\n\u001b[0;32m   1040\u001b[0m               (x, y, sample_weight), validation_split=validation_split))\n\u001b[0;32m   1041\u001b[0m \u001b[1;33m\u001b[0m\u001b[0m\n\u001b[1;32m-> 1042\u001b[1;33m     \u001b[1;32mif\u001b[0m \u001b[0mvalidation_data\u001b[0m\u001b[1;33m:\u001b[0m\u001b[1;33m\u001b[0m\u001b[1;33m\u001b[0m\u001b[0m\n\u001b[0m\u001b[0;32m   1043\u001b[0m       val_x, val_y, val_sample_weight = (\n\u001b[0;32m   1044\u001b[0m           data_adapter.unpack_x_y_sample_weight(validation_data))\n",
      "\u001b[1;31mValueError\u001b[0m: The truth value of an array with more than one element is ambiguous. Use a.any() or a.all()"
     ]
    }
   ],
   "source": [
    "train_on_cnnfeatures()"
   ]
  },
  {
   "cell_type": "code",
   "execution_count": 143,
   "metadata": {},
   "outputs": [],
   "source": [
    "def get_labels(n):\n",
    "    return np.array([0]*(n//2) + [1]*(n//2))"
   ]
  },
  {
   "cell_type": "code",
   "execution_count": 141,
   "metadata": {},
   "outputs": [],
   "source": [
    "with open('train_file', 'rb') as f:\n",
    "        train_data = np.load(f)"
   ]
  },
  {
   "cell_type": "code",
   "execution_count": null,
   "metadata": {},
   "outputs": [],
   "source": []
  },
  {
   "cell_type": "code",
   "execution_count": 151,
   "metadata": {},
   "outputs": [
    {
     "data": {
      "text/plain": [
       "array([0, 0, 0, ..., 1, 1, 1])"
      ]
     },
     "execution_count": 151,
     "metadata": {},
     "output_type": "execute_result"
    }
   ],
   "source": [
    "get_labels(1600)"
   ]
  },
  {
   "cell_type": "code",
   "execution_count": 152,
   "metadata": {},
   "outputs": [
    {
     "data": {
      "text/plain": [
       "array([[[[ 0.,  0.,  0., ...,  0.,  0.,  0.],\n",
       "         [ 0.,  0.,  0., ...,  0.,  0.,  0.]],\n",
       "\n",
       "        [[ 0.,  0.,  0., ...,  0.,  8.,  0.],\n",
       "         [ 0.,  0.,  0., ...,  0.,  0.,  0.]]],\n",
       "\n",
       "\n",
       "       [[[ 0.,  0.,  0., ...,  0.,  0.,  0.],\n",
       "         [ 0.,  0.,  0., ...,  0.,  0.,  0.]],\n",
       "\n",
       "        [[ 0.,  0.,  0., ...,  0.,  0.,  0.],\n",
       "         [ 3.,  0.,  0., ...,  0.,  0.,  0.]]],\n",
       "\n",
       "\n",
       "       [[[ 0.,  0.,  0., ...,  0.,  1.,  0.],\n",
       "         [ 0.,  0.,  0., ...,  0., 25.,  0.]],\n",
       "\n",
       "        [[ 0.,  0.,  0., ...,  0.,  0.,  0.],\n",
       "         [ 0.,  0.,  0., ...,  0.,  0.,  0.]]],\n",
       "\n",
       "\n",
       "       ...,\n",
       "\n",
       "\n",
       "       [[[ 0.,  0.,  0., ...,  0.,  0.,  0.],\n",
       "         [ 0.,  0.,  0., ...,  0.,  0.,  0.]],\n",
       "\n",
       "        [[ 0.,  0.,  0., ...,  0.,  0.,  0.],\n",
       "         [ 0.,  0.,  0., ...,  0.,  0.,  0.]]],\n",
       "\n",
       "\n",
       "       [[[ 5.,  0.,  0., ...,  0.,  0.,  0.],\n",
       "         [ 3.,  0.,  0., ...,  0.,  0.,  0.]],\n",
       "\n",
       "        [[ 0.,  0.,  0., ...,  0.,  0.,  0.],\n",
       "         [ 0.,  0.,  0., ...,  0.,  0.,  0.]]],\n",
       "\n",
       "\n",
       "       [[[ 0.,  0.,  0., ...,  0.,  0.,  5.],\n",
       "         [ 0.,  0.,  0., ...,  0.,  0., 17.]],\n",
       "\n",
       "        [[ 0.,  0.,  0., ...,  0.,  0.,  0.],\n",
       "         [ 0.,  0.,  0., ...,  0.,  0.,  0.]]]])"
      ]
     },
     "execution_count": 152,
     "metadata": {},
     "output_type": "execute_result"
    }
   ],
   "source": [
    " get_labels(train_data)"
   ]
  },
  {
   "cell_type": "code",
   "execution_count": null,
   "metadata": {},
   "outputs": [],
   "source": []
  },
  {
   "cell_type": "code",
   "execution_count": null,
   "metadata": {},
   "outputs": [],
   "source": []
  },
  {
   "cell_type": "markdown",
   "metadata": {},
   "source": [
    "## Part 4: Visualizing the learned features\n"
   ]
  },
  {
   "cell_type": "code",
   "execution_count": 132,
   "metadata": {},
   "outputs": [
    {
     "data": {
      "text/plain": [
       "(3, 3, 3, 64)"
      ]
     },
     "execution_count": 132,
     "metadata": {},
     "output_type": "execute_result"
    }
   ],
   "source": [
    "first_layer_weights = vggmodel.get_weights()[0]\n",
    "first_layer_weights.shape"
   ]
  },
  {
   "cell_type": "code",
   "execution_count": 50,
   "metadata": {},
   "outputs": [],
   "source": [
    "def kernel_image(weights, i, positive):\n",
    "    \n",
    "    # extract the convolutional kernel at position i\n",
    "    k = weights[:,:,:,i].copy()\n",
    "    if not positive:\n",
    "        k = -k\n",
    "    \n",
    "    # clip the values: if we're looking for positive\n",
    "    # values, just keep the positive part; vice versa\n",
    "    # for the negative values.\n",
    "    k *= k > 0\n",
    "\n",
    "    # rescale the colors, to make the images less dark\n",
    "    m = k.max()\n",
    "    if m > 1e-3:\n",
    "        k /= m \n",
    "\n",
    "    return k"
   ]
  },
  {
   "cell_type": "code",
   "execution_count": 198,
   "metadata": {},
   "outputs": [
    {
     "name": "stdout",
     "output_type": "stream",
     "text": [
      "block1_conv1 (3, 3, 3, 64)\n",
      "block1_conv2 (3, 3, 64, 64)\n",
      "block2_conv1 (3, 3, 64, 128)\n",
      "block2_conv2 (3, 3, 128, 128)\n",
      "block3_conv1 (3, 3, 128, 256)\n",
      "block3_conv2 (3, 3, 256, 256)\n",
      "block3_conv3 (3, 3, 256, 256)\n",
      "block4_conv1 (3, 3, 256, 512)\n",
      "block4_conv2 (3, 3, 512, 512)\n",
      "block4_conv3 (3, 3, 512, 512)\n",
      "block5_conv1 (3, 3, 512, 512)\n",
      "block5_conv2 (3, 3, 512, 512)\n",
      "block5_conv3 (3, 3, 512, 512)\n"
     ]
    }
   ],
   "source": [
    "# summarize filter shapes\n",
    "for layer in feature_extractor.layers:\n",
    "    # check for convolutional layer\n",
    "    if 'conv' not in layer.name:\n",
    "        continue\n",
    "    # get filter weights\n",
    "    weights, biases = layer.get_weights()\n",
    "    print(layer.name, weights.shape)\n",
    "    "
   ]
  },
  {
   "cell_type": "code",
   "execution_count": 210,
   "metadata": {},
   "outputs": [],
   "source": [
    "# plot first few filters\n",
    "def plot_filters(k):\n",
    "    f = plt.figure(figsize=(8,8))\n",
    "    \n",
    "    n_filters, ix = 3, 1\n",
    "    for i in range(n_filters):\n",
    "        # get the filter\n",
    "\n",
    "        # plot each channel separately\n",
    "        for j in range(3):\n",
    "            # specify subplot and turn of axis\n",
    "            ax = plt.subplot(n_filters, 3, ix)\n",
    "            ax.set_xticks([])\n",
    "            ax.set_yticks([])\n",
    "            # plot filter channel in grayscale\n",
    "            plt.imshow(k[:, :, j], cmap='gray')\n",
    "            ix += 1\n",
    "    # show the figure\n",
    "    plt.show()"
   ]
  },
  {
   "cell_type": "code",
   "execution_count": 211,
   "metadata": {},
   "outputs": [
    {
     "name": "stdout",
     "output_type": "stream",
     "text": [
      "positive\n"
     ]
    },
    {
     "data": {
      "image/png": "[encoded data removed]",
      "text/plain": [
       "<Figure size 576x576 with 9 Axes>"
      ]
     },
     "metadata": {},
     "output_type": "display_data"
    },
    {
     "name": "stdout",
     "output_type": "stream",
     "text": [
      "negative\n"
     ]
    },
    {
     "data": {
      "image/png": "[encoded data removed]",
      "text/plain": [
       "<Figure size 576x576 with 9 Axes>"
      ]
     },
     "metadata": {},
     "output_type": "display_data"
    }
   ],
   "source": [
    "# Visualize some of the patterns used by the first convolutional layer\n",
    "def pattern(i):\n",
    "    k_pos = kernel_image(weights, i, True)\n",
    "    print(\"positive\")\n",
    "    plot_filters(k_pos)\n",
    "\n",
    "    print(\"negative\")\n",
    "    k_neg = kernel_image(weights, i, False)\n",
    "    plot_filters(k_neg)\n",
    "\n",
    "pattern(0)"
   ]
  },
  {
   "cell_type": "code",
   "execution_count": 212,
   "metadata": {},
   "outputs": [
    {
     "name": "stdout",
     "output_type": "stream",
     "text": [
      "positive\n"
     ]
    },
    {
     "data": {
      "image/png": "[encoded data removed]",
      "text/plain": [
       "<Figure size 576x576 with 9 Axes>"
      ]
     },
     "metadata": {},
     "output_type": "display_data"
    },
    {
     "name": "stdout",
     "output_type": "stream",
     "text": [
      "negative\n"
     ]
    },
    {
     "data": {
      "image/png": "[encoded data removed]",
      "text/plain": [
       "<Figure size 576x576 with 9 Axes>"
      ]
     },
     "metadata": {},
     "output_type": "display_data"
    }
   ],
   "source": [
    "# Visualize some of the patterns used by second convolutional layer\n",
    "\n",
    "pattern(1)"
   ]
  },
  {
   "cell_type": "code",
   "execution_count": null,
   "metadata": {},
   "outputs": [],
   "source": []
  }
 ],
 "metadata": {
  "kernelspec": {
   "display_name": "Python 3",
   "language": "python",
   "name": "python3"
  },
  "language_info": {
   "codemirror_mode": {
    "name": "ipython",
    "version": 3
   },
   "file_extension": ".py",
   "mimetype": "text/x-python",
   "name": "python",
   "nbconvert_exporter": "python",
   "pygments_lexer": "ipython3",
   "version": "3.8.3"
  }
 },
 "nbformat": 4,
 "nbformat_minor": 4
}
