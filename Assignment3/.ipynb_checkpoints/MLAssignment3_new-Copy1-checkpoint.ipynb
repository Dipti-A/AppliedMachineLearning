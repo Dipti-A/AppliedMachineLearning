{
 "cells": [
  {
   "cell_type": "code",
   "execution_count": 1,
   "metadata": {},
   "outputs": [],
   "source": [
    "import numpy as np\n",
    "import pandas as pd\n",
    "from sklearn.feature_extraction.text import TfidfVectorizer\n",
    "from nltk.tokenize import RegexpTokenizer\n",
    "from nltk.stem import WordNetLemmatizer"
   ]
  },
  {
   "cell_type": "code",
   "execution_count": 116,
   "metadata": {},
   "outputs": [
    {
     "data": {
      "text/plain": [
       "Labels      0\n",
       "Comments    0\n",
       "dtype: int64"
      ]
     },
     "metadata": {},
     "output_type": "display_data"
    },
    {
     "data": {
      "text/plain": [
       "Labels      0\n",
       "Comments    0\n",
       "dtype: int64"
      ]
     },
     "metadata": {},
     "output_type": "display_data"
    },
    {
     "data": {
      "text/plain": [
       "Labels      0\n",
       "Comments    0\n",
       "dtype: int64"
      ]
     },
     "metadata": {},
     "output_type": "display_data"
    }
   ],
   "source": [
    "# Read subset of training dataset\n",
    "df_train_subset = pd.read_csv(\"a3_first_sample.tsv\",sep='\\t',header = None)\n",
    "df_train_subset.rename(columns={0:'Labels',1:'Comments'}, inplace=True)\n",
    "\n",
    "# Read final training dataset\n",
    "df_train_final = pd.read_csv(\"a3_train_round1.tsv\",sep='\\t',header = None)\n",
    "df_train_final.rename(columns={0:'Labels',1:'Comments'}, inplace=True)\n",
    "\n",
    "# Read test dataset\n",
    "df_test = pd.read_csv(\"a3_test.tsv\",sep='\\t',header = None)\n",
    "df_test.rename(columns={0:'Labels',1:'Comments'}, inplace=True)\n",
    "\n",
    "# Check if any rows are blank in either datasets\n",
    "display(df_train_subset.isnull().sum())\n",
    "display(df_train_final.isnull().sum())\n",
    "display(df_test.isnull().sum())"
   ]
  },
  {
   "cell_type": "code",
   "execution_count": 117,
   "metadata": {},
   "outputs": [
    {
     "data": {
      "text/plain": [
       "0    493\n",
       "1    482\n",
       "Name: Labels, dtype: int64"
      ]
     },
     "metadata": {},
     "output_type": "display_data"
    },
    {
     "data": {
      "text/plain": [
       "0    4867\n",
       "1    4755\n",
       "Name: Labels, dtype: int64"
      ]
     },
     "metadata": {},
     "output_type": "display_data"
    },
    {
     "data": {
      "text/plain": [
       "0    198\n",
       "1    194\n",
       "Name: Labels, dtype: int64"
      ]
     },
     "metadata": {},
     "output_type": "display_data"
    }
   ],
   "source": [
    "# Check if the data set is balanced for both labels\n",
    "display(df_train_subset['Labels'].value_counts() )\n",
    "\n",
    "display(df_train_final['Labels'].value_counts() )\n",
    "\n",
    "display(df_test['Labels'].value_counts() )"
   ]
  },
  {
   "cell_type": "code",
   "execution_count": null,
   "metadata": {},
   "outputs": [],
   "source": []
  },
  {
   "cell_type": "code",
   "execution_count": 118,
   "metadata": {},
   "outputs": [
    {
     "data": {
      "text/plain": [
       "(9622, 392)"
      ]
     },
     "execution_count": 118,
     "metadata": {},
     "output_type": "execute_result"
    }
   ],
   "source": [
    "# Creating training and test sets\n",
    "X_train = df_train_final[\"Comments\"]\n",
    "y_train = df_train_final[\"Labels\"]\n",
    "\n",
    "X_test = df_test[\"Comments\"]\n",
    "y_test = df_test[\"Labels\"]\n",
    "\n",
    "len(X_train), len(X_test)\n"
   ]
  },
  {
   "cell_type": "code",
   "execution_count": 119,
   "metadata": {},
   "outputs": [
    {
     "name": "stdout",
     "output_type": "stream",
     "text": [
      "['a', 'able', 'about', 'absolutely', 'accept', 'accord', 'ache', 'actual', 'actually', 'adverse', 'affect', 'afraid', 'africa', 'after', 'again', 'against', 'age', 'agenda', 'ago', 'agree', 'ahead', 'aid', 'ain', 'alive', 'all', 'allergic', 'allergy', 'allow', 'almost', 'alone', 'along', 'already', 'also', 'alter', 'always', 'amaze', 'america', 'american', 'among', 'amount', 'an', 'and', 'animal', 'another', 'answer', 'anti', 'antibody', 'antivaxxers', 'any', 'anymore', 'anyone', 'anything', 'anyway', 'apocalypse', 'appointment', 'approval', 'approve', 'are', 'area', 'aren', 'arm', 'around', 'as', 'asap', 'ask', 'astrazeneca', 'at', 'attack', 'autism', 'autoimmune', 'available', 'avoid', 'away', 'awesome', 'b', 'baby', 'back', 'bad', 'base', 'basically', 'be', 'beast', 'because', 'become', 'before', 'begin', 'behind', 'believe', 'benefit', 'best', 'between', 'big', 'bill', 'billion', 'bit', 'bless', 'blood', 'body', 'boost', 'both', 'brain', 'brilliant', 'bring', 'brother', 'build', 'business', 'but', 'buy', 'by', 'c', 'call', 'can', 'cancer', 'cannot', 'cant', 'care', 'case', 'catch', 'cause', 'cdc', 'cell', 'certain', 'chance', 'change', 'channel', 'check', 'chemical', 'child', 'chill', 'china', 'chip', 'choice', 'choose', 'claim', 'clear', 'clinical', 'close', 'cold', 'come', 'comment', 'common', 'community', 'company', 'compare', 'complete', 'completely', 'concern', 'condition', 'consider', 'conspiracy', 'contain', 'continue', 'contract', 'control', 'convince', 'corona', 'coronavirus', 'cost', 'could', 'couldn', 'count', 'country', 'couple', 'course', 'covid', 'covidvaccine', 'crap', 'crazy', 'create', 'cry', 'cure', 'current', 'currently', 'd', 'dad', 'damage', 'damn', 'dangerous', 'data', 'daughter', 'day', 'dead', 'deadly', 'deal', 'death', 'decade', 'decide', 'decision', 'definitely', 'depopulation', 'design', 'develop', 'development', 'didn', 'die', 'different', 'disease', 'distance', 'distancing', 'distribution', 'dna', 'do', 'doctor', 'doesn', 'don', 'dont', 'dos', 'dose', 'doubt', 'down', 'dr', 'drink', 'drug', 'due', 'dumb', 'during', 'each', 'early', 'earth', 'easy', 'eat', 'effect', 'effective', 'effectiveness', 'efficacy', 'effort', 'either', 'elderly', 'else', 'emergency', 'end', 'enough', 'entire', 'especially', 'etc', 'eu', 'even', 'event', 'ever', 'every', 'everybody', 'everyone', 'everything', 'evidence', 'evil', 'exactly', 'except', 'excite', 'excited', 'exist', 'expect', 'experience', 'experiment', 'experimental', 'expert', 'explain', 'explanation', 'expose', 'extremely', 'eye', 'face', 'fact', 'fail', 'fake', 'fall', 'family', 'fantastic', 'far', 'fast', 'faster', 'fatigue', 'fda', 'fear', 'feel', 'feeling', 'felt', 'fever', 'few', 'fight', 'finally', 'find', 'fine', 'first', 'flu', 'folk', 'follow', 'food', 'for', 'force', 'forever', 'forget', 'form', 'forward', 'free', 'freedom', 'friday', 'friend', 'from', 'front', 'fuck', 'full', 'fully', 'future', 'gate', 'gene', 'general', 'genetic', 'get', 'give', 'glad', 'go', 'god', 'gonna', 'good', 'got', 'government', 'grateful', 'great', 'group', 'guarantee', 'guess', 'guinea', 'guy', 'ha', 'had', 'half', 'hand', 'happen', 'happy', 'hard', 'harm', 'harmful', 'hasn', 'hate', 'have', 'haven', 'he', 'head', 'headache', 'health', 'healthcare', 'healthy', 'hear', 'heart', 'hell', 'help', 'her', 'herd', 'here', 'hesitant', 'high', 'highly', 'him', 'his', 'history', 'hiv', 'hold', 'home', 'honestly', 'hop', 'hope', 'hopefully', 'hospital', 'hour', 'how', 'however', 'huge', 'human', 'humanity', 'hundred', 'hurt', 'husband', 'i', 'idea', 'idiot', 'if', 'ill', 'illness', 'im', 'imagine', 'immediately', 'immune', 'immunity', 'important', 'in', 'include', 'increase', 'incredibly', 'individual', 'industry', 'infect', 'infection', 'info', 'information', 'ingredient', 'inject', 'injection', 'injury', 'instead', 'into', 'involve', 'is', 'isn', 'issue', 'it', 'its', 'itself', 'jab', 'january', 'jesus', 'job', 'johnson', 'joke', 'just', 'keep', 'kid', 'kill', 'kind', 'know', 'lab', 'large', 'last', 'late', 'later', 'law', 'lead', 'learn', 'least', 'leave', 'less', 'let', 'level', 'liability', 'lie', 'life', 'like', 'likely', 'line', 'list', 'listen', 'literally', 'little', 'live', 'll', 'lockdown', 'lol', 'long', 'longer', 'look', 'lord', 'lose', 'lot', 'love', 'low', 'luck', 'lucky', 'lung', 'm', 'major', 'majority', 'make', 'man', 'mandatory', 'manufacturer', 'many', 'mark', 'market', 'mask', 'mass', 'matter', 'may', 'maybe', 'me', 'mean', 'medical', 'medication', 'medicine', 'medium', 'meet', 'member', 'mention', 'might', 'mild', 'million', 'mind', 'mine', 'minor', 'minute', 'miracle', 'misinformation', 'miss', 'moderna', 'mom', 'moment', 'money', 'month', 'more', 'morning', 'most', 'mother', 'move', 'mrna', 'much', 'mum', 'muscle', 'must', 'mutate', 'mutation', 'my', 'myself', 'n', 'natural', 'naturally', 'nd', 'near', 'nearly', 'necessary', 'need', 'needle', 'negative', 'neither', 'nervous', 'never', 'new', 'news', 'next', 'nh', 'nice', 'night', 'no', 'nobody', 'non', 'none', 'nope', 'nor', 'normal', 'norway', 'not', 'nothing', 'now', 'number', 'nurse', 'of', 'off', 'offer', 'oh', 'ok', 'okay', 'old', 'on', 'once', 'one', 'only', 'open', 'opinion', 'or', 'order', 'other', 'others', 'otherwise', 'our', 'out', 'outside', 'over', 'own', 'oxford', 'pain', 'pandemic', 'parent', 'part', 'pas', 'pass', 'past', 'patient', 'pay', 'people', 'per', 'percent', 'perfectly', 'perhaps', 'period', 'person', 'personal', 'personally', 'pfizer', 'pharma', 'pharmaceutical', 'phase', 'pig', 'place', 'plan', 'planet', 'play', 'please', 'plus', 'point', 'poison', 'polio', 'politician', 'poor', 'population', 'positive', 'possible', 'possibly', 'post', 'potential', 'ppl', 'pray', 'present', 'pressure', 'pretty', 'prevent', 'priority', 'pro', 'probably', 'problem', 'process', 'produce', 'product', 'production', 'professional', 'program', 'promote', 'proof', 'propaganda', 'properly', 'protect', 'protection', 'protein', 'proud', 'prove', 'provide', 'public', 'pump', 'push', 'put', 'question', 'quick', 'quickly', 'quite', 'race', 'rare', 'rat', 'rate', 'rather', 're', 'react', 'reaction', 'read', 'ready', 'real', 'really', 'reason', 'receive', 'recently', 'recommend', 'recover', 'recovery', 'reduce', 'refuse', 'regard', 'release', 'relief', 'remember', 'report', 'require', 'research', 'researcher', 'response', 'responsible', 'rest', 'result', 'rid', 'right', 'risk', 'rna', 'roll', 'round', 'rule', 'run', 'rush', 'rushed', 's', 'sad', 'safe', 'safety', 'same', 'sars', 'save', 'say', 'scam', 'scar', 'scared', 'scary', 'schedule', 'school', 'science', 'scientific', 'scientist', 'second', 'see', 'seem', 'self', 'sell', 'sense', 'serious', 'seriously', 'several', 'severe', 'share', 'she', 'sheep', 'shit', 'short', 'shot', 'should', 'shouldn', 'show', 'sick', 'side', 'sign', 'simple', 'simply', 'since', 'single', 'site', 'situation', 'skeptical', 'slow', 'small', 'smart', 'so', 'social', 'society', 'solution', 'some', 'someone', 'something', 'son', 'soon', 'sooner', 'sore', 'sorry', 'sort', 'sound', 'speak', 'speed', 'spike', 'spread', 'st', 'staff', 'stand', 'start', 'state', 'stay', 'step', 'stick', 'still', 'stop', 'story', 'strain', 'strong', 'study', 'stuff', 'stupid', 'such', 'sue', 'suffer', 'super', 'support', 'suppose', 'sure', 'survival', 'survive', 'symptom', 'system', 't', 'take', 'talk', 'teacher', 'technology', 'tell', 'ten', 'term', 'test', 'testing', 'th', 'than', 'thank', 'thankful', 'thanks', 'that', 'thats', 'the', 'their', 'them', 'themselves', 'then', 'theory', 'therapy', 'there', 'therefore', 'these', 'they', 'thing', 'think', 'third', 'this', 'those', 'though', 'thousand', 'three', 'through', 'thursday', 'till', 'time', 'to', 'today', 'together', 'tomorrow', 'too', 'top', 'totally', 'track', 'transmission', 'travel', 'treat', 'treatment', 'trial', 'true', 'trump', 'trust', 'truth', 'try', 'tuesday', 'turn', 'two', 'type', 'u', 'uk', 'under', 'understand', 'unknown', 'unless', 'untested', 'until', 'up', 'update', 'us', 'use', 'useless', 'usually', 'v', 'vac', 'vaccinate', 'vaccinated', 'vaccination', 'vaccine', 'variant', 'vax', 'vaxx', 'vaxxer', 'vaxxers', 've', 'very', 'video', 'view', 'virus', 'vitamin', 'volunteer', 'vulnerable', 'wait', 'wake', 'walk', 'wanna', 'want', 'war', 'wasn', 'watch', 'water', 'way', 'we', 'weak', 'wear', 'week', 'well', 'what', 'whatever', 'when', 'where', 'whether', 'which', 'while', 'who', 'whole', 'why', 'wife', 'will', 'willing', 'win', 'wish', 'with', 'within', 'without', 'woman', 'wonder', 'wont', 'word', 'work', 'worker', 'world', 'worried', 'worry', 'worth', 'would', 'wouldn', 'wow', 'wrong', 'y', 'yeah', 'year', 'yes', 'yesterday', 'yet', 'you', 'young', 'your', 'yourself', 'zero', 'zombie']\n",
      "\n",
      "\n",
      "               TF-IDF\n",
      "solution    0.710481\n",
      "as          0.357596\n",
      "covid       0.296372\n",
      "not         0.270059\n",
      "this        0.265198\n",
      "of          0.239718\n",
      "be          0.165571\n",
      "vaccine     0.161059\n",
      "the         0.159449\n",
      "propaganda  0.000000\n"
     ]
    }
   ],
   "source": [
    "\n",
    "\n",
    "## Preprocessing begins ##\n",
    "# 1. Tokenise into alphabetic tokens thus discard numbers and punctuations\n",
    "# 2. Lemmatize a Sentence with the appropriate POS tag\n",
    "\n",
    "def preprocess(text):\n",
    "    # 1. Tokenise to alphabetic tokens\n",
    "    tokeniser = RegexpTokenizer(r'[A-Za-z]+')\n",
    "    tokens = tokeniser.tokenize(text)\n",
    "    \n",
    "    # 2. POS tagging for adjective, nouns, adverb and verbs\n",
    "    pos_map = {'J': 'a', 'N': 'n', 'R': 'r', 'V': 'v'}\n",
    "    pos_tags = nltk.pos_tag(tokens)\n",
    "    \n",
    "    # 3. Lowercase and lemmatise \n",
    "    lemmatiser = WordNetLemmatizer()\n",
    "    tokens = [lemmatiser.lemmatize(i.lower(), pos=pos_map.get(j[0], 'v')) for i, j in pos_tags]\n",
    "    return tokens\n",
    "\n",
    "## Preprocessing continued ##\n",
    "# 3. Stop words are removed\n",
    "# 4. min_df = remove tokens that are too rare like less than 20 in this case\n",
    "# 5. max_df = remove tokens that occur too freuently, 80% in this case\n",
    "vectorizer = TfidfVectorizer(stop_words=\"english\", analyzer=preprocess, min_df=20, max_df = 0.8,max_features=1000, decode_error=\"ignore\")\n",
    "\n",
    "X_train_vectorized = vectorizer.fit_transform(X_train)\n",
    "features = vectorizer.get_feature_names()\n",
    "print(features)\n",
    "\n",
    "df = pd.DataFrame(X_train_vectorized[1].T.todense(), index=features, columns=[\"TF-IDF\"])\n",
    "df = df.sort_values('TF-IDF', ascending=False)\n",
    "print (\"\\n\\n\",df.head(10))"
   ]
  },
  {
   "cell_type": "code",
   "execution_count": 120,
   "metadata": {},
   "outputs": [
    {
     "name": "stdout",
     "output_type": "stream",
     "text": [
      "0.875\n",
      "              precision    recall  f1-score   support\n",
      "\n",
      "           0       0.86      0.89      0.88       198\n",
      "           1       0.89      0.86      0.87       194\n",
      "\n",
      "    accuracy                           0.88       392\n",
      "   macro avg       0.88      0.87      0.87       392\n",
      "weighted avg       0.88      0.88      0.87       392\n",
      "\n"
     ]
    }
   ],
   "source": [
    "from sklearn.naive_bayes import MultinomialNB\n",
    "from sklearn.metrics import classification_report, accuracy_score\n",
    "\n",
    "# Using Multinomial baseline as baseline model\n",
    "model = MultinomialNB()\n",
    "\n",
    "# transform the list of text to tf-idf before passing it to the model\n",
    "model.fit(vectorizer.transform(X_train), y_train)\n",
    "y_pred = model.predict(vectorizer.transform(X_test))\n",
    "\n",
    "print(accuracy_score(y_test, y_pred))\n",
    "print(classification_report(y_test, y_pred))"
   ]
  },
  {
   "cell_type": "code",
   "execution_count": null,
   "metadata": {},
   "outputs": [],
   "source": []
  },
  {
   "cell_type": "code",
   "execution_count": 121,
   "metadata": {},
   "outputs": [
    {
     "name": "stdout",
     "output_type": "stream",
     "text": [
      "[('svc_tfidf', 0.7856994387861151), ('sgd_tfidf', 0.7762419455414675), ('svc', 0.7717730201621285), ('sgd', 0.7595094574932446)]\n"
     ]
    }
   ],
   "source": [
    "from sklearn.linear_model import SGDClassifier\n",
    "from sklearn.svm import SVC\n",
    "from sklearn.pipeline import Pipeline\n",
    "from sklearn.feature_extraction.text import TfidfVectorizer, CountVectorizer\n",
    "from sklearn.model_selection import cross_val_score\n",
    " \n",
    "# start with the classic\n",
    "# with either pure counts or tfidf features\n",
    "sgd = Pipeline([\n",
    "        (\"count vectorizer\", CountVectorizer(stop_words=\"english\", max_features=3000)),\n",
    "        (\"sgd\", SGDClassifier(loss=\"modified_huber\"))\n",
    "    ])\n",
    "sgd_tfidf = Pipeline([\n",
    "        (\"tfidf_vectorizer\", TfidfVectorizer(stop_words=\"english\", max_features=3000)),\n",
    "        (\"sgd\", SGDClassifier(loss=\"modified_huber\"))\n",
    "    ])\n",
    " \n",
    "svc = Pipeline([\n",
    "        (\"count_vectorizer\", CountVectorizer(stop_words=\"english\", max_features=3000)),\n",
    "        (\"linear svc\", SVC(kernel=\"linear\"))\n",
    "    ])\n",
    "svc_tfidf = Pipeline([\n",
    "        (\"tfidf_vectorizer\", TfidfVectorizer(stop_words=\"english\", max_features=3000)),\n",
    "        (\"linear svc\", SVC(kernel=\"linear\"))\n",
    "    ])\n",
    "   \n",
    "all_models = [\n",
    "    (\"sgd\", sgd),\n",
    "    (\"sgd_tfidf\", sgd_tfidf),\n",
    "    (\"svc\", svc),\n",
    "    (\"svc_tfidf\", svc_tfidf),\n",
    "    ]\n",
    " \n",
    "unsorted_scores = [(name, cross_val_score(model, X_train, y_train, cv=2).mean()) for name, model in all_models]\n",
    "scores = sorted(unsorted_scores, key=lambda x: -x[1])\n",
    "print(scores)  "
   ]
  },
  {
   "cell_type": "code",
   "execution_count": 15,
   "metadata": {},
   "outputs": [
    {
     "name": "stdout",
     "output_type": "stream",
     "text": [
      "0.7992518703241895\n",
      "              precision    recall  f1-score   support\n",
      "\n",
      "           0       0.80      0.81      0.81      1241\n",
      "           1       0.79      0.79      0.79      1165\n",
      "\n",
      "    accuracy                           0.80      2406\n",
      "   macro avg       0.80      0.80      0.80      2406\n",
      "weighted avg       0.80      0.80      0.80      2406\n",
      "\n"
     ]
    }
   ],
   "source": [
    "model = svc_tfidf\n",
    "model.fit(X_train, y_train)\n",
    "y_pred = model.predict(X_test)\n",
    "print(accuracy_score(y_test, y_pred))\n",
    "print(classification_report(y_test, y_pred))"
   ]
  },
  {
   "cell_type": "markdown",
   "metadata": {},
   "source": [
    "### Can you say anything about the errors that the system makes? For a classification task, you may consider a confusion matrix. It is also probably meaningful to include selected errors and comment on what might have gone wrong."
   ]
  },
  {
   "cell_type": "code",
   "execution_count": 53,
   "metadata": {},
   "outputs": [
    {
     "data": {
      "image/png": "[encoded data removed]",
      "text/plain": [
       "<Figure size 432x288 with 2 Axes>"
      ]
     },
     "metadata": {
      "needs_background": "light"
     },
     "output_type": "display_data"
    }
   ],
   "source": [
    "from sklearn.metrics import plot_confusion_matrix\n",
    "import matplotlib.pyplot as plt\n",
    "\n",
    "disp = plot_confusion_matrix(model, X_test, y_test, cmap=plt.cm.Blues)\n",
    "disp.ax_.set_title(\"Confusion Matrix\")\n",
    "plt.show()\n"
   ]
  },
  {
   "cell_type": "code",
   "execution_count": null,
   "metadata": {},
   "outputs": [],
   "source": []
  }
 ],
 "metadata": {
  "kernelspec": {
   "display_name": "Python 3",
   "language": "python",
   "name": "python3"
  },
  "language_info": {
   "codemirror_mode": {
    "name": "ipython",
    "version": 3
   },
   "file_extension": ".py",
   "mimetype": "text/x-python",
   "name": "python",
   "nbconvert_exporter": "python",
   "pygments_lexer": "ipython3",
   "version": "3.8.3"
  }
 },
 "nbformat": 4,
 "nbformat_minor": 4
}
