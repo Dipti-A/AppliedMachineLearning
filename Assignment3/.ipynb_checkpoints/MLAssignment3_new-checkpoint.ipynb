{
 "cells": [
  {
   "cell_type": "code",
   "execution_count": 58,
   "metadata": {},
   "outputs": [],
   "source": [
    "import numpy as np\n",
    "import pandas as pd\n",
    "from sklearn.feature_extraction.text import TfidfVectorizer\n",
    "from nltk.tokenize import RegexpTokenizer\n",
    "from nltk.stem import WordNetLemmatizer\n",
    "from sklearn.ensemble import RandomForestClassifier\n",
    "from sklearn.svm import SVC\n",
    "import nltk\n",
    "from sklearn.naive_bayes import MultinomialNB\n",
    "from sklearn.metrics import classification_report, accuracy_score\n",
    "from sklearn.pipeline import Pipeline\n",
    "from sklearn.feature_extraction.text import TfidfVectorizer\n",
    "from sklearn.model_selection import cross_val_score\n",
    "from sklearn.metrics import plot_confusion_matrix\n",
    "import matplotlib.pyplot as plt\n"
   ]
  },
  {
   "cell_type": "code",
   "execution_count": 43,
   "metadata": {},
   "outputs": [
    {
     "data": {
      "text/plain": [
       "Labels      0\n",
       "Comments    0\n",
       "dtype: int64"
      ]
     },
     "metadata": {},
     "output_type": "display_data"
    },
    {
     "data": {
      "text/plain": [
       "Labels      0\n",
       "Comments    0\n",
       "dtype: int64"
      ]
     },
     "metadata": {},
     "output_type": "display_data"
    },
    {
     "data": {
      "text/plain": [
       "Labels      0\n",
       "Comments    0\n",
       "dtype: int64"
      ]
     },
     "metadata": {},
     "output_type": "display_data"
    }
   ],
   "source": [
    "# Read subset of training dataset\n",
    "df_train_subset = pd.read_csv(\"a3_first_sample.tsv\",sep='\\t',header = None)\n",
    "df_train_subset.rename(columns={0:'Labels',1:'Comments'}, inplace=True)\n",
    "\n",
    "# Read first round of training dataset\n",
    "df_train = pd.read_csv(\"a3_train_round1.tsv\",sep='\\t',header = None)\n",
    "df_train.rename(columns={0:'Labels',1:'Comments'}, inplace=True)\n",
    "\n",
    "# Read test dataset\n",
    "df_test = pd.read_csv(\"a3_test.tsv\",sep='\\t',header = None)\n",
    "df_test.rename(columns={0:'Labels',1:'Comments'}, inplace=True)\n",
    "\n",
    "# Check if any rows are blank in either datasets\n",
    "display(df_train_subset.isnull().sum())\n",
    "display(df_train.isnull().sum())\n",
    "display(df_test.isnull().sum())"
   ]
  },
  {
   "cell_type": "code",
   "execution_count": null,
   "metadata": {
    "scrolled": true
   },
   "outputs": [],
   "source": []
  },
  {
   "cell_type": "markdown",
   "metadata": {},
   "source": [
    "### The final training data contains multiple labels by multiple annotators so we are using the most frequent occuring label as the \"truth label\""
   ]
  },
  {
   "cell_type": "code",
   "execution_count": 114,
   "metadata": {},
   "outputs": [
    {
     "name": "stdout",
     "output_type": "stream",
     "text": [
      "8788\n"
     ]
    },
    {
     "data": {
      "text/html": [
       "<div>\n",
       "<style scoped>\n",
       "    .dataframe tbody tr th:only-of-type {\n",
       "        vertical-align: middle;\n",
       "    }\n",
       "\n",
       "    .dataframe tbody tr th {\n",
       "        vertical-align: top;\n",
       "    }\n",
       "\n",
       "    .dataframe thead th {\n",
       "        text-align: right;\n",
       "    }\n",
       "</style>\n",
       "<table border=\"1\" class=\"dataframe\">\n",
       "  <thead>\n",
       "    <tr style=\"text-align: right;\">\n",
       "      <th></th>\n",
       "      <th>Labels</th>\n",
       "      <th>TruthLabels</th>\n",
       "      <th>Comments</th>\n",
       "    </tr>\n",
       "  </thead>\n",
       "  <tbody>\n",
       "    <tr>\n",
       "      <th>8783</th>\n",
       "      <td>1/1</td>\n",
       "      <td>1</td>\n",
       "      <td>💉💪</td>\n",
       "    </tr>\n",
       "    <tr>\n",
       "      <th>8784</th>\n",
       "      <td>0/0</td>\n",
       "      <td>0</td>\n",
       "      <td>😐Its gonna be a NO for me.</td>\n",
       "    </tr>\n",
       "    <tr>\n",
       "      <th>8785</th>\n",
       "      <td>0/0</td>\n",
       "      <td>0</td>\n",
       "      <td>🤣 keep your 💩 I already know 3 people who have...</td>\n",
       "    </tr>\n",
       "    <tr>\n",
       "      <th>8786</th>\n",
       "      <td>0/0</td>\n",
       "      <td>0</td>\n",
       "      <td>🤣🤣🤣 \"JUST BECAUSE IT'S SAFE, DOESN'T MEAN IT D...</td>\n",
       "    </tr>\n",
       "    <tr>\n",
       "      <th>8787</th>\n",
       "      <td>0/0</td>\n",
       "      <td>0</td>\n",
       "      <td>🤨there's people already having severe side eff...</td>\n",
       "    </tr>\n",
       "  </tbody>\n",
       "</table>\n",
       "</div>"
      ],
      "text/plain": [
       "     Labels TruthLabels                                           Comments\n",
       "8783    1/1           1                                                 💉💪\n",
       "8784    0/0           0                         😐Its gonna be a NO for me.\n",
       "8785    0/0           0  🤣 keep your 💩 I already know 3 people who have...\n",
       "8786    0/0           0  🤣🤣🤣 \"JUST BECAUSE IT'S SAFE, DOESN'T MEAN IT D...\n",
       "8787    0/0           0  🤨there's people already having severe side eff..."
      ]
     },
     "execution_count": 114,
     "metadata": {},
     "output_type": "execute_result"
    }
   ],
   "source": [
    "\n",
    "# Read FINAL training dataset\n",
    "df_train_final = pd.read_csv(\"a3_train_final.tsv\",sep='\\t',header = None)\n",
    "df_train_final.rename(columns={0:'Labels',1:'Comments'}, inplace=True)\n",
    "\n",
    "X_train_final = df_train_new[\"Comments\"]\n",
    "y_train_final = df_train_new[\"Labels\"]\n",
    "\n",
    "print(len(y_train_final))\n",
    "\n",
    "annotations_list=[]\n",
    "truth_label_list = []\n",
    "for i in range(len(y_train_final)):\n",
    "    annotations_list.append(y_train_final[i].split('/'))\n",
    "    #print(annotations_list)\n",
    "    truth_label_list.append(max(set(annotations_list[i])))\n",
    "\n",
    "#print(truth_label_list)\n",
    "#df_train_final.rename(columns={\"Labels\": \"Old_Labels\"}, inplace=True)\n",
    "df_train_final.insert(1, 'TruthLabels', truth_label_list)\n",
    "#df_train_final[\"Labels\"]= df_train_final[\"Labels\"].astype(str)\n",
    "df_train_final.tail()"
   ]
  },
  {
   "cell_type": "code",
   "execution_count": null,
   "metadata": {},
   "outputs": [],
   "source": []
  },
  {
   "cell_type": "code",
   "execution_count": null,
   "metadata": {},
   "outputs": [],
   "source": []
  },
  {
   "cell_type": "code",
   "execution_count": 118,
   "metadata": {},
   "outputs": [
    {
     "data": {
      "text/plain": [
       "0    493\n",
       "1    482\n",
       "Name: Labels, dtype: int64"
      ]
     },
     "metadata": {},
     "output_type": "display_data"
    },
    {
     "data": {
      "text/plain": [
       "1    4758\n",
       "0    4030\n",
       "Name: TruthLabels, dtype: int64"
      ]
     },
     "metadata": {},
     "output_type": "display_data"
    },
    {
     "data": {
      "text/plain": [
       "0    198\n",
       "1    194\n",
       "Name: Labels, dtype: int64"
      ]
     },
     "metadata": {},
     "output_type": "display_data"
    }
   ],
   "source": [
    "# Check if the data set is balanced for both labels\n",
    "display(df_train_subset['Labels'].value_counts() )\n",
    "\n",
    "display(df_train_final['TruthLabels'].value_counts() )\n",
    "\n",
    "display(df_test['Labels'].value_counts() )"
   ]
  },
  {
   "cell_type": "code",
   "execution_count": null,
   "metadata": {},
   "outputs": [],
   "source": []
  },
  {
   "cell_type": "code",
   "execution_count": 116,
   "metadata": {},
   "outputs": [
    {
     "data": {
      "text/plain": [
       "(8788, 392)"
      ]
     },
     "execution_count": 116,
     "metadata": {},
     "output_type": "execute_result"
    }
   ],
   "source": [
    "# Seperating input and output labels for final training and test sets\n",
    "X_train_final = df_train_final[\"Comments\"]\n",
    "y_train_final = df_train_final[\"TruthLabels\"]\n",
    "\n",
    "X_test = df_test[\"Comments\"]\n",
    "y_test = df_test[\"Labels\"]\n",
    "\n",
    "len(X_train), len(X_test)\n"
   ]
  },
  {
   "cell_type": "code",
   "execution_count": 98,
   "metadata": {},
   "outputs": [
    {
     "name": "stdout",
     "output_type": "stream",
     "text": [
      "['a', 'able', 'about', 'absolutely', 'accept', 'accord', 'ache', 'actual', 'actually', 'adverse', 'affect', 'afraid', 'africa', 'after', 'again', 'against', 'age', 'agenda', 'ago', 'agree', 'ahead', 'aid', 'ain', 'alive', 'all', 'allergic', 'allergy', 'allow', 'almost', 'alone', 'along', 'already', 'also', 'alter', 'always', 'amaze', 'america', 'american', 'among', 'amount', 'an', 'and', 'animal', 'another', 'answer', 'anti', 'antibody', 'antivaxxers', 'any', 'anymore', 'anyone', 'anything', 'anyway', 'appointment', 'approval', 'approve', 'are', 'area', 'aren', 'arm', 'around', 'as', 'asap', 'ask', 'astrazeneca', 'at', 'attack', 'autism', 'autoimmune', 'available', 'avoid', 'away', 'awesome', 'b', 'baby', 'back', 'bad', 'base', 'basically', 'be', 'beast', 'because', 'become', 'before', 'begin', 'behind', 'believe', 'benefit', 'best', 'between', 'big', 'bill', 'billion', 'bit', 'bless', 'blood', 'body', 'boost', 'both', 'brain', 'brilliant', 'bring', 'build', 'business', 'but', 'by', 'c', 'call', 'can', 'cancer', 'cannot', 'cant', 'care', 'case', 'catch', 'cause', 'cdc', 'cell', 'certain', 'chance', 'change', 'check', 'chemical', 'child', 'chill', 'china', 'chip', 'choice', 'choose', 'claim', 'clear', 'clinical', 'close', 'cold', 'come', 'comment', 'common', 'community', 'company', 'compare', 'complete', 'completely', 'concern', 'condition', 'consider', 'conspiracy', 'contain', 'continue', 'contract', 'control', 'convince', 'corona', 'coronavirus', 'cost', 'could', 'couldn', 'count', 'country', 'couple', 'course', 'covid', 'covidvaccine', 'crap', 'crazy', 'create', 'cure', 'current', 'currently', 'd', 'dad', 'damage', 'damn', 'dangerous', 'data', 'day', 'dead', 'deadly', 'deal', 'death', 'decade', 'decide', 'decision', 'definitely', 'depopulation', 'develop', 'development', 'didn', 'die', 'different', 'disease', 'distance', 'distancing', 'dna', 'do', 'doctor', 'doesn', 'don', 'dont', 'dos', 'dose', 'doubt', 'down', 'dr', 'drink', 'drug', 'due', 'dumb', 'during', 'each', 'early', 'easy', 'eat', 'effect', 'effective', 'effectiveness', 'efficacy', 'effort', 'either', 'elderly', 'else', 'emergency', 'end', 'enough', 'entire', 'especially', 'etc', 'eu', 'even', 'ever', 'every', 'everyone', 'everything', 'evidence', 'evil', 'exactly', 'except', 'excite', 'excited', 'exist', 'expect', 'experience', 'experiment', 'experimental', 'expert', 'explain', 'explanation', 'expose', 'extremely', 'face', 'fact', 'fail', 'fake', 'fall', 'family', 'fantastic', 'far', 'fast', 'fatigue', 'fda', 'fear', 'feel', 'feeling', 'felt', 'fever', 'few', 'fight', 'finally', 'find', 'fine', 'first', 'flu', 'folk', 'follow', 'food', 'for', 'force', 'forever', 'forget', 'form', 'forward', 'free', 'freedom', 'friday', 'friend', 'from', 'front', 'fuck', 'full', 'fully', 'future', 'gate', 'gene', 'general', 'genetic', 'get', 'give', 'glad', 'go', 'god', 'gonna', 'good', 'got', 'government', 'grateful', 'great', 'group', 'guarantee', 'guess', 'guinea', 'guy', 'had', 'half', 'hand', 'happen', 'happy', 'hard', 'harm', 'harmful', 'hasn', 'hate', 'have', 'haven', 'he', 'head', 'headache', 'health', 'healthcare', 'healthy', 'hear', 'heart', 'hell', 'help', 'her', 'herd', 'here', 'hesitant', 'high', 'highly', 'him', 'his', 'history', 'hold', 'home', 'honestly', 'hop', 'hope', 'hopefully', 'hospital', 'hour', 'how', 'however', 'huge', 'human', 'humanity', 'hundred', 'hurt', 'husband', 'i', 'idea', 'idiot', 'if', 'ill', 'illness', 'im', 'imagine', 'immediately', 'immune', 'immunity', 'important', 'in', 'include', 'increase', 'incredibly', 'individual', 'infect', 'infection', 'info', 'information', 'ingredient', 'inject', 'injection', 'injury', 'instead', 'into', 'involve', 'isn', 'issue', 'it', 'its', 'itself', 'jab', 'jesus', 'job', 'johnson', 'joke', 'just', 'keep', 'kid', 'kill', 'kind', 'know', 'lab', 'large', 'last', 'late', 'later', 'law', 'lead', 'learn', 'least', 'leave', 'less', 'let', 'level', 'liability', 'lie', 'life', 'like', 'likely', 'line', 'list', 'listen', 'literally', 'little', 'live', 'll', 'lockdown', 'lol', 'long', 'longer', 'look', 'lord', 'lose', 'lot', 'love', 'low', 'luck', 'lucky', 'lung', 'm', 'major', 'majority', 'make', 'man', 'mandatory', 'manufacturer', 'many', 'mark', 'market', 'mask', 'mass', 'matter', 'may', 'maybe', 'me', 'mean', 'medical', 'medication', 'medicine', 'medium', 'meet', 'member', 'mention', 'might', 'mild', 'million', 'mind', 'mine', 'minute', 'miracle', 'misinformation', 'miss', 'moderna', 'mom', 'moment', 'money', 'month', 'more', 'morning', 'most', 'mother', 'move', 'mrna', 'much', 'mum', 'must', 'mutate', 'mutation', 'my', 'myself', 'n', 'natural', 'nd', 'nearly', 'necessary', 'need', 'needle', 'negative', 'neither', 'nervous', 'never', 'new', 'news', 'next', 'nh', 'nice', 'night', 'no', 'nobody', 'non', 'none', 'nope', 'nor', 'normal', 'norway', 'not', 'nothing', 'now', 'number', 'nurse', 'of', 'off', 'offer', 'oh', 'ok', 'okay', 'old', 'on', 'once', 'one', 'only', 'open', 'opinion', 'or', 'order', 'other', 'others', 'otherwise', 'our', 'out', 'over', 'own', 'oxford', 'pain', 'pandemic', 'parent', 'part', 'pas', 'pass', 'past', 'patient', 'pay', 'people', 'per', 'percent', 'perfectly', 'perhaps', 'period', 'person', 'personal', 'personally', 'pfizer', 'pharma', 'pharmaceutical', 'phase', 'pig', 'place', 'plan', 'play', 'please', 'plus', 'point', 'poison', 'polio', 'politician', 'poor', 'population', 'positive', 'possible', 'possibly', 'post', 'potential', 'ppl', 'pray', 'pressure', 'pretty', 'prevent', 'priority', 'pro', 'probably', 'problem', 'process', 'produce', 'product', 'production', 'professional', 'program', 'proof', 'propaganda', 'properly', 'protect', 'protection', 'protein', 'proud', 'prove', 'provide', 'public', 'push', 'put', 'question', 'quick', 'quickly', 'quite', 'race', 'rare', 'rat', 'rate', 'rather', 're', 'react', 'reaction', 'read', 'ready', 'real', 'really', 'reason', 'receive', 'recently', 'recommend', 'recover', 'recovery', 'reduce', 'refuse', 'regard', 'release', 'relief', 'remember', 'report', 'require', 'research', 'researcher', 'response', 'responsible', 'rest', 'result', 'rid', 'right', 'risk', 'rna', 'roll', 'rule', 'run', 'rush', 'rushed', 's', 'sad', 'safe', 'safety', 'same', 'sars', 'save', 'say', 'scam', 'scar', 'scared', 'scary', 'school', 'science', 'scientific', 'scientist', 'second', 'see', 'seem', 'self', 'sell', 'sense', 'serious', 'seriously', 'several', 'severe', 'share', 'she', 'sheep', 'shit', 'short', 'shot', 'should', 'shouldn', 'show', 'sick', 'side', 'sign', 'simple', 'simply', 'since', 'single', 'site', 'situation', 'skeptical', 'slow', 'small', 'smart', 'so', 'social', 'society', 'solution', 'some', 'someone', 'something', 'soon', 'sooner', 'sore', 'sorry', 'sort', 'sound', 'speak', 'speed', 'spike', 'spread', 'st', 'staff', 'stand', 'start', 'state', 'stay', 'step', 'stick', 'still', 'stop', 'story', 'strain', 'strong', 'study', 'stuff', 'stupid', 'such', 'sue', 'suffer', 'super', 'support', 'suppose', 'sure', 'survival', 'survive', 'symptom', 'system', 't', 'take', 'talk', 'teacher', 'technology', 'tell', 'ten', 'term', 'test', 'testing', 'th', 'than', 'thank', 'thankful', 'thanks', 'that', 'thats', 'the', 'their', 'them', 'themselves', 'then', 'theory', 'therapy', 'there', 'therefore', 'these', 'they', 'thing', 'think', 'third', 'this', 'those', 'though', 'thousand', 'three', 'through', 'thursday', 'till', 'time', 'to', 'today', 'together', 'tomorrow', 'too', 'top', 'totally', 'track', 'transmission', 'travel', 'treat', 'treatment', 'trial', 'true', 'trump', 'trust', 'truth', 'try', 'turn', 'two', 'type', 'u', 'uk', 'under', 'understand', 'unknown', 'unless', 'untested', 'until', 'up', 'update', 'us', 'use', 'usually', 'v', 'vaccinate', 'vaccinated', 'vaccination', 'vaccine', 'variant', 'vax', 'vaxx', 'vaxxer', 'vaxxers', 've', 'very', 'video', 'virus', 'vitamin', 'volunteer', 'vulnerable', 'wait', 'wake', 'walk', 'wanna', 'want', 'war', 'wasn', 'watch', 'water', 'way', 'we', 'weak', 'wear', 'week', 'well', 'what', 'whatever', 'when', 'where', 'whether', 'which', 'while', 'who', 'whole', 'why', 'wife', 'will', 'willing', 'win', 'wish', 'with', 'within', 'without', 'woman', 'wonder', 'wont', 'word', 'work', 'worker', 'world', 'worried', 'worry', 'worth', 'would', 'wouldn', 'wow', 'wrong', 'y', 'yeah', 'year', 'yes', 'yesterday', 'yet', 'you', 'young', 'your', 'yourself', 'zero', 'zombie']\n",
      "\n",
      "\n",
      "             TF-IDF\n",
      "anymore   0.441201\n",
      "exist     0.421237\n",
      "natural   0.383196\n",
      "since     0.343922\n",
      "immunity  0.331915\n",
      "protect   0.315001\n",
      "us        0.282769\n",
      "do        0.206550\n",
      "not       0.175399\n",
      "properly  0.000000\n"
     ]
    }
   ],
   "source": [
    "\n",
    "\n",
    "## Preprocessing begins ##\n",
    "# 1. Tokenise into alphabetic tokens thus discard numbers and punctuations\n",
    "# 2. Lemmatize a Sentence with the appropriate POS tag\n",
    "\n",
    "def preprocessor(text):\n",
    "    # 1. Tokenise to alphabetic tokens\n",
    "    tokeniser = RegexpTokenizer(r'[A-Za-z]+')\n",
    "    tokens = tokeniser.tokenize(text)\n",
    "    \n",
    "    # 2. POS tagging for adjective, nouns, adverb and verbs\n",
    "    pos_map = {'J': 'a', 'N': 'n', 'R': 'r', 'V': 'v'}\n",
    "    pos_tags = nltk.pos_tag(tokens)\n",
    "    \n",
    "    # 3. Lowercase and lemmatise \n",
    "    lemmatiser = WordNetLemmatizer()\n",
    "    tokens = [lemmatiser.lemmatize(i.lower(), pos=pos_map.get(j[0], 'v')) for i, j in pos_tags]\n",
    "    return tokens\n",
    "\n",
    "## Preprocessing continued ##\n",
    "# 3. Stop words are removed\n",
    "# 4. min_df = remove tokens that are too rare like less than 20 in this case\n",
    "# 5. max_df = remove tokens that occur too freuently, 80% in this case\n",
    "vectorizer = TfidfVectorizer(stop_words=\"english\", analyzer=preprocessor, min_df=20, max_df = 0.8,max_features=1000, decode_error=\"ignore\")\n",
    "\n",
    "X_train_vectorized = vectorizer.fit_transform(X_train_final)\n",
    "features = vectorizer.get_feature_names()\n",
    "print(features)\n",
    "\n",
    "df = pd.DataFrame(X_train_vectorized[1].T.todense(), index=features, columns=[\"TF-IDF\"])\n",
    "df = df.sort_values('TF-IDF', ascending=False)\n",
    "print (\"\\n\\n\",df.head(10))"
   ]
  },
  {
   "cell_type": "code",
   "execution_count": 109,
   "metadata": {},
   "outputs": [
    {
     "name": "stdout",
     "output_type": "stream",
     "text": [
      "0.8775510204081632\n",
      "              precision    recall  f1-score   support\n",
      "\n",
      "           0       0.92      0.83      0.87       198\n",
      "           1       0.84      0.93      0.88       194\n",
      "\n",
      "    accuracy                           0.88       392\n",
      "   macro avg       0.88      0.88      0.88       392\n",
      "weighted avg       0.88      0.88      0.88       392\n",
      "\n"
     ]
    }
   ],
   "source": [
    "\n",
    "# Using Multinomial naive bayes as baseline model\n",
    "model = MultinomialNB()\n",
    "\n",
    "# transform the list of text to tf-idf before passing it to the model\n",
    "model.fit(vectorizer.transform(X_train_final), y_train_final)\n",
    "y_pred = model.predict(vectorizer.transform(X_test))\n",
    "\n",
    "print(accuracy_score(y_test.astype(str), y_pred.astype(str)))\n",
    "print(classification_report(y_test.astype(str), y_pred.astype(str)))"
   ]
  },
  {
   "cell_type": "code",
   "execution_count": 122,
   "metadata": {},
   "outputs": [
    {
     "name": "stdout",
     "output_type": "stream",
     "text": [
      "[('mnb_tfidf', 0.7872098315885299), ('rfc_tfidf', 0.6025261720527992), ('svc_tfidf', 0.7931269913518434)]\n"
     ]
    }
   ],
   "source": [
    "# Evaluate Multinomial naive Bayes(as baseline) Random forest and Support vector machine classifier\n",
    "mnb_tfidf = Pipeline([\n",
    "        (\"tfidf_vectorizer\", TfidfVectorizer(stop_words=\"english\", analyzer=preprocessor, max_features=10000)),\n",
    "        (\"multinomial naive bayes\", MultinomialNB())])\n",
    "\n",
    "rfc_tfidf = Pipeline([\n",
    "        (\"tfidf_vectorizer\", TfidfVectorizer(stop_words=\"english\", analyzer=preprocessor, max_features=10000)),\n",
    "        (\"random forest\", RandomForestClassifier(max_depth=5))])\n",
    " \n",
    "svc_tfidf = Pipeline([\n",
    "        (\"tfidf_vectorizer\", TfidfVectorizer(stop_words=\"english\", analyzer=preprocessor, max_features=10000)),\n",
    "        (\"linear svc\", SVC(kernel=\"rbf\"))])\n",
    "   \n",
    "all_models = [(\"mnb_tfidf\", mnb_tfidf),(\"rfc_tfidf\", rfc_tfidf),(\"svc_tfidf\", svc_tfidf)]\n",
    " \n",
    "scores = [(name, cross_val_score(model, X_train_final, y_train_final, cv=2).mean()) for name, model in all_models]\n",
    "print(scores)  "
   ]
  },
  {
   "cell_type": "code",
   "execution_count": 111,
   "metadata": {},
   "outputs": [
    {
     "name": "stdout",
     "output_type": "stream",
     "text": [
      "0.8954081632653061\n",
      "              precision    recall  f1-score   support\n",
      "\n",
      "           0       0.93      0.85      0.89       198\n",
      "           1       0.86      0.94      0.90       194\n",
      "\n",
      "    accuracy                           0.90       392\n",
      "   macro avg       0.90      0.90      0.90       392\n",
      "weighted avg       0.90      0.90      0.90       392\n",
      "\n"
     ]
    }
   ],
   "source": [
    "model = svc_tfidf\n",
    "model.fit(X_train_final, y_train_final)\n",
    "y_pred = model.predict(X_test)\n",
    "\n",
    "print(accuracy_score(y_test.astype(str), y_pred.astype(str)))\n",
    "print(classification_report(y_test.astype(str), y_pred.astype(str)))"
   ]
  },
  {
   "cell_type": "markdown",
   "metadata": {},
   "source": [
    "### Can you say anything about the errors that the system makes? For a classification task, you may consider a confusion matrix. It is also probably meaningful to include selected errors and comment on what might have gone wrong."
   ]
  },
  {
   "cell_type": "code",
   "execution_count": 113,
   "metadata": {},
   "outputs": [
    {
     "data": {
      "image/png": "[encoded data removed]",
      "text/plain": [
       "<Figure size 432x288 with 2 Axes>"
      ]
     },
     "metadata": {
      "needs_background": "light"
     },
     "output_type": "display_data"
    }
   ],
   "source": [
    "\n",
    "disp = plot_confusion_matrix(model, X_test.astype(str), y_test.astype(str), cmap=plt.cm.Blues)\n",
    "disp.ax_.set_title(\"Confusion Matrix\")\n",
    "plt.show()\n"
   ]
  },
  {
   "cell_type": "markdown",
   "metadata": {},
   "source": [
    "### The numbers shown in dark blue cell are the true posiive and true negatives (0s and 1s) where the predicted value is same as the truth label. The numbers in light blue cell are the one which represent False positives and False negatives (where the truth and predicted values differ).\n",
    "\n",
    "#### After training with SVC the accuracy of test data is ~90% hence 10% of the labels are mis-classified. That is the labels with 0s were actually 1 and vice versa."
   ]
  }
 ],
 "metadata": {
  "kernelspec": {
   "display_name": "Python 3",
   "language": "python",
   "name": "python3"
  },
  "language_info": {
   "codemirror_mode": {
    "name": "ipython",
    "version": 3
   },
   "file_extension": ".py",
   "mimetype": "text/x-python",
   "name": "python",
   "nbconvert_exporter": "python",
   "pygments_lexer": "ipython3",
   "version": "3.8.3"
  }
 },
 "nbformat": 4,
 "nbformat_minor": 4
}
