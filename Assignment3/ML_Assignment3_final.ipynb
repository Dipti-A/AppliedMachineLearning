{
 "cells": [
  {
   "cell_type": "markdown",
   "metadata": {
    "id": "0R_KGSjCjCMY"
   },
   "source": [
    "# **Applied Machine Learning**\n",
    "# **Programming Assignment 3: Stance Classification**\n",
    "**Group 34**\n",
    "\n",
    "Dipti Aswal(gusaswdi@student.gu.se)\n",
    "\n",
    "Atefeh Aminmoghaddam(gusamiat@student.gu.se)"
   ]
  },
  {
   "cell_type": "code",
   "execution_count": 1,
   "metadata": {
    "colab": {
     "base_uri": "https://localhost:8080/"
    },
    "id": "WXd0Ho1AjBXz",
    "outputId": "3e152329-6c7d-4ffb-e9cc-1ecce04aff2f"
   },
   "outputs": [
    {
     "name": "stderr",
     "output_type": "stream",
     "text": [
      "[nltk_data] Downloading package averaged_perceptron_tagger to\n",
      "[nltk_data]     C:\\Users\\aswals\\AppData\\Roaming\\nltk_data...\n",
      "[nltk_data]   Package averaged_perceptron_tagger is already up-to-\n",
      "[nltk_data]       date!\n",
      "[nltk_data] Downloading package wordnet to\n",
      "[nltk_data]     C:\\Users\\aswals\\AppData\\Roaming\\nltk_data...\n",
      "[nltk_data]   Package wordnet is already up-to-date!\n"
     ]
    },
    {
     "data": {
      "text/plain": [
       "True"
      ]
     },
     "execution_count": 1,
     "metadata": {},
     "output_type": "execute_result"
    }
   ],
   "source": [
    "import numpy as np\n",
    "import pandas as pd\n",
    "import nltk\n",
    "from collections import Counter\n",
    "from sklearn.feature_extraction.text import TfidfVectorizer\n",
    "from nltk.tokenize import RegexpTokenizer\n",
    "from nltk.stem import WordNetLemmatizer\n",
    "from sklearn.ensemble import RandomForestClassifier\n",
    "from sklearn.metrics import cohen_kappa_score\n",
    "from sklearn.svm import SVC\n",
    "from sklearn.pipeline import Pipeline\n",
    "from sklearn.naive_bayes import MultinomialNB\n",
    "from sklearn.metrics import classification_report, accuracy_score\n",
    "from sklearn.model_selection import cross_val_score\n",
    "from sklearn.metrics import plot_confusion_matrix\n",
    "import matplotlib.pyplot as plt\n",
    "nltk.download('averaged_perceptron_tagger')\n",
    "nltk.download('wordnet')"
   ]
  },
  {
   "cell_type": "code",
   "execution_count": 2,
   "metadata": {
    "colab": {
     "base_uri": "https://localhost:8080/",
     "height": 108,
     "resources": {
      "http://localhost:8080/nbextensions/google.colab/files.js": {
       "data": "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",
       "headers": [
        [
         "content-type",
         "application/javascript"
        ]
       ],
       "ok": true,
       "status": 200,
       "status_text": ""
      }
     }
    },
    "id": "3bLvw8vNj2AY",
    "outputId": "10b1b394-7a42-46f6-a329-15a52c47455b"
   },
   "outputs": [
    {
     "ename": "ModuleNotFoundError",
     "evalue": "No module named 'google.colab'",
     "output_type": "error",
     "traceback": [
      "\u001b[1;31m---------------------------------------------------------------------------\u001b[0m",
      "\u001b[1;31mModuleNotFoundError\u001b[0m                       Traceback (most recent call last)",
      "\u001b[1;32m<ipython-input-2-21dc3c638f66>\u001b[0m in \u001b[0;36m<module>\u001b[1;34m\u001b[0m\n\u001b[1;32m----> 1\u001b[1;33m \u001b[1;32mfrom\u001b[0m \u001b[0mgoogle\u001b[0m\u001b[1;33m.\u001b[0m\u001b[0mcolab\u001b[0m \u001b[1;32mimport\u001b[0m \u001b[0mfiles\u001b[0m\u001b[1;33m\u001b[0m\u001b[1;33m\u001b[0m\u001b[0m\n\u001b[0m\u001b[0;32m      2\u001b[0m \u001b[0muploaded\u001b[0m \u001b[1;33m=\u001b[0m \u001b[0mfiles\u001b[0m\u001b[1;33m.\u001b[0m\u001b[0mupload\u001b[0m\u001b[1;33m(\u001b[0m\u001b[1;33m)\u001b[0m\u001b[1;33m\u001b[0m\u001b[1;33m\u001b[0m\u001b[0m\n",
      "\u001b[1;31mModuleNotFoundError\u001b[0m: No module named 'google.colab'"
     ]
    }
   ],
   "source": [
    "from google.colab import files\n",
    "uploaded = files.upload()"
   ]
  },
  {
   "cell_type": "code",
   "execution_count": null,
   "metadata": {
    "colab": {
     "base_uri": "https://localhost:8080/",
     "height": 121
    },
    "id": "szSk2Z3XjS8k",
    "outputId": "d6023f1c-2543-4e67-8ef7-0df4f6f33967"
   },
   "outputs": [
    {
     "data": {
      "text/plain": [
       "Labels      0\n",
       "Comments    0\n",
       "dtype: int64"
      ]
     },
     "metadata": {
      "tags": []
     },
     "output_type": "display_data"
    },
    {
     "data": {
      "text/plain": [
       "Labels      0\n",
       "Comments    0\n",
       "dtype: int64"
      ]
     },
     "metadata": {
      "tags": []
     },
     "output_type": "display_data"
    }
   ],
   "source": [
    "# Read FINAL training dataset\n",
    "df_train_final = pd.read_csv(\"a3_train_final.tsv\",sep='\\t',header = None)\n",
    "df_train_final.rename(columns={0:'Labels',1:'Comments'}, inplace=True)\n",
    "\n",
    "# Read TEST dataset\n",
    "df_test = pd.read_csv(\"a3_test.tsv\",sep='\\t',header = None)\n",
    "df_test.rename(columns={0:'Labels',1:'Comments'}, inplace=True)\n",
    "\n",
    "# Check if any rows are blank in either datasets\n",
    "display(df_train_final.isnull().sum())\n",
    "display(df_test.isnull().sum())"
   ]
  },
  {
   "cell_type": "markdown",
   "metadata": {
    "id": "QO67es7lA6EE"
   },
   "source": [
    "# Calculating the Inter-Annotator Agreement"
   ]
  },
  {
   "cell_type": "code",
   "execution_count": null,
   "metadata": {
    "id": "bl5hKvxUTOvv"
   },
   "outputs": [],
   "source": [
    "# Creating training set\n",
    "X_train_cohes = df_train_final[\"Comments\"]\n",
    "y_train_cohes = df_train_final[\"Labels\"]\n"
   ]
  },
  {
   "cell_type": "markdown",
   "metadata": {
    "id": "sUhCysDv8mwA"
   },
   "source": [
    "For calculating the Cohen's kappa coefficient, we considered the two first labels for each instance. Some of the instances which have only one label are removed. Moreover since some of the second annotations were '-1' which are not relevant for calculation the Cohen coefficient, we did not consider these instances in calculating the coefficient."
   ]
  },
  {
   "cell_type": "code",
   "execution_count": null,
   "metadata": {
    "id": "WJFG9HkhE5ZW"
   },
   "outputs": [],
   "source": [
    "annotatore1=[]\n",
    "annotatore2=[]\n",
    "annotations_split=[]\n",
    "for i in range(len(X_train_cohes)):\n",
    "    annotations_split.append(y_train_cohes[i].split('/'))\n",
    "    if '-1' not in annotations_split[i]:\n",
    "          if len(annotations_split[i])>1:\n",
    "               annotatore1.append(annotations_split[i][0])\n",
    "               annotatore2.append(annotations_split[i][1])"
   ]
  },
  {
   "cell_type": "code",
   "execution_count": null,
   "metadata": {
    "colab": {
     "base_uri": "https://localhost:8080/"
    },
    "id": "uVVfj3eKAgzh",
    "outputId": "cfdb0bdb-acba-4c33-f64b-6931077d9226"
   },
   "outputs": [
    {
     "name": "stdout",
     "output_type": "stream",
     "text": [
      "dict_items([('0', 3735), ('1', 4037)])\n"
     ]
    }
   ],
   "source": [
    "\n",
    "\n",
    "ann1= Counter( annotatore1 )\n",
    "\n",
    "print( ann1.items() )"
   ]
  },
  {
   "cell_type": "code",
   "execution_count": null,
   "metadata": {
    "colab": {
     "base_uri": "https://localhost:8080/"
    },
    "id": "vCcKw-W3Fv71",
    "outputId": "bbee3a4a-7f17-40ce-c508-1deb6dad181a"
   },
   "outputs": [
    {
     "name": "stdout",
     "output_type": "stream",
     "text": [
      "dict_items([('0', 3780), ('1', 3992)])\n"
     ]
    }
   ],
   "source": [
    "\n",
    "\n",
    "ann2= Counter( annotatore2 )\n",
    "\n",
    "print( ann2.items() )"
   ]
  },
  {
   "cell_type": "code",
   "execution_count": null,
   "metadata": {
    "colab": {
     "base_uri": "https://localhost:8080/"
    },
    "id": "FEKnxqvMVqI0",
    "outputId": "792e71e9-abd8-490f-89e7-39882aa7b3ff"
   },
   "outputs": [
    {
     "data": {
      "text/plain": [
       "0.8796975006281078"
      ]
     },
     "execution_count": 9,
     "metadata": {
      "tags": []
     },
     "output_type": "execute_result"
    }
   ],
   "source": [
    "\n",
    "cohen_kappa_score(annotatore1,annotatore2)"
   ]
  },
  {
   "cell_type": "markdown",
   "metadata": {
    "id": "sWdlpsQRLiiS"
   },
   "source": [
    "### The final training data contains multiple labels by multiple annotators so we are using the **most frequent occuring label** as the **Truth Label**"
   ]
  },
  {
   "cell_type": "code",
   "execution_count": null,
   "metadata": {
    "colab": {
     "base_uri": "https://localhost:8080/",
     "height": 219
    },
    "id": "vuLk0B2uLgX6",
    "outputId": "6f71711b-474f-4988-b094-fc13a8eaafab"
   },
   "outputs": [
    {
     "name": "stdout",
     "output_type": "stream",
     "text": [
      "8788\n"
     ]
    },
    {
     "data": {
      "text/html": [
       "<div>\n",
       "<style scoped>\n",
       "    .dataframe tbody tr th:only-of-type {\n",
       "        vertical-align: middle;\n",
       "    }\n",
       "\n",
       "    .dataframe tbody tr th {\n",
       "        vertical-align: top;\n",
       "    }\n",
       "\n",
       "    .dataframe thead th {\n",
       "        text-align: right;\n",
       "    }\n",
       "</style>\n",
       "<table border=\"1\" class=\"dataframe\">\n",
       "  <thead>\n",
       "    <tr style=\"text-align: right;\">\n",
       "      <th></th>\n",
       "      <th>Labels</th>\n",
       "      <th>TruthLabels</th>\n",
       "      <th>Comments</th>\n",
       "    </tr>\n",
       "  </thead>\n",
       "  <tbody>\n",
       "    <tr>\n",
       "      <th>8783</th>\n",
       "      <td>1/1</td>\n",
       "      <td>1</td>\n",
       "      <td>💉💪</td>\n",
       "    </tr>\n",
       "    <tr>\n",
       "      <th>8784</th>\n",
       "      <td>0/0</td>\n",
       "      <td>0</td>\n",
       "      <td>😐Its gonna be a NO for me.</td>\n",
       "    </tr>\n",
       "    <tr>\n",
       "      <th>8785</th>\n",
       "      <td>0/0</td>\n",
       "      <td>0</td>\n",
       "      <td>🤣 keep your 💩 I already know 3 people who have...</td>\n",
       "    </tr>\n",
       "    <tr>\n",
       "      <th>8786</th>\n",
       "      <td>0/0</td>\n",
       "      <td>0</td>\n",
       "      <td>🤣🤣🤣 \"JUST BECAUSE IT'S SAFE, DOESN'T MEAN IT D...</td>\n",
       "    </tr>\n",
       "    <tr>\n",
       "      <th>8787</th>\n",
       "      <td>0/0</td>\n",
       "      <td>0</td>\n",
       "      <td>🤨there's people already having severe side eff...</td>\n",
       "    </tr>\n",
       "  </tbody>\n",
       "</table>\n",
       "</div>"
      ],
      "text/plain": [
       "     Labels TruthLabels                                           Comments\n",
       "8783    1/1           1                                                 💉💪\n",
       "8784    0/0           0                         😐Its gonna be a NO for me.\n",
       "8785    0/0           0  🤣 keep your 💩 I already know 3 people who have...\n",
       "8786    0/0           0  🤣🤣🤣 \"JUST BECAUSE IT'S SAFE, DOESN'T MEAN IT D...\n",
       "8787    0/0           0  🤨there's people already having severe side eff..."
      ]
     },
     "execution_count": 8,
     "metadata": {
      "tags": []
     },
     "output_type": "execute_result"
    }
   ],
   "source": [
    "\n",
    "X_train_final = df_train_final[\"Comments\"]\n",
    "y_train_final = df_train_final[\"Labels\"]\n",
    "\n",
    "print(len(y_train_final))\n",
    "\n",
    "annotations_list=[]\n",
    "truth_label_list = []\n",
    "for i in range(len(y_train_final)):\n",
    "    annotations_list.append(y_train_final[i].split('/'))\n",
    "    #print(annotations_list)\n",
    "    truth_label_list.append(max(set(annotations_list[i])))\n",
    "\n",
    "#print(truth_label_list)\n",
    "df_train_final.insert(1, 'TruthLabels', truth_label_list)\n",
    "df_train_final.tail()"
   ]
  },
  {
   "cell_type": "markdown",
   "metadata": {
    "id": "UaalpOIwLwot"
   },
   "source": [
    "### Check if both the data sets are Balanced"
   ]
  },
  {
   "cell_type": "code",
   "execution_count": null,
   "metadata": {
    "colab": {
     "base_uri": "https://localhost:8080/",
     "height": 156
    },
    "id": "KJwDCTR9jbU-",
    "outputId": "445c9ef6-99db-4727-b1a3-cfe511e7ff84"
   },
   "outputs": [
    {
     "name": "stdout",
     "output_type": "stream",
     "text": [
      "Frequency of the values in the train dataset\n"
     ]
    },
    {
     "data": {
      "text/plain": [
       "1    4758\n",
       "0    4030\n",
       "Name: TruthLabels, dtype: int64"
      ]
     },
     "metadata": {
      "tags": []
     },
     "output_type": "display_data"
    },
    {
     "name": "stdout",
     "output_type": "stream",
     "text": [
      "Frequency of the values in the test dataset\n"
     ]
    },
    {
     "data": {
      "text/plain": [
       "0    198\n",
       "1    194\n",
       "Name: Labels, dtype: int64"
      ]
     },
     "metadata": {
      "tags": []
     },
     "output_type": "display_data"
    }
   ],
   "source": [
    "# Check if the data set is balanced for both labels\n",
    "\n",
    "print('Frequency of the values in the train dataset')\n",
    "display(df_train_final['TruthLabels'].value_counts() )\n",
    "print('Frequency of the values in the test dataset')\n",
    "display(df_test['Labels'].value_counts() )"
   ]
  },
  {
   "cell_type": "code",
   "execution_count": null,
   "metadata": {
    "colab": {
     "base_uri": "https://localhost:8080/"
    },
    "id": "oiommBm6jd0G",
    "outputId": "ca1d840f-a185-41b4-ca74-7f76f81d7c8b"
   },
   "outputs": [
    {
     "data": {
      "text/plain": [
       "(8788, 392)"
      ]
     },
     "execution_count": 10,
     "metadata": {
      "tags": []
     },
     "output_type": "execute_result"
    }
   ],
   "source": [
    "# Seperating input and output labels for final training and test sets\n",
    "X_train_final = df_train_final[\"Comments\"]\n",
    "y_train_final = df_train_final[\"TruthLabels\"]\n",
    "\n",
    "X_test = df_test[\"Comments\"]\n",
    "y_test = df_test[\"Labels\"]\n",
    "\n",
    "len(X_train_final), len(X_test)"
   ]
  },
  {
   "cell_type": "markdown",
   "metadata": {
    "id": "nVEQMk8rQM64"
   },
   "source": [
    "### Create function to perform pre-processing for the \"Comments\" column that contains raw data.\n",
    "#### 1. Tokenise into alphabetic tokens thus discard numbers and punctuations\n",
    "#### 2. Lemmatize a Sentence with the appropriate POS tag\n",
    "#### 3. Stop words are removed\n",
    "#### 4. min_df = remove tokens that are too rare like less than 20 in this case\n",
    "#### 5. max_df = remove tokens that occur too frequently, 80% in this case"
   ]
  },
  {
   "cell_type": "code",
   "execution_count": null,
   "metadata": {
    "colab": {
     "base_uri": "https://localhost:8080/"
    },
    "id": "XI953942jgLR",
    "outputId": "703fd567-fd7a-4302-a77a-260cc25767bf"
   },
   "outputs": [
    {
     "name": "stdout",
     "output_type": "stream",
     "text": [
      "['a', 'able', 'about', 'absolutely', 'accept', 'accord', 'ache', 'actual', 'actually', 'adverse', 'affect', 'afraid', 'africa', 'after', 'again', 'against', 'age', 'agenda', 'ago', 'agree', 'ahead', 'aid', 'ain', 'alive', 'all', 'allergic', 'allergy', 'allow', 'almost', 'alone', 'along', 'already', 'also', 'alter', 'always', 'amaze', 'america', 'american', 'among', 'amount', 'an', 'and', 'animal', 'another', 'answer', 'anti', 'antibody', 'antivaxxers', 'any', 'anymore', 'anyone', 'anything', 'anyway', 'appointment', 'approval', 'approve', 'are', 'area', 'aren', 'arm', 'around', 'as', 'asap', 'ask', 'astrazeneca', 'at', 'attack', 'autism', 'autoimmune', 'available', 'avoid', 'away', 'awesome', 'b', 'baby', 'back', 'bad', 'base', 'basically', 'be', 'beast', 'because', 'become', 'before', 'begin', 'behind', 'believe', 'benefit', 'best', 'between', 'big', 'bill', 'billion', 'bit', 'bless', 'blood', 'body', 'boost', 'both', 'brain', 'brilliant', 'bring', 'build', 'business', 'but', 'by', 'c', 'call', 'can', 'cancer', 'cannot', 'cant', 'care', 'case', 'catch', 'cause', 'cdc', 'cell', 'certain', 'chance', 'change', 'check', 'chemical', 'child', 'chill', 'china', 'chip', 'choice', 'choose', 'claim', 'clear', 'clinical', 'close', 'cold', 'come', 'comment', 'common', 'community', 'company', 'compare', 'complete', 'completely', 'concern', 'condition', 'consider', 'conspiracy', 'contain', 'continue', 'contract', 'control', 'convince', 'corona', 'coronavirus', 'cost', 'could', 'couldn', 'count', 'country', 'couple', 'course', 'covid', 'covidvaccine', 'crap', 'crazy', 'create', 'cure', 'current', 'currently', 'd', 'dad', 'damage', 'damn', 'dangerous', 'data', 'day', 'dead', 'deadly', 'deal', 'death', 'decade', 'decide', 'decision', 'definitely', 'depopulation', 'develop', 'development', 'didn', 'die', 'different', 'disease', 'distance', 'distancing', 'dna', 'do', 'doctor', 'doesn', 'don', 'dont', 'dos', 'dose', 'doubt', 'down', 'dr', 'drink', 'drug', 'due', 'dumb', 'during', 'each', 'early', 'easy', 'eat', 'effect', 'effective', 'effectiveness', 'efficacy', 'effort', 'either', 'elderly', 'else', 'emergency', 'end', 'enough', 'entire', 'especially', 'etc', 'eu', 'even', 'ever', 'every', 'everyone', 'everything', 'evidence', 'evil', 'exactly', 'except', 'excite', 'excited', 'exist', 'expect', 'experience', 'experiment', 'experimental', 'expert', 'explain', 'explanation', 'expose', 'extremely', 'face', 'fact', 'fail', 'fake', 'fall', 'family', 'fantastic', 'far', 'fast', 'fatigue', 'fda', 'fear', 'feel', 'feeling', 'felt', 'fever', 'few', 'fight', 'finally', 'find', 'fine', 'first', 'flu', 'folk', 'follow', 'food', 'for', 'force', 'forever', 'forget', 'form', 'forward', 'free', 'freedom', 'friday', 'friend', 'from', 'front', 'fuck', 'full', 'fully', 'future', 'gate', 'gene', 'general', 'genetic', 'get', 'give', 'glad', 'go', 'god', 'gonna', 'good', 'got', 'government', 'grateful', 'great', 'group', 'guarantee', 'guess', 'guinea', 'guy', 'had', 'half', 'hand', 'happen', 'happy', 'hard', 'harm', 'harmful', 'hasn', 'hate', 'have', 'haven', 'he', 'head', 'headache', 'health', 'healthcare', 'healthy', 'hear', 'heart', 'hell', 'help', 'her', 'herd', 'here', 'hesitant', 'high', 'highly', 'him', 'his', 'history', 'hold', 'home', 'honestly', 'hop', 'hope', 'hopefully', 'hospital', 'hour', 'how', 'however', 'huge', 'human', 'humanity', 'hundred', 'hurt', 'husband', 'i', 'idea', 'idiot', 'if', 'ill', 'illness', 'im', 'imagine', 'immediately', 'immune', 'immunity', 'important', 'in', 'include', 'increase', 'incredibly', 'individual', 'infect', 'infection', 'info', 'information', 'ingredient', 'inject', 'injection', 'injury', 'instead', 'into', 'involve', 'isn', 'issue', 'it', 'its', 'itself', 'jab', 'jesus', 'job', 'johnson', 'joke', 'just', 'keep', 'kid', 'kill', 'kind', 'know', 'lab', 'large', 'last', 'late', 'later', 'law', 'lead', 'learn', 'least', 'leave', 'less', 'let', 'level', 'liability', 'lie', 'life', 'like', 'likely', 'line', 'list', 'listen', 'literally', 'little', 'live', 'll', 'lockdown', 'lol', 'long', 'longer', 'look', 'lord', 'lose', 'lot', 'love', 'low', 'luck', 'lucky', 'lung', 'm', 'major', 'majority', 'make', 'man', 'mandatory', 'manufacturer', 'many', 'mark', 'market', 'mask', 'mass', 'matter', 'may', 'maybe', 'me', 'mean', 'medical', 'medication', 'medicine', 'medium', 'meet', 'member', 'mention', 'might', 'mild', 'million', 'mind', 'mine', 'minute', 'miracle', 'misinformation', 'miss', 'moderna', 'mom', 'moment', 'money', 'month', 'more', 'morning', 'most', 'mother', 'move', 'mrna', 'much', 'mum', 'must', 'mutate', 'mutation', 'my', 'myself', 'n', 'natural', 'nd', 'nearly', 'necessary', 'need', 'needle', 'negative', 'neither', 'nervous', 'never', 'new', 'news', 'next', 'nh', 'nice', 'night', 'no', 'nobody', 'non', 'none', 'nope', 'nor', 'normal', 'norway', 'not', 'nothing', 'now', 'number', 'nurse', 'of', 'off', 'offer', 'oh', 'ok', 'okay', 'old', 'on', 'once', 'one', 'only', 'open', 'opinion', 'or', 'order', 'other', 'others', 'otherwise', 'our', 'out', 'over', 'own', 'oxford', 'pain', 'pandemic', 'parent', 'part', 'pas', 'pass', 'past', 'patient', 'pay', 'people', 'per', 'percent', 'perfectly', 'perhaps', 'period', 'person', 'personal', 'personally', 'pfizer', 'pharma', 'pharmaceutical', 'phase', 'pig', 'place', 'plan', 'play', 'please', 'plus', 'point', 'poison', 'polio', 'politician', 'poor', 'population', 'positive', 'possible', 'possibly', 'post', 'potential', 'ppl', 'pray', 'pressure', 'pretty', 'prevent', 'priority', 'pro', 'probably', 'problem', 'process', 'produce', 'product', 'production', 'professional', 'program', 'proof', 'propaganda', 'properly', 'protect', 'protection', 'protein', 'proud', 'prove', 'provide', 'public', 'push', 'put', 'question', 'quick', 'quickly', 'quite', 'race', 'rare', 'rat', 'rate', 'rather', 're', 'react', 'reaction', 'read', 'ready', 'real', 'really', 'reason', 'receive', 'recently', 'recommend', 'recover', 'recovery', 'reduce', 'refuse', 'regard', 'release', 'relief', 'remember', 'report', 'require', 'research', 'researcher', 'response', 'responsible', 'rest', 'result', 'rid', 'right', 'risk', 'rna', 'roll', 'rule', 'run', 'rush', 'rushed', 's', 'sad', 'safe', 'safety', 'same', 'sars', 'save', 'say', 'scam', 'scar', 'scared', 'scary', 'school', 'science', 'scientific', 'scientist', 'second', 'see', 'seem', 'self', 'sell', 'sense', 'serious', 'seriously', 'several', 'severe', 'share', 'she', 'sheep', 'shit', 'short', 'shot', 'should', 'shouldn', 'show', 'sick', 'side', 'sign', 'simple', 'simply', 'since', 'single', 'site', 'situation', 'skeptical', 'slow', 'small', 'smart', 'so', 'social', 'society', 'solution', 'some', 'someone', 'something', 'soon', 'sooner', 'sore', 'sorry', 'sort', 'sound', 'speak', 'speed', 'spike', 'spread', 'st', 'staff', 'stand', 'start', 'state', 'stay', 'step', 'stick', 'still', 'stop', 'story', 'strain', 'strong', 'study', 'stuff', 'stupid', 'such', 'sue', 'suffer', 'super', 'support', 'suppose', 'sure', 'survival', 'survive', 'symptom', 'system', 't', 'take', 'talk', 'teacher', 'technology', 'tell', 'ten', 'term', 'test', 'testing', 'th', 'than', 'thank', 'thankful', 'thanks', 'that', 'thats', 'the', 'their', 'them', 'themselves', 'then', 'theory', 'therapy', 'there', 'therefore', 'these', 'they', 'thing', 'think', 'third', 'this', 'those', 'though', 'thousand', 'three', 'through', 'thursday', 'till', 'time', 'to', 'today', 'together', 'tomorrow', 'too', 'top', 'totally', 'track', 'transmission', 'travel', 'treat', 'treatment', 'trial', 'true', 'trump', 'trust', 'truth', 'try', 'turn', 'two', 'type', 'u', 'uk', 'under', 'understand', 'unknown', 'unless', 'untested', 'until', 'up', 'update', 'us', 'use', 'usually', 'v', 'vaccinate', 'vaccinated', 'vaccination', 'vaccine', 'variant', 'vax', 'vaxx', 'vaxxer', 'vaxxers', 've', 'very', 'video', 'virus', 'vitamin', 'volunteer', 'vulnerable', 'wait', 'wake', 'walk', 'wanna', 'want', 'war', 'wasn', 'watch', 'water', 'way', 'we', 'weak', 'wear', 'week', 'well', 'what', 'whatever', 'when', 'where', 'whether', 'which', 'while', 'who', 'whole', 'why', 'wife', 'will', 'willing', 'win', 'wish', 'with', 'within', 'without', 'woman', 'wonder', 'wont', 'word', 'work', 'worker', 'world', 'worried', 'worry', 'worth', 'would', 'wouldn', 'wow', 'wrong', 'y', 'yeah', 'year', 'yes', 'yesterday', 'yet', 'you', 'young', 'your', 'yourself', 'zero', 'zombie']\n",
      "\n",
      "\n",
      "             TF-IDF\n",
      "anymore   0.441201\n",
      "exist     0.421237\n",
      "natural   0.383196\n",
      "since     0.343922\n",
      "immunity  0.331915\n",
      "protect   0.315001\n",
      "us        0.282769\n",
      "do        0.206550\n",
      "not       0.175399\n",
      "properly  0.000000\n"
     ]
    }
   ],
   "source": [
    "## Preprocessing begins ##\n",
    "# 1. Tokenise into alphabetic tokens thus discard numbers and punctuations\n",
    "# 2. Lemmatize a Sentence with the appropriate POS tag\n",
    "\n",
    "def preprocessor(text):\n",
    "    # 1. Tokenise to alphabetic tokens\n",
    "    tokeniser = RegexpTokenizer(r'[A-Za-z]+')\n",
    "    tokens = tokeniser.tokenize(text)\n",
    "    \n",
    "    # 2. POS tagging for adjective, nouns, adverb and verbs\n",
    "    pos_map = {'J': 'a', 'N': 'n', 'R': 'r', 'V': 'v'}\n",
    "    pos_tags = nltk.pos_tag(tokens)\n",
    "    \n",
    "    # 3. Lowercase and lemmatise \n",
    "    lemmatiser = WordNetLemmatizer()\n",
    "    tokens = [lemmatiser.lemmatize(i.lower(), pos=pos_map.get(j[0], 'v')) for i, j in pos_tags]\n",
    "    return tokens\n",
    "\n",
    "## Preprocessing continued ##\n",
    "# 3. Stop words are removed\n",
    "# 4. min_df = remove tokens that are too rare like less than 20 in this case\n",
    "# 5. max_df = remove tokens that occur too freuently, 80% in this case\n",
    "vectorizer = TfidfVectorizer(stop_words=\"english\", analyzer=preprocessor, min_df=20, max_df = 0.8,max_features=1000, decode_error=\"ignore\")\n",
    "\n",
    "X_train_vectorized = vectorizer.fit_transform(X_train_final)\n",
    "features = vectorizer.get_feature_names()\n",
    "print(features)\n",
    "\n",
    "df = pd.DataFrame(X_train_vectorized[1].T.todense(), index=features, columns=[\"TF-IDF\"])\n",
    "df = df.sort_values('TF-IDF', ascending=False)\n",
    "print (\"\\n\\n\",df.head(10))"
   ]
  },
  {
   "cell_type": "markdown",
   "metadata": {
    "id": "UGVuj361R-h6"
   },
   "source": [
    "### Evaluate Multinomial Naive Bayes algorithm as a baseline because of its simplicity.\n",
    "### Later evaluated Random forest and Support vector machine classifiers\n",
    "#### We ran randomForest with different max_depths and arrived at best score at max_depth=5.\n",
    "#### For SVC we did tuning using the kernels values as \"linear\",\"poly\" and \"rbf\" and got best score with \"rbf\"\n",
    "#### The C and gamma values didnt have much affect on the accuracy hence default values were used."
   ]
  },
  {
   "cell_type": "code",
   "execution_count": null,
   "metadata": {
    "colab": {
     "base_uri": "https://localhost:8080/"
    },
    "id": "FnK8eMtPjq5F",
    "outputId": "4ce37546-06ad-4940-b9fa-7c708df26fe6"
   },
   "outputs": [
    {
     "name": "stdout",
     "output_type": "stream",
     "text": [
      "[('mnb_tfidf', 0.7802685480200273), ('rfc_tfidf', 0.6100364132908511), ('svc_tfidf', 0.7931269913518434)]\n"
     ]
    }
   ],
   "source": [
    "# Evaluate Multinomial Naive Bayes(as baseline), Random forest and Support Vector Machine classifier\n",
    "mnb_tfidf = Pipeline([\n",
    "        (\"tfidf_vectorizer\", TfidfVectorizer(stop_words=\"english\", analyzer=preprocessor, max_features=10000)),\n",
    "        (\"multinomial naive bayes\", MultinomialNB())])\n",
    "\n",
    "#random Forest with max_depth=5\n",
    "rfc_tfidf = Pipeline([\n",
    "        (\"tfidf_vectorizer\", TfidfVectorizer(stop_words=\"english\", analyzer=preprocessor, max_features=10000)),\n",
    "        (\"random forest\", RandomForestClassifier(max_depth=5))])\n",
    "\n",
    "# SVC with kernal=\"rbf\"\n",
    "svc_tfidf = Pipeline([\n",
    "        (\"tfidf_vectorizer\", TfidfVectorizer(stop_words=\"english\", analyzer=preprocessor, max_features=10000)),\n",
    "        (\"linear svc\", SVC(kernel=\"rbf\"))])\n",
    "   \n",
    "all_models = [(\"mnb_tfidf\", mnb_tfidf),(\"rfc_tfidf\", rfc_tfidf),(\"svc_tfidf\", svc_tfidf)]\n",
    " \n",
    "scores = [(name, cross_val_score(model, X_train_final, y_train_final, cv=2).mean()) for name, model in all_models]\n",
    "print(scores)  "
   ]
  },
  {
   "cell_type": "markdown",
   "metadata": {
    "id": "59Sqzi82Osqj"
   },
   "source": [
    "### SVC performed better than randomForest and the baseline model on training set hence using the same. After evaluating the test data on SVC with the kernel as rbf we get a accuracy score of ~90%"
   ]
  },
  {
   "cell_type": "code",
   "execution_count": null,
   "metadata": {
    "colab": {
     "base_uri": "https://localhost:8080/"
    },
    "id": "7i3CNYT5jr3L",
    "outputId": "086a8a17-8ab6-4746-b83e-24836c7b6284"
   },
   "outputs": [
    {
     "name": "stdout",
     "output_type": "stream",
     "text": [
      "0.8954081632653061\n",
      "              precision    recall  f1-score   support\n",
      "\n",
      "           0       0.93      0.85      0.89       198\n",
      "           1       0.86      0.94      0.90       194\n",
      "\n",
      "    accuracy                           0.90       392\n",
      "   macro avg       0.90      0.90      0.90       392\n",
      "weighted avg       0.90      0.90      0.90       392\n",
      "\n"
     ]
    }
   ],
   "source": [
    "# Evaluating Test set on SVC \n",
    "model = svc_tfidf\n",
    "model.fit(X_train_final, y_train_final)\n",
    "y_pred = model.predict(X_test)\n",
    "\n",
    "print(accuracy_score(y_test.astype(str), y_pred.astype(str)))\n",
    "print(classification_report(y_test.astype(str), y_pred.astype(str)))\n"
   ]
  },
  {
   "cell_type": "markdown",
   "metadata": {
    "id": "u5xJ2GXFjvbI"
   },
   "source": [
    "### The numbers shown in dark blue cell below are the **True positives** and **True negatives** (0s and 1s) where the predicted values are same as the truth labels. The numbers in light blue cell are the ones which represent **False positives** and **False Negatives** (where the truth and predicted values differ).\n",
    "\n",
    "#### After training with SVC the accuracy of test data is ~90% whjch means that 10% of the labels are mis-classified. That is the labels with 0s were actually 1s and vice versa.\n",
    "\n"
   ]
  },
  {
   "cell_type": "code",
   "execution_count": null,
   "metadata": {
    "colab": {
     "base_uri": "https://localhost:8080/",
     "height": 295
    },
    "id": "uRHOspkkjxJK",
    "outputId": "1fb64aaa-2046-429c-f784-0091fad86129"
   },
   "outputs": [
    {
     "data": {
      "image/png": "[encoded data removed]",
      "text/plain": [
       "<Figure size 432x288 with 2 Axes>"
      ]
     },
     "metadata": {
      "needs_background": "light",
      "tags": []
     },
     "output_type": "display_data"
    }
   ],
   "source": [
    "disp = plot_confusion_matrix(model, X_test.astype(str), y_test.astype(str), cmap=plt.cm.Blues)\n",
    "disp.ax_.set_title(\"Confusion Matrix\")\n",
    "plt.show()\n"
   ]
  },
  {
   "cell_type": "code",
   "execution_count": null,
   "metadata": {
    "id": "Yv0jmVLmO73-"
   },
   "outputs": [],
   "source": []
  }
 ],
 "metadata": {
  "colab": {
   "collapsed_sections": [],
   "name": "ML_Assignment3.ipynb",
   "provenance": []
  },
  "kernelspec": {
   "display_name": "Python 3",
   "language": "python",
   "name": "python3"
  },
  "language_info": {
   "codemirror_mode": {
    "name": "ipython",
    "version": 3
   },
   "file_extension": ".py",
   "mimetype": "text/x-python",
   "name": "python",
   "nbconvert_exporter": "python",
   "pygments_lexer": "ipython3",
   "version": "3.8.3"
  }
 },
 "nbformat": 4,
 "nbformat_minor": 1
}
